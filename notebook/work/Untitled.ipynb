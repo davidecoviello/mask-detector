{
 "cells": [
  {
   "cell_type": "code",
   "execution_count": 1,
   "id": "ee0ec0de-acd6-4986-8a99-b57fe2d21466",
   "metadata": {},
   "outputs": [],
   "source": [
    "from PIL import Image\n",
    "import os"
   ]
  },
  {
   "cell_type": "code",
   "execution_count": 2,
   "id": "a6c71091-61cd-4081-8cc8-dac838bd66ac",
   "metadata": {},
   "outputs": [],
   "source": [
    "BASE_DIR = '../../dataset/'\n",
    "DATASET_DIR = BASE_DIR + 'Dataset/'\n",
    "IMG_HEIGHT = 256\n",
    "IMG_WIDTH = 256"
   ]
  },
  {
   "cell_type": "code",
   "execution_count": 3,
   "id": "51dc366c-ea50-4c44-804a-90be4fff16eb",
   "metadata": {},
   "outputs": [],
   "source": [
    "def convert_images_to_jpeg(s_dir, img_width, img_height):\n",
    "    s_list= os.listdir(s_dir)\n",
    "    for klass in s_list:\n",
    "        klass_path=os.path.join (s_dir, klass)\n",
    "        print ('processing class directory ', klass)\n",
    "        if os.path.isdir(klass_path):\n",
    "            file_list=os.listdir(klass_path)\n",
    "            for f in file_list:               \n",
    "                f_path=os.path.join(klass_path,f)\n",
    "                index=f_path.rfind('.')\n",
    "                f_path_no_ext=f_path[:index].lower()\n",
    "                img = Image.open(f_path)\n",
    "                img = img.convert('RGB')\n",
    "                newsize = (img_width, img_height)\n",
    "                img = img.resize(newsize)\n",
    "                img.save(f_path_no_ext+'.jpeg')\n",
    "\n",
    "def remove_jpg(s_dir):\n",
    "    s_list= os.listdir(s_dir)\n",
    "    for clazz in s_list:\n",
    "        clazz_path=os.path.join(s_dir, clazz)\n",
    "        print(clazz_path)\n",
    "        [os.remove(clazz_path+'/'+image) for image in os.listdir(clazz_path) if (clazz_path+'/'+image).endswith('.jpg')]\n"
   ]
  },
  {
   "cell_type": "code",
   "execution_count": 7,
   "id": "1737722f-914f-4346-9a30-cb8b9a494a0d",
   "metadata": {},
   "outputs": [
    {
     "name": "stdout",
     "output_type": "stream",
     "text": [
      "../../dataset/Dataset/with_mask\n",
      "../../dataset/Dataset/without_mask\n"
     ]
    }
   ],
   "source": [
    "source_dir =r\"{}\".format(DATASET_DIR)\n",
    "#convert_images_to_jpeg(source_dir, IMG_WIDTH, IMG_HEIGHT)\n",
    "remove_jpg(source_dir)"
   ]
  },
  {
   "cell_type": "code",
   "execution_count": null,
   "id": "ba9cc5a0-733e-490d-ae5a-d32faa7b5bce",
   "metadata": {},
   "outputs": [],
   "source": []
  },
  {
   "cell_type": "code",
   "execution_count": null,
   "id": "e73af325-02c8-4998-9af4-fbe600d69711",
   "metadata": {},
   "outputs": [],
   "source": []
  },
  {
   "cell_type": "code",
   "execution_count": null,
   "id": "b391d6e2-bcc8-4b0b-8f9c-752e49c1981b",
   "metadata": {},
   "outputs": [],
   "source": []
  },
  {
   "cell_type": "code",
   "execution_count": null,
   "id": "c0c9606e-5dc5-413d-b8d1-1990753780d7",
   "metadata": {},
   "outputs": [],
   "source": []
  },
  {
   "cell_type": "code",
   "execution_count": null,
   "id": "8b6c4b3e-2044-42e0-8f3d-f65ec207c2be",
   "metadata": {},
   "outputs": [],
   "source": []
  },
  {
   "cell_type": "code",
   "execution_count": null,
   "id": "08258d73-dbc9-4f2d-826d-6164967b9e09",
   "metadata": {},
   "outputs": [],
   "source": []
  },
  {
   "cell_type": "code",
   "execution_count": null,
   "id": "701ad009-ae83-498c-aa46-3cf844f11447",
   "metadata": {},
   "outputs": [],
   "source": []
  }
 ],
 "metadata": {
  "kernelspec": {
   "display_name": "computer-vision",
   "language": "python",
   "name": "computer-vision"
  },
  "language_info": {
   "codemirror_mode": {
    "name": "ipython",
    "version": 3
   },
   "file_extension": ".py",
   "mimetype": "text/x-python",
   "name": "python",
   "nbconvert_exporter": "python",
   "pygments_lexer": "ipython3",
   "version": "3.9.5"
  }
 },
 "nbformat": 4,
 "nbformat_minor": 5
}
