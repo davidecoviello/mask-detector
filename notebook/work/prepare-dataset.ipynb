{
 "cells": [
  {
   "cell_type": "markdown",
   "id": "903e5054",
   "metadata": {},
   "source": [
    "# Dataset Mask Detector\n",
    "\n",
    "This dataset will contain 3 directories:\n",
    "- correctly-masked\n",
    "- uncorrectly-masked\n",
    "- not-masked\n",
    "\n",
    "### correctly-masked\n",
    "This directory will contain n images of people correctly wearing a face mask, with a name from 0 to n\n",
    "\n",
    "### uncorrectly-masked\n",
    "This directory will contain n images of people uncorrectly wearing a face mask, with a name from 0 to n\n",
    "\n",
    "### not-masked\n",
    "This directory will contain n images of people not wearing at all a face mask, with a name from 0 to n\n",
    "\n",
    "Be sure that each of these directories will contain approximately the same number of examples\n",
    "\n",
    "## Data available\n",
    "\n",
    "Currently we have 2 data sources:\n",
    "- with-without.zip\n",
    "- incorrectly_masked.zip\n",
    "\n",
    "### with-without.zip\n",
    "This archive contains a directory called Dataset with 2 subdirectories: \n",
    "- with_mask: containing 5522 images\n",
    "- without_mask: containing 5522 images\n",
    "\n",
    "### incorrectly_masked.zip\n",
    "This archive contains 35 subdirectories, with a name from 00000 to 34000, each containing about 950 images, for a total of 33589 examples"
   ]
  },
  {
   "cell_type": "code",
   "execution_count": null,
   "id": "68c808f2",
   "metadata": {},
   "outputs": [],
   "source": [
    "import os\n",
    "import cv2\n",
    "import shutil\n",
    "import PIL\n",
    "import random\n",
    "from pathlib import Path\n",
    "from PIL import Image\n",
    "import numpy as np\n",
    "import matplotlib.pyplot as plt"
   ]
  },
  {
   "cell_type": "code",
   "execution_count": null,
   "id": "7edad3c0",
   "metadata": {},
   "outputs": [],
   "source": [
    "BASE_DIR = '../../dataset/'\n",
    "NO_MASK_DIR = BASE_DIR + 'Dataset/without_mask/'\n",
    "CORRECT_MASK_DIR = BASE_DIR + 'Dataset/with_mask/'\n",
    "UNCORRECT_MASK_DIR = BASE_DIR + 'incorrectly_masked/'\n",
    "ALT_CORRECT_MASK_DIR = BASE_DIR + 'correctly_masked/'\n",
    "DATASET_DIR = BASE_DIR + 'final_dataset/'\n",
    "DATA_DIR = Path(DATASET_DIR)\n",
    "IMG_HEIGHT = 256\n",
    "IMG_WIDTH = 256"
   ]
  },
  {
   "cell_type": "raw",
   "id": "24339b72",
   "metadata": {},
   "source": [
    "# make destination directory and subdirectories if not already exist\n",
    "Path(DATASET_DIR).mkdir(parents=True, exist_ok=True)\n",
    "Path(DATASET_DIR+'not-masked').mkdir(parents=True, exist_ok=True)\n",
    "Path(DATASET_DIR+'correctly-masked').mkdir(parents=True, exist_ok=True)\n",
    "Path(DATASET_DIR+'uncorrectly-masked').mkdir(parents=True, exist_ok=True)\n",
    "# copy images from source directories to final directory\n",
    "[shutil.copy(NO_MASK_DIR+image, DATASET_DIR+'not-masked/') for image in os.listdir(NO_MASK_DIR)]\n",
    "[shutil.copy(CORRECT_MASK_DIR+image, DATASET_DIR+'correctly-masked/') for image in os.listdir(CORRECT_MASK_DIR)]\n",
    "# in order to have the same number of images, only 7 subdirectories will go\n",
    "for subdir in os.listdir(UNCORRECT_MASK_DIR)[1:7]:\n",
    "    full_subdir = UNCORRECT_MASK_DIR + subdir + '/'\n",
    "    [shutil.copy(full_subdir+image, DATASET_DIR+'uncorrectly-masked/') for image in os.listdir(full_subdir)]"
   ]
  },
  {
   "cell_type": "code",
   "execution_count": null,
   "id": "c402e5ce",
   "metadata": {},
   "outputs": [],
   "source": [
    "# make destination directory and subdirectories if not already exist\n",
    "Path(DATASET_DIR).mkdir(parents=True, exist_ok=True)\n",
    "Path(DATASET_DIR+'not-masked').mkdir(parents=True, exist_ok=True)\n",
    "Path(DATASET_DIR+'correctly-masked').mkdir(parents=True, exist_ok=True)\n",
    "Path(DATASET_DIR+'uncorrectly-masked').mkdir(parents=True, exist_ok=True)\n",
    "# copy images from source directories to final directory\n",
    "[shutil.copy(NO_MASK_DIR+image, DATASET_DIR+'not-masked/') for image in os.listdir(NO_MASK_DIR)]\n",
    "# in order to have the same number of images, only 7 subdirectories will go\n",
    "for subdir in os.listdir(UNCORRECT_MASK_DIR)[1:7]:\n",
    "    full_subdir = UNCORRECT_MASK_DIR + subdir + '/'\n",
    "    [shutil.copy(full_subdir+image, DATASET_DIR+'uncorrectly-masked/') for image in os.listdir(full_subdir)]\n",
    "for subdir in os.listdir(ALT_CORRECT_MASK_DIR)[1:7]:\n",
    "    full_subdir = ALT_CORRECT_MASK_DIR + subdir + '/'\n",
    "    [shutil.copy(full_subdir+image, DATASET_DIR+'correctly-masked/') for image in os.listdir(full_subdir)]"
   ]
  },
  {
   "cell_type": "code",
   "execution_count": null,
   "id": "59518b2f",
   "metadata": {},
   "outputs": [],
   "source": [
    "def convert_images_to_jpeg(s_dir, img_width, img_height):\n",
    "    s_list= os.listdir(s_dir)\n",
    "    for klass in s_list:\n",
    "        klass_path=os.path.join (s_dir, klass)\n",
    "        print ('processing class directory ', klass)\n",
    "        if os.path.isdir(klass_path):\n",
    "            file_list=os.listdir(klass_path)\n",
    "            for f in file_list:               \n",
    "                f_path=os.path.join(klass_path,f)\n",
    "                index=f_path.rfind('.')\n",
    "                f_path_no_ext=f_path[:index].lower()\n",
    "                img = Image.open(f_path)\n",
    "                img = img.convert('RGB')\n",
    "                newsize = (img_width, img_height)\n",
    "                img = img.resize(newsize)\n",
    "                img.save(f_path_no_ext+'.jpeg')\n",
    "\n",
    "def remove_jpg(s_dir):\n",
    "    s_list= os.listdir(s_dir)\n",
    "    for clazz in s_list:\n",
    "        clazz_path=os.path.join(s_dir, clazz)\n",
    "        print(clazz_path)\n",
    "        [os.remove(clazz_path+'/'+image) for image in os.listdir(clazz_path) if (clazz_path+'/'+image).endswith('.jpg')]\n",
    "\n",
    "source_dir =r\"{}\".format(DATASET_DIR)\n",
    "convert_images_to_jpeg(source_dir, IMG_WIDTH, IMG_HEIGHT)\n",
    "remove_jpg(source_dir)"
   ]
  },
  {
   "cell_type": "code",
   "execution_count": null,
   "id": "008751cc",
   "metadata": {},
   "outputs": [],
   "source": [
    "corr_mask_images = list(DATA_DIR.glob(\"correctly-masked/*\"))\n",
    "PIL.Image.open(str(corr_mask_images[random.randint(0, len(corr_mask_images))]))"
   ]
  },
  {
   "cell_type": "code",
   "execution_count": null,
   "id": "73248753",
   "metadata": {},
   "outputs": [],
   "source": [
    "uncorr_mask_images = list(DATA_DIR.glob(\"uncorrectly-masked/*\"))\n",
    "PIL.Image.open(str(uncorr_mask_images[random.randint(0, len(uncorr_mask_images))]))"
   ]
  },
  {
   "cell_type": "code",
   "execution_count": null,
   "id": "6ca0a7af",
   "metadata": {},
   "outputs": [],
   "source": [
    "no_mask_images = list(DATA_DIR.glob(\"not-masked/*\"))\n",
    "PIL.Image.open(str(no_mask_images[random.randint(0, len(no_mask_images))]))"
   ]
  },
  {
   "cell_type": "raw",
   "id": "d3c75837",
   "metadata": {},
   "source": [
    "# Using an alternative dataset in order to get images of people waring mask only in the correct way\n",
    "for subdir in os.listdir(ALT_CORRECT_MASK_DIR)[1:7]:\n",
    "    full_subdir = ALT_CORRECT_MASK_DIR + subdir + '/'\n",
    "    [shutil.copy(full_subdir+image, BASE_DIR+'alt_correctly-masked/') for image in os.listdir(full_subdir)]"
   ]
  }
 ],
 "metadata": {
  "kernelspec": {
   "display_name": "computer-vision",
   "language": "python",
   "name": "computer-vision"
  }
 },
 "nbformat": 4,
 "nbformat_minor": 5
}
