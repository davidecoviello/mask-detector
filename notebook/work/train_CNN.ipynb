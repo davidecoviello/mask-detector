{
 "cells": [
  {
   "cell_type": "code",
   "execution_count": 38,
   "id": "880ac4c9",
   "metadata": {},
   "outputs": [],
   "source": [
    "import os\n",
    "import cv2\n",
    "import shutil\n",
    "import PIL\n",
    "import random\n",
    "import time\n",
    "import tensorflow as tf\n",
    "from tensorflow import keras\n",
    "from tensorflow.keras import layers\n",
    "from tensorflow.keras.models import Sequential\n",
    "from tensorflow.keras.preprocessing.image import ImageDataGenerator\n",
    "from sklearn.metrics import classification_report,confusion_matrix\n",
    "from sklearn import model_selection\n",
    "from pathlib import Path\n",
    "from PIL import Image\n",
    "from tqdm import tqdm\n",
    "import numpy as np\n",
    "import matplotlib.pyplot as plt"
   ]
  },
  {
   "cell_type": "raw",
   "id": "059e3ae2-e14b-4dfd-8cc2-4caed3804d67",
   "metadata": {},
   "source": [
    "# COLAB VARIABLES\n",
    "DRIVE_BASE_DIR = '/content/drive/MyDrive/visione-percezione/progetto/'\n",
    "BASE_DIR = '/content/dataset/'\n",
    "SAVED_MODEL_DIR = DRIVE_BASE_DIR + 'model'"
   ]
  },
  {
   "cell_type": "code",
   "execution_count": 2,
   "id": "ad17b8ed-39e0-49a1-97b3-d9b7f5941fa6",
   "metadata": {},
   "outputs": [],
   "source": [
    "# LOCAL VARIABLES\n",
    "BASE_DIR = '../../dataset/'\n",
    "SAVED_MODEL_DIR = BASE_DIR + '../model'"
   ]
  },
  {
   "cell_type": "code",
   "execution_count": 3,
   "id": "20c3aa68",
   "metadata": {},
   "outputs": [],
   "source": [
    "#DATASET_DIR = BASE_DIR + 'final_dataset/'\n",
    "DATASET_DIR = BASE_DIR + 'dataset_nuovo/'\n",
    "DATA_DIR = Path(DATASET_DIR)\n",
    "IMG_HEIGHT = 256\n",
    "IMG_WIDTH = 256\n",
    "IMG_SIZE = 256"
   ]
  },
  {
   "cell_type": "raw",
   "id": "c4b470ae",
   "metadata": {},
   "source": [
    "# utile per utilizzare COLAB\n",
    "zip_path = DRIVE_BASE_DIR + 'final_dataset.zip'\n",
    "with zipfile.ZipFile(zip_path,\"r\") as zip_ref:\n",
    "    zip_ref.extractall(BASE_DIR)\n",
    "\n",
    "shutil.rmtree(BASE_DIR+'__MACOSX')"
   ]
  },
  {
   "cell_type": "code",
   "execution_count": 4,
   "id": "39b3f928",
   "metadata": {},
   "outputs": [],
   "source": [
    "EPOCHS = 50\n",
    "BATCH_SIZE = 128"
   ]
  },
  {
   "cell_type": "code",
   "execution_count": 5,
   "id": "96b363bb-2536-4056-a5a4-f46ccdd5a8f6",
   "metadata": {},
   "outputs": [],
   "source": [
    "def get_dataset_partitions_tf(ds, ds_size, train_split=0.6, val_split=0.2, test_split=0.2, shuffle=True, shuffle_size=10000):\n",
    "    assert (train_split + test_split + val_split) == 1\n",
    "    \n",
    "    if shuffle:\n",
    "        # Specify seed to always have the same split distribution between runs\n",
    "        ds = ds.shuffle(shuffle_size, seed=12)\n",
    "    \n",
    "    train_size = int(train_split * ds_size)\n",
    "    val_size = int(val_split * ds_size)\n",
    "    \n",
    "    train_ds = ds.take(train_size)    \n",
    "    val_ds = ds.skip(train_size).take(val_size)\n",
    "    test_ds = ds.skip(train_size).skip(val_size)\n",
    "    \n",
    "    return train_ds, val_ds, test_ds"
   ]
  },
  {
   "cell_type": "code",
   "execution_count": 57,
   "id": "386e8586-334a-43d6-a4e2-72598e566619",
   "metadata": {},
   "outputs": [
    {
     "name": "stdout",
     "output_type": "stream",
     "text": [
      "Found 13586 files belonging to 3 classes.\n",
      "[DEBUG] - ds_size: 13586\n",
      "[INFO] - Class names: ['correctly-masked', 'not-masked', 'uncorrectly-masked']\n"
     ]
    }
   ],
   "source": [
    "ds = tf.keras.preprocessing.image_dataset_from_directory(\n",
    "    DATA_DIR,\n",
    "    image_size = (IMG_HEIGHT, IMG_WIDTH),\n",
    "    seed = 123)\n",
    "#ds_size = tf.data.experimental.cardinality(ds)\n",
    "ds_size = 13586\n",
    "print(f'[DEBUG] - ds_size: {ds_size}')\n",
    "#train_ds, val_ds, test_ds = get_dataset_partitions_tf(ds, ds_size)\n",
    "class_names = ds.class_names\n",
    "ds = ds.shuffle(10000, seed=12)\n",
    "print(f'[INFO] - Class names: {class_names}')"
   ]
  },
  {
   "cell_type": "raw",
   "id": "c2ab1170-60ce-44bc-b4e4-3c8601646255",
   "metadata": {},
   "source": [
    "train_ds = tf.keras.preprocessing.image_dataset_from_directory(\n",
    "    DATA_DIR,\n",
    "    batch_size = BATCH_SIZE,\n",
    "    image_size = (IMG_HEIGHT, IMG_WIDTH),\n",
    "    validation_split = 0.2,\n",
    "    seed = 123,\n",
    "    subset = 'training')\n",
    "\n",
    "val_ds = tf.keras.preprocessing.image_dataset_from_directory(\n",
    "    DATA_DIR,\n",
    "    seed = 123,\n",
    "    batch_size = BATCH_SIZE,\n",
    "    image_size = (IMG_HEIGHT, IMG_WIDTH),\n",
    "    validation_split = 0.2,\n",
    "    subset = \"validation\"\n",
    ")\n",
    "class_names = train_ds.class_names\n",
    "print(class_names)"
   ]
  },
  {
   "cell_type": "code",
   "execution_count": 58,
   "id": "e8fd0568-e24a-4a34-af10-375b7412e306",
   "metadata": {},
   "outputs": [
    {
     "name": "stderr",
     "output_type": "stream",
     "text": [
      "13586it [00:34, 393.24it/s]\n"
     ]
    }
   ],
   "source": [
    "x = []\n",
    "y = []\n",
    "for image, label in tqdm(ds.unbatch().take(-1)):\n",
    "    img = image.numpy().astype(\"uint8\")\n",
    "    x.append(img)\n",
    "    label = label.numpy()\n",
    "    y.append(label)\n",
    "\n",
    "x = np.array(x)\n",
    "y = np.array(y)"
   ]
  },
  {
   "cell_type": "code",
   "execution_count": 67,
   "id": "8ab340f6-2980-43d8-ad96-133027d2a4c9",
   "metadata": {},
   "outputs": [],
   "source": [
    "x_train, x_val_test, y_train, y_val_test = model_selection.train_test_split(x, y, test_size=0.4, random_state=42)\n",
    "x_val, x_test, y_val, y_test = model_selection.train_test_split(x_val_test, y_val_test, test_size=0.5, random_state=42)"
   ]
  },
  {
   "cell_type": "raw",
   "id": "b2719b32-8549-4585-b8c9-a2fe01a08249",
   "metadata": {},
   "source": [
    "x_train = []\n",
    "y_train = []\n",
    "for image, label in tqdm(train_ds.unbatch().take(-1)):\n",
    "    img = image.numpy().astype(\"uint8\")\n",
    "    x_train.append(img)\n",
    "    label = label.numpy()\n",
    "    y_train.append(label)\n",
    "    \n",
    "x_val = []\n",
    "y_val = []\n",
    "for image, label in tqdm(val_ds.unbatch().take(-1)):\n",
    "    img = image.numpy().astype(\"uint8\")\n",
    "    x_val.append(img)\n",
    "    label = label.numpy()\n",
    "    y_val.append(label)\n",
    "    \n",
    "x_test = []\n",
    "y_test = []\n",
    "for image, label in tqdm(test_ds.unbatch().take(-1)):\n",
    "    img = image.numpy().astype(\"uint8\")\n",
    "    x_test.append(img)\n",
    "    label = label.numpy()\n",
    "    y_test.append(label)"
   ]
  },
  {
   "cell_type": "raw",
   "id": "50f8b32a-7056-43f0-bcc4-facb8840fc8e",
   "metadata": {},
   "source": [
    "x_train = np.array(x_train)\n",
    "y_train = np.array(y_train)\n",
    "x_val = np.array(x_val)\n",
    "y_val = np.array(y_val)\n",
    "x_test = np.array(x_test)\n",
    "y_test = np.array(y_test)"
   ]
  },
  {
   "cell_type": "raw",
   "id": "1457fb07-eab9-4446-a6b5-7a977d928c8d",
   "metadata": {},
   "source": [
    "plt.figure(figsize=(10, 10))\n",
    "i = 0\n",
    "for images, labels in ds.take(9):\n",
    "    #for i in range(9):\n",
    "        ax = plt.subplot(3, 3, i + 1)\n",
    "        #plt.imshow(images[i].numpy().astype(\"uint8\"))\n",
    "        #plt.imshow(images[i])\n",
    "        #plt.title(class_names[labels[i]])\n",
    "        plt.imshow(images)\n",
    "        plt.title(class_names[labels])\n",
    "        plt.axis(\"off\")\n",
    "        i = i + 1"
   ]
  },
  {
   "cell_type": "raw",
   "id": "170334ef-ffec-4a2b-ba04-9e79762a4285",
   "metadata": {},
   "source": [
    "data_augmentation = keras.Sequential(\n",
    "  [\n",
    "    layers.experimental.preprocessing.RandomFlip(\"horizontal\", \n",
    "                                                 input_shape=(IMG_HEIGHT, \n",
    "                                                              IMG_WIDTH,\n",
    "                                                              3)),\n",
    "    layers.experimental.preprocessing.RandomRotation(0.1),\n",
    "    layers.experimental.preprocessing.RandomZoom(0.1),\n",
    "  ]\n",
    ")"
   ]
  },
  {
   "cell_type": "raw",
   "id": "82704016",
   "metadata": {},
   "source": [
    "plt.figure(figsize=(10, 10))\n",
    "for images, _ in train_ds.take(random.randint(1, 100)):\n",
    "    for i in range(9):\n",
    "        augmented_images = data_augmentation(images)\n",
    "        ax = plt.subplot(3, 3, i + 1)\n",
    "        plt.imshow(augmented_images[0].numpy().astype(\"uint8\"))\n",
    "        plt.axis(\"off\")"
   ]
  },
  {
   "cell_type": "raw",
   "id": "d0306e23-9f9f-47ee-ad7c-e15a02f7c78b",
   "metadata": {},
   "source": [
    "AUTOTUNE = tf.data.AUTOTUNE\n",
    "train_ds = train_ds.cache().shuffle(1000).prefetch(buffer_size=AUTOTUNE)\n",
    "val_ds = val_ds.cache().prefetch(buffer_size=AUTOTUNE)"
   ]
  },
  {
   "cell_type": "code",
   "execution_count": 82,
   "id": "7246b167-a7bc-4a93-858f-3f3d2650772e",
   "metadata": {},
   "outputs": [
    {
     "name": "stdout",
     "output_type": "stream",
     "text": [
      "Model: \"sequential\"\n",
      "_________________________________________________________________\n",
      "Layer (type)                 Output Shape              Param #   \n",
      "=================================================================\n",
      "rescaling (Rescaling)        (None, 256, 256, 3)       0         \n",
      "_________________________________________________________________\n",
      "conv2d (Conv2D)              (None, 256, 256, 16)      448       \n",
      "_________________________________________________________________\n",
      "max_pooling2d (MaxPooling2D) (None, 128, 128, 16)      0         \n",
      "_________________________________________________________________\n",
      "conv2d_1 (Conv2D)            (None, 128, 128, 32)      4640      \n",
      "_________________________________________________________________\n",
      "max_pooling2d_1 (MaxPooling2 (None, 64, 64, 32)        0         \n",
      "_________________________________________________________________\n",
      "dropout (Dropout)            (None, 64, 64, 32)        0         \n",
      "_________________________________________________________________\n",
      "flatten (Flatten)            (None, 131072)            0         \n",
      "_________________________________________________________________\n",
      "dense (Dense)                (None, 32)                4194336   \n",
      "_________________________________________________________________\n",
      "dense_1 (Dense)              (None, 16)                528       \n",
      "_________________________________________________________________\n",
      "dense_2 (Dense)              (None, 3)                 51        \n",
      "=================================================================\n",
      "Total params: 4,200,003\n",
      "Trainable params: 4,200,003\n",
      "Non-trainable params: 0\n",
      "_________________________________________________________________\n"
     ]
    }
   ],
   "source": [
    "num_classes = len(class_names)\n",
    "\n",
    "model = Sequential([\n",
    "  #data_augmentation,\n",
    "  layers.experimental.preprocessing.Rescaling(1./255, input_shape=(IMG_HEIGHT, IMG_WIDTH, 3)),\n",
    "  layers.Conv2D(16, 3, padding='same', activation='relu'),\n",
    "  layers.MaxPooling2D(),\n",
    "  layers.Dropout(0.2),\n",
    "  layers.Conv2D(32, 3, padding='same', activation='relu'),\n",
    "  layers.MaxPooling2D(),\n",
    "  #layers.Conv2D(64, 3, padding='same', activation='relu'),\n",
    "  #layers.MaxPooling2D(), \n",
    "  #layers.Conv2D(128, 3, padding='same', activation='relu'),\n",
    "  #layers.MaxPooling2D(),\n",
    "  layers.Dropout(0.2),\n",
    "  layers.Flatten(),\n",
    "  #layers.Dense(64, activation='relu'),\n",
    "  layers.Dense(64, activation='relu'),\n",
    "  layers.Dense(32, activation='relu'),\n",
    "  layers.Dense(num_classes)\n",
    "])\n",
    "\n",
    "model.compile(optimizer='adam',\n",
    "              loss = tf.keras.losses.SparseCategoricalCrossentropy(from_logits=True),\n",
    "              metrics = ['accuracy'])\n",
    "\n",
    "model.summary()"
   ]
  },
  {
   "cell_type": "raw",
   "id": "8c85357b-0eba-4e52-b58b-55184b3ca80d",
   "metadata": {},
   "source": [
    "num_classes = len(class_names)\n",
    "base_model = tf.keras.applications.MobileNetV2(input_shape=(IMG_SIZE,IMG_SIZE,3), \n",
    "                                               include_top=False, weights=\"imagenet\")\n",
    "\n",
    "base_model.trainable = False\n",
    "\n",
    "model = tf.keras.Sequential([\n",
    "    base_model, \n",
    "    tf.keras.layers.GlobalAveragePooling2D(), \n",
    "    tf.keras.layers.Dropout(0.2), \n",
    "    tf.keras.layers.Dense(num_classes, activation=\"softmax\")])\n",
    "\n",
    "opt = tf.keras.optimizers.Adam(learning_rate=0.01)\n",
    "model.compile(optimizer = opt, \n",
    "              loss = tf.keras.losses.SparseCategoricalCrossentropy(from_logits=False), \n",
    "              metrics = ['accuracy'])\n",
    "\n"
   ]
  },
  {
   "cell_type": "raw",
   "id": "50982a65-4f44-4c7a-b4ed-b2c318a73b9c",
   "metadata": {},
   "source": [
    "start_time = time.time()\n",
    "epochs = EPOCHS\n",
    "history = model.fit(\n",
    "  train_ds,\n",
    "  validation_data=val_ds,\n",
    "  epochs=epochs\n",
    ")\n",
    "model.save(SAVED_MODEL_DIR)\n",
    "print(\"--- %s seconds ---\" % (time.time() - start_time))"
   ]
  },
  {
   "cell_type": "code",
   "execution_count": 83,
   "id": "45ac86a2-075f-4dd6-b5b5-09162db36ba3",
   "metadata": {},
   "outputs": [
    {
     "name": "stdout",
     "output_type": "stream",
     "text": [
      "Epoch 1/5\n",
      "255/255 [==============================] - 239s 938ms/step - loss: 0.1696 - accuracy: 0.9385 - val_loss: 0.0359 - val_accuracy: 0.9886\n",
      "Epoch 2/5\n",
      "255/255 [==============================] - 327s 1s/step - loss: 0.0283 - accuracy: 0.9914 - val_loss: 0.0300 - val_accuracy: 0.9919\n",
      "Epoch 3/5\n",
      "255/255 [==============================] - 359s 1s/step - loss: 0.0171 - accuracy: 0.9950 - val_loss: 0.0279 - val_accuracy: 0.9915\n",
      "Epoch 4/5\n",
      "255/255 [==============================] - 348s 1s/step - loss: 0.0132 - accuracy: 0.9967 - val_loss: 0.0199 - val_accuracy: 0.9952\n",
      "Epoch 5/5\n",
      "255/255 [==============================] - 342s 1s/step - loss: 0.0114 - accuracy: 0.9963 - val_loss: 0.0328 - val_accuracy: 0.9915\n",
      "INFO:tensorflow:Assets written to: ../../dataset/../model/assets\n",
      "--- 1619.092836856842 seconds ---\n"
     ]
    }
   ],
   "source": [
    "start_time = time.time()\n",
    "epochs = EPOCHS\n",
    "history = model.fit(\n",
    "  x_train, y_train,\n",
    "  validation_data = (x_val, y_val),\n",
    "  epochs = epochs\n",
    ")\n",
    "model.save(SAVED_MODEL_DIR)\n",
    "print(\"--- %s seconds ---\" % (time.time() - start_time))"
   ]
  },
  {
   "cell_type": "raw",
   "id": "252f39e7-0496-413f-9758-89c02c912140",
   "metadata": {},
   "source": [
    "model = keras.models.load_model(SAVED_MODEL_DIR)\n",
    "model.summary()"
   ]
  },
  {
   "cell_type": "code",
   "execution_count": 84,
   "id": "1e38beb9",
   "metadata": {},
   "outputs": [
    {
     "data": {
      "image/png": "[encoded data removed]",
      "text/plain": [
       "<Figure size 576x576 with 2 Axes>"
      ]
     },
     "metadata": {
      "needs_background": "light"
     },
     "output_type": "display_data"
    }
   ],
   "source": [
    "acc = history.history['accuracy']\n",
    "loss = history.history['loss']\n",
    "\n",
    "val_acc = history.history['val_accuracy']\n",
    "val_loss = history.history['val_loss']\n",
    "\n",
    "epochs_range = range(epochs)\n",
    "\n",
    "plt.figure(figsize=(8,8))\n",
    "plt.subplot(1, 2, 1)\n",
    "plt.plot(epochs_range, acc, label = 'Training Accuracy')\n",
    "plt.plot(epochs_range, val_acc, label = 'Validation Accuracy')\n",
    "plt.legend(loc='upper right')\n",
    "plt.title('Training and Validation Accuracy')\n",
    "plt.subplot(1, 2, 2)\n",
    "plt.plot(epochs_range, loss, label = 'Training Loss')\n",
    "plt.plot(epochs_range, val_loss, label = 'Validation Loss')\n",
    "plt.legend(loc='upper right')\n",
    "plt.title('Training and Validation Loss')\n",
    "plt.show()"
   ]
  },
  {
   "cell_type": "code",
   "execution_count": 85,
   "id": "993f0cc9-871b-4638-bdd9-c4783596aeef",
   "metadata": {},
   "outputs": [
    {
     "name": "stdout",
     "output_type": "stream",
     "text": [
      "                              precision    recall  f1-score   support\n",
      "\n",
      "  correctly-masked (Class 0)       1.00      0.99      0.99      1161\n",
      "        not-masked (Class 1)       1.00      0.99      1.00       392\n",
      "uncorrectly-masked (Class 2)       0.99      1.00      0.99      1165\n",
      "\n",
      "                    accuracy                           0.99      2718\n",
      "                   macro avg       1.00      0.99      0.99      2718\n",
      "                weighted avg       0.99      0.99      0.99      2718\n",
      "\n"
     ]
    }
   ],
   "source": [
    "predictions = np.argmax(model.predict(x_test), axis=-1)\n",
    "predictions = predictions.reshape(1,-1)[0]\n",
    "print(classification_report(y_test, predictions, \n",
    "                            target_names = ['correctly-masked (Class 0)','not-masked (Class 1)', 'uncorrectly-masked (Class 2)']))"
   ]
  },
  {
   "cell_type": "code",
   "execution_count": 88,
   "id": "2e0cfc1f",
   "metadata": {},
   "outputs": [
    {
     "name": "stdout",
     "output_type": "stream",
     "text": [
      "Downloading data from https://media.istockphoto.com/photos/beautiful-smiling-woman-with-clean-skin-picture-id1089292068?k=6&m=1089292068&s=612x612&w=0&h=esl0LAMEp_uastdwPu-SRjMOKi7vI33vP8L1O0ua3dU=\n",
      "24576/17553 [==========================================] - 0s 0us/step\n",
      "This image most likely belongs to not-masked with a 99.94 percent confidence.\n"
     ]
    },
    {
     "data": {
      "image/png": "[encoded data removed]",
      "text/plain": [
       "<Figure size 432x288 with 1 Axes>"
      ]
     },
     "metadata": {
      "needs_background": "light"
     },
     "output_type": "display_data"
    }
   ],
   "source": [
    "img_url =  \"https://media.istockphoto.com/photos/beautiful-smiling-woman-with-clean-skin-picture-id1089292068?k=6&m=1089292068&s=612x612&w=0&h=esl0LAMEp_uastdwPu-SRjMOKi7vI33vP8L1O0ua3dU=\"\n",
    "img_path = tf.keras.utils.get_file(f'{random.randint(0, 100000)}', origin=img_url)\n",
    "\n",
    "img = keras.preprocessing.image.load_img(\n",
    "    img_path, target_size=(IMG_HEIGHT, IMG_WIDTH)\n",
    ")\n",
    "_ = plt.imshow(img)\n",
    "img_array = keras.preprocessing.image.img_to_array(img)\n",
    "img_array = tf.expand_dims(img_array, 0)\n",
    "\n",
    "predictions = model.predict(img_array)\n",
    "score = tf.nn.softmax(predictions[0])\n",
    "\n",
    "print(\n",
    "    \"This image most likely belongs to {} with a {:.2f} percent confidence.\"\n",
    "    .format(class_names[np.argmax(score)], 100 * np.max(score))\n",
    ")"
   ]
  }
 ],
 "metadata": {
  "jupytext": {
   "encoding": "# -*- coding: utf-8 -*-"
  },
  "kernelspec": {
   "display_name": "computer-vision",
   "language": "python",
   "name": "computer-vision"
  },
  "language_info": {
   "codemirror_mode": {
    "name": "ipython",
    "version": 3
   },
   "file_extension": ".py",
   "mimetype": "text/x-python",
   "name": "python",
   "nbconvert_exporter": "python",
   "pygments_lexer": "ipython3",
   "version": "3.9.5"
  }
 },
 "nbformat": 4,
 "nbformat_minor": 5
}
