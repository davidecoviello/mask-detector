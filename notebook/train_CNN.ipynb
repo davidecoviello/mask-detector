{
 "cells": [
  {
   "cell_type": "code",
   "execution_count": 1,
   "id": "880ac4c9",
   "metadata": {},
   "outputs": [],
   "source": [
    "import os\n",
    "import cv2\n",
    "import shutil\n",
    "import PIL\n",
    "import random\n",
    "import time\n",
    "import numpy as np\n",
    "import matplotlib.pyplot as plt\n",
    "import tensorflow as tf\n",
    "from tensorflow import keras\n",
    "from tensorflow.keras import layers\n",
    "from tensorflow.keras.models import Sequential\n",
    "from tensorflow.keras.preprocessing.image import ImageDataGenerator\n",
    "from sklearn.metrics import classification_report,confusion_matrix\n",
    "from sklearn import model_selection\n",
    "from pathlib import Path\n",
    "from PIL import Image\n",
    "from tqdm import tqdm"
   ]
  },
  {
   "cell_type": "code",
   "execution_count": 3,
   "id": "20c3aa68",
   "metadata": {},
   "outputs": [],
   "source": [
    "BASE_DIR = '../../dataset/'\n",
    "SAVED_MODEL_DIR = BASE_DIR + '../model'\n",
    "DATASET_DIR = BASE_DIR + 'dataset_nuovo/'\n",
    "DATA_DIR = Path(DATASET_DIR)\n",
    "IMG_HEIGHT = 256\n",
    "IMG_WIDTH = 256\n",
    "IMG_SIZE = 256\n",
    "EPOCHS = 20\n",
    "BATCH_SIZE = 128"
   ]
  },
  {
   "cell_type": "code",
   "execution_count": 6,
   "id": "386e8586-334a-43d6-a4e2-72598e566619",
   "metadata": {},
   "outputs": [
    {
     "name": "stdout",
     "output_type": "stream",
     "text": [
      "Found 13586 files belonging to 3 classes.\n",
      "[DEBUG] - ds_size: 13586\n",
      "[INFO] - Class names: ['correctly-masked', 'not-masked', 'uncorrectly-masked']\n"
     ]
    }
   ],
   "source": [
    "ds = tf.keras.preprocessing.image_dataset_from_directory(\n",
    "    DATA_DIR,\n",
    "    image_size = (IMG_HEIGHT, IMG_WIDTH),\n",
    "    seed = 123)\n",
    "\n",
    "ds_size = len(list(ds))\n",
    "print(f'[DEBUG] - ds_size: {ds_size}')\n",
    "class_names = ds.class_names\n",
    "ds = ds.shuffle(10000, seed=12)\n",
    "print(f'[INFO] - Class names: {class_names}')"
   ]
  },
  {
   "cell_type": "code",
   "execution_count": 7,
   "id": "e8fd0568-e24a-4a34-af10-375b7412e306",
   "metadata": {},
   "outputs": [
    {
     "name": "stderr",
     "output_type": "stream",
     "text": [
      "13586it [00:31, 425.40it/s] \n"
     ]
    }
   ],
   "source": [
    "x = []\n",
    "y = []\n",
    "for image, label in tqdm(ds.unbatch().take(-1)):\n",
    "    img = image.numpy().astype(\"uint8\")\n",
    "    x.append(img)\n",
    "    label = label.numpy()\n",
    "    y.append(label)\n",
    "\n",
    "x = np.array(x)\n",
    "y = np.array(y)"
   ]
  },
  {
   "cell_type": "code",
   "execution_count": 8,
   "id": "8ab340f6-2980-43d8-ad96-133027d2a4c9",
   "metadata": {},
   "outputs": [],
   "source": [
    "x_train, x_val_test, y_train, y_val_test = model_selection.train_test_split(x, y, test_size=0.4, random_state=42)\n",
    "x_val, x_test, y_val, y_test = model_selection.train_test_split(x_val_test, y_val_test, test_size=0.5, random_state=42)"
   ]
  },
  {
   "cell_type": "code",
   "execution_count": 9,
   "id": "7246b167-a7bc-4a93-858f-3f3d2650772e",
   "metadata": {},
   "outputs": [
    {
     "name": "stdout",
     "output_type": "stream",
     "text": [
      "Model: \"sequential\"\n",
      "_________________________________________________________________\n",
      "Layer (type)                 Output Shape              Param #   \n",
      "=================================================================\n",
      "rescaling (Rescaling)        (None, 256, 256, 3)       0         \n",
      "_________________________________________________________________\n",
      "conv2d (Conv2D)              (None, 256, 256, 16)      448       \n",
      "_________________________________________________________________\n",
      "max_pooling2d (MaxPooling2D) (None, 128, 128, 16)      0         \n",
      "_________________________________________________________________\n",
      "dropout (Dropout)            (None, 128, 128, 16)      0         \n",
      "_________________________________________________________________\n",
      "conv2d_1 (Conv2D)            (None, 128, 128, 32)      4640      \n",
      "_________________________________________________________________\n",
      "max_pooling2d_1 (MaxPooling2 (None, 64, 64, 32)        0         \n",
      "_________________________________________________________________\n",
      "dropout_1 (Dropout)          (None, 64, 64, 32)        0         \n",
      "_________________________________________________________________\n",
      "flatten (Flatten)            (None, 131072)            0         \n",
      "_________________________________________________________________\n",
      "dense (Dense)                (None, 64)                8388672   \n",
      "_________________________________________________________________\n",
      "dense_1 (Dense)              (None, 32)                2080      \n",
      "_________________________________________________________________\n",
      "dense_2 (Dense)              (None, 16)                528       \n",
      "_________________________________________________________________\n",
      "dense_3 (Dense)              (None, 3)                 51        \n",
      "=================================================================\n",
      "Total params: 8,396,419\n",
      "Trainable params: 8,396,419\n",
      "Non-trainable params: 0\n",
      "_________________________________________________________________\n"
     ]
    }
   ],
   "source": [
    "num_classes = len(class_names)\n",
    "\n",
    "model = Sequential([\n",
    "  layers.experimental.preprocessing.Rescaling(1./255, input_shape=(IMG_HEIGHT, IMG_WIDTH, 3)),\n",
    "  layers.Conv2D(16, 3, padding='same', activation='relu'),\n",
    "  layers.MaxPooling2D(),\n",
    "  layers.Dropout(0.2),\n",
    "  layers.Conv2D(32, 3, padding='same', activation='relu'),\n",
    "  layers.MaxPooling2D(),\n",
    "  layers.Dropout(0.2),\n",
    "  layers.Flatten(),\n",
    "  layers.Dense(64, activation='relu'),\n",
    "  layers.Dense(32, activation='relu'),\n",
    "  layers.Dense(16, activation='relu'),\n",
    "  layers.Dense(num_classes)\n",
    "])\n",
    "\n",
    "model.compile(optimizer='adam',\n",
    "              loss = tf.keras.losses.SparseCategoricalCrossentropy(from_logits=True),\n",
    "              metrics = ['accuracy'])\n",
    "\n",
    "model.summary()"
   ]
  },
  {
   "cell_type": "code",
   "execution_count": 10,
   "id": "45ac86a2-075f-4dd6-b5b5-09162db36ba3",
   "metadata": {},
   "outputs": [
    {
     "name": "stdout",
     "output_type": "stream",
     "text": [
      "Epoch 1/20\n",
      "255/255 [==============================] - 214s 837ms/step - loss: 0.2867 - accuracy: 0.8581 - val_loss: 0.0791 - val_accuracy: 0.9768\n",
      "Epoch 2/20\n",
      "255/255 [==============================] - 239s 939ms/step - loss: 0.0309 - accuracy: 0.9921 - val_loss: 0.0366 - val_accuracy: 0.9901\n",
      "Epoch 3/20\n",
      "255/255 [==============================] - 242s 949ms/step - loss: 0.0217 - accuracy: 0.9930 - val_loss: 0.0186 - val_accuracy: 0.9948\n",
      "Epoch 4/20\n",
      "255/255 [==============================] - 246s 965ms/step - loss: 0.0108 - accuracy: 0.9972 - val_loss: 0.0181 - val_accuracy: 0.9948\n",
      "Epoch 5/20\n",
      "255/255 [==============================] - 260s 1s/step - loss: 0.0083 - accuracy: 0.9971 - val_loss: 0.0163 - val_accuracy: 0.9952\n",
      "Epoch 6/20\n",
      "255/255 [==============================] - 253s 991ms/step - loss: 0.0166 - accuracy: 0.9951 - val_loss: 0.0181 - val_accuracy: 0.9948\n",
      "Epoch 7/20\n",
      "255/255 [==============================] - 251s 986ms/step - loss: 0.0080 - accuracy: 0.9973 - val_loss: 0.0192 - val_accuracy: 0.9956\n",
      "Epoch 8/20\n",
      "255/255 [==============================] - 261s 1s/step - loss: 0.0178 - accuracy: 0.9951 - val_loss: 0.0181 - val_accuracy: 0.9956\n",
      "Epoch 9/20\n",
      "255/255 [==============================] - 267s 1s/step - loss: 0.0054 - accuracy: 0.9984 - val_loss: 0.0218 - val_accuracy: 0.9934\n",
      "Epoch 10/20\n",
      "255/255 [==============================] - 251s 985ms/step - loss: 0.0154 - accuracy: 0.9962 - val_loss: 0.0360 - val_accuracy: 0.9890\n",
      "Epoch 11/20\n",
      "255/255 [==============================] - 247s 967ms/step - loss: 0.0055 - accuracy: 0.9985 - val_loss: 0.0271 - val_accuracy: 0.9937\n",
      "Epoch 12/20\n",
      "255/255 [==============================] - 246s 966ms/step - loss: 0.0032 - accuracy: 0.9993 - val_loss: 0.0151 - val_accuracy: 0.9960\n",
      "Epoch 13/20\n",
      "255/255 [==============================] - 307s 1s/step - loss: 6.4534e-04 - accuracy: 0.9999 - val_loss: 0.0150 - val_accuracy: 0.9967\n",
      "Epoch 14/20\n",
      "255/255 [==============================] - 256s 1s/step - loss: 4.7733e-05 - accuracy: 1.0000 - val_loss: 0.0156 - val_accuracy: 0.9967\n",
      "Epoch 15/20\n",
      "255/255 [==============================] - 248s 973ms/step - loss: 3.7334e-05 - accuracy: 1.0000 - val_loss: 0.0159 - val_accuracy: 0.9963\n",
      "Epoch 16/20\n",
      "255/255 [==============================] - 253s 992ms/step - loss: 2.4271e-05 - accuracy: 1.0000 - val_loss: 0.0170 - val_accuracy: 0.9967\n",
      "Epoch 17/20\n",
      "255/255 [==============================] - 256s 1s/step - loss: 1.8011e-05 - accuracy: 1.0000 - val_loss: 0.0176 - val_accuracy: 0.9967\n",
      "Epoch 18/20\n",
      "255/255 [==============================] - 287s 1s/step - loss: 1.4964e-05 - accuracy: 1.0000 - val_loss: 0.0177 - val_accuracy: 0.9963\n",
      "Epoch 19/20\n",
      "255/255 [==============================] - 311s 1s/step - loss: 9.3650e-06 - accuracy: 1.0000 - val_loss: 0.0180 - val_accuracy: 0.9963\n",
      "Epoch 20/20\n",
      "255/255 [==============================] - 456s 2s/step - loss: 7.7162e-06 - accuracy: 1.0000 - val_loss: 0.0187 - val_accuracy: 0.9963\n",
      "INFO:tensorflow:Assets written to: ../../dataset/../model/assets\n",
      "--- 5355.731015205383 seconds ---\n"
     ]
    }
   ],
   "source": [
    "start_time = time.time()\n",
    "epochs = EPOCHS\n",
    "history = model.fit(\n",
    "  x_train, y_train,\n",
    "  validation_data = (x_val, y_val),\n",
    "  epochs = epochs\n",
    ")\n",
    "model.save(SAVED_MODEL_DIR)\n",
    "print(\"--- %s seconds ---\" % (time.time() - start_time))"
   ]
  },
  {
   "cell_type": "raw",
   "id": "252f39e7-0496-413f-9758-89c02c912140",
   "metadata": {},
   "source": [
    "model = keras.models.load_model(SAVED_MODEL_DIR)\n",
    "model.summary()"
   ]
  },
  {
   "cell_type": "code",
   "execution_count": 11,
   "id": "1e38beb9",
   "metadata": {},
   "outputs": [
    {
     "data": {
      "image/png": "[encoded data removed]",
      "text/plain": [
       "<Figure size 576x576 with 2 Axes>"
      ]
     },
     "metadata": {
      "needs_background": "light"
     },
     "output_type": "display_data"
    }
   ],
   "source": [
    "acc = history.history['accuracy']\n",
    "loss = history.history['loss']\n",
    "\n",
    "val_acc = history.history['val_accuracy']\n",
    "val_loss = history.history['val_loss']\n",
    "\n",
    "epochs_range = range(epochs)\n",
    "\n",
    "plt.figure(figsize=(8,8))\n",
    "plt.subplot(1, 2, 1)\n",
    "plt.plot(epochs_range, acc, label = 'Training Accuracy')\n",
    "plt.plot(epochs_range, val_acc, label = 'Validation Accuracy')\n",
    "plt.legend(loc='upper right')\n",
    "plt.title('Training and Validation Accuracy')\n",
    "plt.subplot(1, 2, 2)\n",
    "plt.plot(epochs_range, loss, label = 'Training Loss')\n",
    "plt.plot(epochs_range, val_loss, label = 'Validation Loss')\n",
    "plt.legend(loc='upper right')\n",
    "plt.title('Training and Validation Loss')\n",
    "plt.show()"
   ]
  },
  {
   "cell_type": "code",
   "execution_count": 12,
   "id": "993f0cc9-871b-4638-bdd9-c4783596aeef",
   "metadata": {},
   "outputs": [
    {
     "name": "stdout",
     "output_type": "stream",
     "text": [
      "                              precision    recall  f1-score   support\n",
      "\n",
      "  correctly-masked (Class 0)       0.99      1.00      1.00      1161\n",
      "        not-masked (Class 1)       1.00      0.99      0.99       392\n",
      "uncorrectly-masked (Class 2)       1.00      0.99      1.00      1165\n",
      "\n",
      "                    accuracy                           1.00      2718\n",
      "                   macro avg       1.00      1.00      1.00      2718\n",
      "                weighted avg       1.00      1.00      1.00      2718\n",
      "\n"
     ]
    }
   ],
   "source": [
    "predictions = np.argmax(model.predict(x_test), axis=-1)\n",
    "predictions = predictions.reshape(1,-1)[0]\n",
    "print(classification_report(y_test, predictions, \n",
    "                            target_names = ['correctly-masked (Class 0)','not-masked (Class 1)', 'uncorrectly-masked (Class 2)']))"
   ]
  }
 ],
 "metadata": {
  "jupytext": {
   "encoding": "# -*- coding: utf-8 -*-"
  },
  "kernelspec": {
   "display_name": "computer-vision",
   "language": "python",
   "name": "computer-vision"
  },
  "language_info": {
   "codemirror_mode": {
    "name": "ipython",
    "version": 3
   },
   "file_extension": ".py",
   "mimetype": "text/x-python",
   "name": "python",
   "nbconvert_exporter": "python",
   "pygments_lexer": "ipython3",
   "version": "3.9.5"
  }
 },
 "nbformat": 4,
 "nbformat_minor": 5
}
