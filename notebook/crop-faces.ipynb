{
 "cells": [
  {
   "cell_type": "code",
   "execution_count": null,
   "id": "4e725c7b-ee5f-456e-8924-5e469d9b8b0b",
   "metadata": {},
   "outputs": [],
   "source": [
    "import os\n",
    "import cv2\n",
    "import shutil\n",
    "import PIL\n",
    "from pathlib import Path\n",
    "from PIL import Image\n",
    "from tqdm import tqdm\n",
    "import numpy as np\n",
    "import matplotlib.pyplot as plt"
   ]
  },
  {
   "cell_type": "code",
   "execution_count": null,
   "id": "cc0db829-7e25-4d5e-9747-a76ed5023a14",
   "metadata": {},
   "outputs": [],
   "source": [
    "class bcolors:\n",
    "    OK = '\\033[92m' #GREEN\n",
    "    WARNING = '\\033[93m' #YELLOW\n",
    "    FAIL = '\\033[91m' #RED\n",
    "    RESET = '\\033[0m' #RESET COLOR"
   ]
  },
  {
   "cell_type": "code",
   "execution_count": null,
   "id": "fee29f07-336b-4f52-a0de-bdc0b092dc22",
   "metadata": {},
   "outputs": [],
   "source": [
    "BASE_DIR = '../'\n",
    "MODEL_DIR = BASE_DIR+'model/'\n",
    "TEST_DIR = BASE_DIR+'test/'\n",
    "IMAGES_DIR = TEST_DIR+'images/src-images/'\n",
    "CROPPED_DIR = TEST_DIR+'images/test-images/cropped-faces/'\n",
    "PREDICTIONS_DIR = TEST_DIR+'predictions/'\n",
    "IMG_HEIGHT = 256\n",
    "IMG_WIDTH = 256"
   ]
  },
  {
   "cell_type": "code",
   "execution_count": null,
   "id": "58df5f7d-3669-4fe2-a9b5-30767f240690",
   "metadata": {},
   "outputs": [],
   "source": [
    "def get_face(img, x, y, w, h) -> Image.Image: \n",
    "    crop_img = img[y:y+h, x:x+w]\n",
    "    rgb_img = cv2.cvtColor(crop_img, cv2.COLOR_BGR2RGB)\n",
    "    pil_img = Image.fromarray(rgb_img)\n",
    "    return pil_img"
   ]
  },
  {
   "cell_type": "code",
   "execution_count": null,
   "id": "e218fc65-2ba7-4fd2-9f50-6e82de8f8092",
   "metadata": {},
   "outputs": [],
   "source": [
    "face_cascade = cv2.CascadeClassifier(cv2.data.haarcascades + 'haarcascade_frontalface_default.xml')\n",
    "for filename in tqdm(os.listdir(IMAGES_DIR)):\n",
    "    if os.path.isdir(IMAGES_DIR+filename) or filename == '.DS_Store':\n",
    "        print(f'{bcolors.WARNING}[INFO]: Skipping {filename}: is a directory ...{bcolors.RESET}')\n",
    "        continue\n",
    "    img = cv2.imread(IMAGES_DIR+filename)\n",
    "    try: \n",
    "        gray = cv2.cvtColor(img, cv2.COLOR_BGR2GRAY)\n",
    "    except:\n",
    "        print(f'{bcolors.FAIL}[ERROR]: Unable to call cv2.cvtColor for {filename}...{bcolors.RESET}')\n",
    "        continue\n",
    "    faces = face_cascade.detectMultiScale(gray, 1.1, 4)\n",
    "    for (x, y, w, h) in faces:\n",
    "        faces = img[y:y + h, x:x + w]\n",
    "        new_filename = CROPPED_DIR+filename+'-face.jpeg'\n",
    "        if os.path.isfile(new_filename):\n",
    "            print(f'{bcolors.WARNING}[INFO]: Avoiding saving {filename}: already in the destination folder ...{bcolors.RESET}')\n",
    "            continue\n",
    "        cv2.imwrite(new_filename, faces)"
   ]
  }
 ],
 "metadata": {
  "kernelspec": {
   "display_name": "computer-vision",
   "language": "python",
   "name": "computer-vision"
  },
  "language_info": {
   "codemirror_mode": {
    "name": "ipython",
    "version": 3
   },
   "file_extension": ".py",
   "mimetype": "text/x-python",
   "name": "python",
   "nbconvert_exporter": "python",
   "pygments_lexer": "ipython3",
   "version": "3.9.5"
  }
 },
 "nbformat": 4,
 "nbformat_minor": 5
}
