{
 "cells": [
  {
   "cell_type": "code",
   "execution_count": 3,
   "id": "4e725c7b-ee5f-456e-8924-5e469d9b8b0b",
   "metadata": {},
   "outputs": [],
   "source": [
    "import os\n",
    "import cv2\n",
    "import shutil\n",
    "import PIL\n",
    "from pathlib import Path\n",
    "from PIL import Image\n",
    "from tqdm import tqdm\n",
    "import numpy as np\n",
    "import matplotlib.pyplot as plt"
   ]
  },
  {
   "cell_type": "code",
   "execution_count": 11,
   "id": "cc0db829-7e25-4d5e-9747-a76ed5023a14",
   "metadata": {},
   "outputs": [],
   "source": [
    "class bcolors:\n",
    "    OK = '\\033[92m' #GREEN\n",
    "    WARNING = '\\033[93m' #YELLOW\n",
    "    FAIL = '\\033[91m' #RED\n",
    "    RESET = '\\033[0m' #RESET COLOR"
   ]
  },
  {
   "cell_type": "code",
   "execution_count": 1,
   "id": "fee29f07-336b-4f52-a0de-bdc0b092dc22",
   "metadata": {},
   "outputs": [],
   "source": [
    "BASE_DIR = '../'\n",
    "MODEL_DIR = BASE_DIR+'model/'\n",
    "TEST_DIR = BASE_DIR+'test/'\n",
    "IMAGES_DIR = TEST_DIR+'images/src-images/'\n",
    "CROPPED_DIR = TEST_DIR+'images/test-images/cropped-faces/'\n",
    "PREDICTIONS_DIR = TEST_DIR+'predictions/'\n",
    "IMG_HEIGHT = 256\n",
    "IMG_WIDTH = 256"
   ]
  },
  {
   "cell_type": "code",
   "execution_count": 4,
   "id": "58df5f7d-3669-4fe2-a9b5-30767f240690",
   "metadata": {},
   "outputs": [],
   "source": [
    "def get_face(img, x, y, w, h) -> Image.Image: \n",
    "    crop_img = img[y:y+h, x:x+w]\n",
    "    rgb_img = cv2.cvtColor(crop_img, cv2.COLOR_BGR2RGB)\n",
    "    pil_img = Image.fromarray(rgb_img)\n",
    "    return pil_img"
   ]
  },
  {
   "cell_type": "code",
   "execution_count": 16,
   "id": "e218fc65-2ba7-4fd2-9f50-6e82de8f8092",
   "metadata": {},
   "outputs": [
    {
     "name": "stderr",
     "output_type": "stream",
     "text": [
      "  0%|          | 3/1337 [00:01<09:02,  2.46it/s]"
     ]
    },
    {
     "name": "stdout",
     "output_type": "stream",
     "text": [
      "\u001b[93m[INFO]: Avoiding saving 63.jpg: already in the destination folder ...\u001b[0m\n",
      "\u001b[93m[INFO]: Avoiding saving 63.jpg: already in the destination folder ...\u001b[0m\n",
      "\u001b[93m[INFO]: Avoiding saving 00278image.jpg: already in the destination folder ...\u001b[0m\n",
      "\u001b[93m[INFO]: Avoiding saving 00278image.jpg: already in the destination folder ...\u001b[0m\n",
      "\u001b[93m[INFO]: Avoiding saving 00278image.jpg: already in the destination folder ...\u001b[0m\n",
      "\u001b[93m[INFO]: Avoiding saving 00279image.jpg: already in the destination folder ...\u001b[0m\n",
      "\u001b[93m[INFO]: Avoiding saving 00279image.jpg: already in the destination folder ...\u001b[0m\n",
      "\u001b[93m[INFO]: Avoiding saving 77.jpg: already in the destination folder ...\u001b[0m\n",
      "\u001b[93m[INFO]: Skipping RWMFD_part_2-3: is a directory ...\u001b[0m\n",
      "\u001b[93m[INFO]: Avoiding saving 00106mask.jpg: already in the destination folder ...\u001b[0m\n",
      "\u001b[93m[INFO]: Avoiding saving 00106mask.jpg: already in the destination folder ...\u001b[0m\n",
      "\u001b[93m[INFO]: Avoiding saving 00106mask.jpg: already in the destination folder ...\u001b[0m\n"
     ]
    },
    {
     "name": "stderr",
     "output_type": "stream",
     "text": [
      "  1%|          | 13/1337 [00:01<01:41, 13.10it/s]"
     ]
    },
    {
     "name": "stdout",
     "output_type": "stream",
     "text": [
      "\u001b[93m[INFO]: Avoiding saving 00116mask.jpg: already in the destination folder ...\u001b[0m\n",
      "\u001b[93m[INFO]: Avoiding saving 00270mask.jpg: already in the destination folder ...\u001b[0m\n",
      "\u001b[93m[INFO]: Avoiding saving mask戴口罩_214.jpg: already in the destination folder ...\u001b[0m\n",
      "\u001b[93m[INFO]: Avoiding saving mask戴口罩_214.jpg: already in the destination folder ...\u001b[0m\n",
      "\u001b[93m[INFO]: Avoiding saving mask戴口罩_214.jpg: already in the destination folder ...\u001b[0m\n",
      "\u001b[93m[INFO]: Avoiding saving mask戴口罩_214.jpg: already in the destination folder ...\u001b[0m\n",
      "\u001b[93m[INFO]: Avoiding saving 00133pic.jpg: already in the destination folder ...\u001b[0m\n"
     ]
    },
    {
     "name": "stderr",
     "output_type": "stream",
     "text": [
      "  1%|▏         | 20/1337 [00:02<01:10, 18.55it/s]"
     ]
    },
    {
     "name": "stdout",
     "output_type": "stream",
     "text": [
      "\u001b[93m[INFO]: Avoiding saving 00284pic.jpg: already in the destination folder ...\u001b[0m\n",
      "\u001b[93m[INFO]: Avoiding saving 00116image.jpg: already in the destination folder ...\u001b[0m\n",
      "\u001b[93m[INFO]: Avoiding saving 00117image.jpg: already in the destination folder ...\u001b[0m\n",
      "\u001b[93m[INFO]: Avoiding saving mask戴口罩_59.jpg: already in the destination folder ...\u001b[0m\n",
      "\u001b[93m[INFO]: Avoiding saving mask戴口罩_71.jpg: already in the destination folder ...\u001b[0m\n"
     ]
    },
    {
     "name": "stderr",
     "output_type": "stream",
     "text": [
      "  2%|▏         | 29/1337 [00:02<00:47, 27.43it/s]"
     ]
    },
    {
     "name": "stdout",
     "output_type": "stream",
     "text": [
      "\u001b[93m[INFO]: Avoiding saving 1582116163.jpg: already in the destination folder ...\u001b[0m\n",
      "\u001b[93m[INFO]: Avoiding saving 1582116163.jpg: already in the destination folder ...\u001b[0m\n",
      "\u001b[93m[INFO]: Avoiding saving 1582116163.jpg: already in the destination folder ...\u001b[0m\n",
      "\u001b[93m[INFO]: Avoiding saving 00296pic.jpg: already in the destination folder ...\u001b[0m\n",
      "\u001b[93m[INFO]: Avoiding saving 00230image.jpg: already in the destination folder ...\u001b[0m\n",
      "\u001b[93m[INFO]: Avoiding saving 00142pic.jpg: already in the destination folder ...\u001b[0m\n",
      "\u001b[93m[INFO]: Avoiding saving 42.webp: already in the destination folder ...\u001b[0m\n",
      "\u001b[93m[INFO]: Avoiding saving 42.webp: already in the destination folder ...\u001b[0m\n"
     ]
    },
    {
     "name": "stderr",
     "output_type": "stream",
     "text": [
      "  2%|▏         | 33/1337 [00:02<01:01, 21.05it/s]"
     ]
    },
    {
     "name": "stdout",
     "output_type": "stream",
     "text": [
      "\u001b[93m[INFO]: Avoiding saving 00202mask.jpg: already in the destination folder ...\u001b[0m\n",
      "\u001b[93m[INFO]: Avoiding saving 00056image.png: already in the destination folder ...\u001b[0m\n"
     ]
    },
    {
     "name": "stderr",
     "output_type": "stream",
     "text": [
      "  3%|▎         | 42/1337 [00:02<00:51, 25.27it/s]"
     ]
    },
    {
     "name": "stdout",
     "output_type": "stream",
     "text": [
      "\u001b[93m[INFO]: Avoiding saving 00057image.png: already in the destination folder ...\u001b[0m\n",
      "\u001b[93m[INFO]: Avoiding saving 00164mask.jpg: already in the destination folder ...\u001b[0m\n",
      "\u001b[93m[INFO]: Avoiding saving 00288pic.jpg: already in the destination folder ...\u001b[0m\n",
      "\u001b[93m[INFO]: Avoiding saving 00174mask.jpg: already in the destination folder ...\u001b[0m\n",
      "\u001b[93m[INFO]: Avoiding saving 1582462824.jpg: already in the destination folder ...\u001b[0m\n",
      "\u001b[93m[INFO]: Avoiding saving 1582462831.jpg: already in the destination folder ...\u001b[0m\n",
      "\u001b[93m[INFO]: Avoiding saving 00190mask.jpg: already in the destination folder ...\u001b[0m\n"
     ]
    },
    {
     "name": "stderr",
     "output_type": "stream",
     "text": [
      "  3%|▎         | 46/1337 [00:03<00:53, 24.26it/s]"
     ]
    },
    {
     "name": "stdout",
     "output_type": "stream",
     "text": [
      "\u001b[93m[INFO]: Avoiding saving 00117pic.jpg: already in the destination folder ...\u001b[0m\n",
      "\u001b[93m[INFO]: Avoiding saving 00020image.jpg: already in the destination folder ...\u001b[0m\n",
      "\u001b[93m[INFO]: Avoiding saving 00020image.jpg: already in the destination folder ...\u001b[0m\n",
      "\u001b[93m[INFO]: Avoiding saving mask戴口罩_163.jpg: already in the destination folder ...\u001b[0m\n"
     ]
    },
    {
     "name": "stderr",
     "output_type": "stream",
     "text": [
      "  4%|▍         | 55/1337 [00:03<00:58, 21.98it/s]"
     ]
    },
    {
     "name": "stdout",
     "output_type": "stream",
     "text": [
      "\u001b[93m[INFO]: Avoiding saving 00074pic.jpg: already in the destination folder ...\u001b[0m\n",
      "\u001b[93m[INFO]: Avoiding saving 00074pic.jpg: already in the destination folder ...\u001b[0m\n",
      "\u001b[93m[INFO]: Avoiding saving 00074pic.jpg: already in the destination folder ...\u001b[0m\n",
      "\u001b[93m[INFO]: Avoiding saving 00074pic.jpg: already in the destination folder ...\u001b[0m\n",
      "\u001b[93m[INFO]: Avoiding saving 00174pic.jpg: already in the destination folder ...\u001b[0m\n",
      "\u001b[93m[INFO]: Avoiding saving 00139mask.jpg: already in the destination folder ...\u001b[0m\n",
      "\u001b[93m[INFO]: Avoiding saving 00128image.jpg: already in the destination folder ...\u001b[0m\n"
     ]
    },
    {
     "name": "stderr",
     "output_type": "stream",
     "text": [
      "  4%|▍         | 58/1337 [00:03<01:10, 18.10it/s]"
     ]
    },
    {
     "name": "stdout",
     "output_type": "stream",
     "text": [
      "\u001b[93m[INFO]: Avoiding saving 00069image.jpg: already in the destination folder ...\u001b[0m\n",
      "\u001b[93m[INFO]: Avoiding saving 00069image.jpg: already in the destination folder ...\u001b[0m\n",
      "\u001b[93m[INFO]: Avoiding saving 00069image.jpg: already in the destination folder ...\u001b[0m\n",
      "\u001b[93m[INFO]: Avoiding saving 00069image.jpg: already in the destination folder ...\u001b[0m\n",
      "\u001b[93m[INFO]: Avoiding saving 00069image.jpg: already in the destination folder ...\u001b[0m\n"
     ]
    },
    {
     "name": "stderr",
     "output_type": "stream",
     "text": [
      "  5%|▍         | 61/1337 [00:04<01:41, 12.57it/s]"
     ]
    },
    {
     "name": "stdout",
     "output_type": "stream",
     "text": [
      "\u001b[93m[INFO]: Avoiding saving 00068image.jpg: already in the destination folder ...\u001b[0m\n",
      "\u001b[93m[INFO]: Avoiding saving 00068image.jpg: already in the destination folder ...\u001b[0m\n",
      "\u001b[93m[INFO]: Avoiding saving 00068image.jpg: already in the destination folder ...\u001b[0m\n",
      "\u001b[93m[INFO]: Avoiding saving 00068image.jpg: already in the destination folder ...\u001b[0m\n",
      "\u001b[93m[INFO]: Avoiding saving 00078pic.jpg: already in the destination folder ...\u001b[0m\n",
      "\u001b[93m[INFO]: Avoiding saving 00078pic.jpg: already in the destination folder ...\u001b[0m\n",
      "\u001b[93m[INFO]: Avoiding saving 00042image.webp: already in the destination folder ...\u001b[0m\n",
      "\u001b[93m[INFO]: Avoiding saving 00042image.webp: already in the destination folder ...\u001b[0m\n",
      "\u001b[93m[INFO]: Avoiding saving 00042image.webp: already in the destination folder ...\u001b[0m\n",
      "\u001b[93m[INFO]: Avoiding saving 00042image.webp: already in the destination folder ...\u001b[0m\n"
     ]
    },
    {
     "name": "stderr",
     "output_type": "stream",
     "text": [
      "  5%|▍         | 65/1337 [00:04<01:31, 13.85it/s]"
     ]
    },
    {
     "name": "stdout",
     "output_type": "stream",
     "text": [
      "\u001b[93m[INFO]: Avoiding saving 00005pic.jpg: already in the destination folder ...\u001b[0m\n",
      "\u001b[93m[INFO]: Avoiding saving 00307image.jpg: already in the destination folder ...\u001b[0m\n",
      "\u001b[93m[INFO]: Avoiding saving 00307image.jpg: already in the destination folder ...\u001b[0m\n",
      "\u001b[93m[INFO]: Avoiding saving 00161image.jpg: already in the destination folder ...\u001b[0m\n",
      "\u001b[93m[INFO]: Avoiding saving 89.jpg: already in the destination folder ...\u001b[0m\n",
      "\u001b[93m[INFO]: Avoiding saving 00160image.jpg: already in the destination folder ...\u001b[0m\n"
     ]
    },
    {
     "name": "stderr",
     "output_type": "stream",
     "text": [
      "  5%|▌         | 71/1337 [00:04<01:15, 16.73it/s]"
     ]
    },
    {
     "name": "stdout",
     "output_type": "stream",
     "text": [
      "\u001b[93m[INFO]: Avoiding saving 00306image.jpg: already in the destination folder ...\u001b[0m\n",
      "\u001b[93m[INFO]: Avoiding saving 00284mask.jpg: already in the destination folder ...\u001b[0m\n",
      "\u001b[93m[INFO]: Avoiding saving 00294mask.jpg: already in the destination folder ...\u001b[0m\n"
     ]
    },
    {
     "name": "stderr",
     "output_type": "stream",
     "text": [
      "  5%|▌         | 73/1337 [00:05<01:57, 10.75it/s]"
     ]
    },
    {
     "name": "stdout",
     "output_type": "stream",
     "text": [
      "\u001b[93m[INFO]: Avoiding saving 00066pic.jpg: already in the destination folder ...\u001b[0m\n",
      "\u001b[93m[INFO]: Avoiding saving 00066pic.jpg: already in the destination folder ...\u001b[0m\n",
      "\u001b[93m[INFO]: Avoiding saving 00066pic.jpg: already in the destination folder ...\u001b[0m\n"
     ]
    },
    {
     "name": "stderr",
     "output_type": "stream",
     "text": [
      "  6%|▌         | 75/1337 [00:10<14:56,  1.41it/s]"
     ]
    },
    {
     "name": "stdout",
     "output_type": "stream",
     "text": [
      "\u001b[93m[INFO]: Avoiding saving 62.jpg: already in the destination folder ...\u001b[0m\n",
      "\u001b[93m[INFO]: Avoiding saving 62.jpg: already in the destination folder ...\u001b[0m\n",
      "\u001b[93m[INFO]: Avoiding saving 62.jpg: already in the destination folder ...\u001b[0m\n",
      "\u001b[93m[INFO]: Avoiding saving 62.jpg: already in the destination folder ...\u001b[0m\n",
      "\u001b[93m[INFO]: Avoiding saving 62.jpg: already in the destination folder ...\u001b[0m\n",
      "\u001b[93m[INFO]: Avoiding saving 62.jpg: already in the destination folder ...\u001b[0m\n",
      "\u001b[93m[INFO]: Avoiding saving 62.jpg: already in the destination folder ...\u001b[0m\n",
      "\u001b[93m[INFO]: Avoiding saving 62.jpg: already in the destination folder ...\u001b[0m\n",
      "\u001b[93m[INFO]: Avoiding saving 74.jpg: already in the destination folder ...\u001b[0m\n",
      "\u001b[93m[INFO]: Avoiding saving 74.jpg: already in the destination folder ...\u001b[0m\n",
      "\u001b[93m[INFO]: Avoiding saving 74.jpg: already in the destination folder ...\u001b[0m\n",
      "\u001b[93m[INFO]: Avoiding saving 74.jpg: already in the destination folder ...\u001b[0m\n",
      "\u001b[93m[INFO]: Avoiding saving 74.jpg: already in the destination folder ...\u001b[0m\n",
      "\u001b[93m[INFO]: Avoiding saving 74.jpg: already in the destination folder ...\u001b[0m\n",
      "\u001b[93m[INFO]: Avoiding saving 74.jpg: already in the destination folder ...\u001b[0m\n",
      "\u001b[93m[INFO]: Avoiding saving 74.jpg: already in the destination folder ...\u001b[0m\n"
     ]
    },
    {
     "name": "stderr",
     "output_type": "stream",
     "text": [
      "  6%|▌         | 80/1337 [00:11<09:26,  2.22it/s]"
     ]
    },
    {
     "name": "stdout",
     "output_type": "stream",
     "text": [
      "\u001b[93m[INFO]: Avoiding saving 60.jpg: already in the destination folder ...\u001b[0m\n",
      "\u001b[93m[INFO]: Avoiding saving 60.jpg: already in the destination folder ...\u001b[0m\n",
      "\u001b[93m[INFO]: Avoiding saving 60.jpg: already in the destination folder ...\u001b[0m\n",
      "\u001b[93m[INFO]: Avoiding saving 60.jpg: already in the destination folder ...\u001b[0m\n",
      "\u001b[93m[INFO]: Avoiding saving 60.jpg: already in the destination folder ...\u001b[0m\n",
      "\u001b[93m[INFO]: Avoiding saving 00155image.jpg: already in the destination folder ...\u001b[0m\n",
      "\u001b[93m[INFO]: Avoiding saving 00154image.jpg: already in the destination folder ...\u001b[0m\n",
      "\u001b[93m[INFO]: Avoiding saving mask戴口罩_203.jpg: already in the destination folder ...\u001b[0m\n"
     ]
    },
    {
     "name": "stderr",
     "output_type": "stream",
     "text": [
      "  6%|▌         | 83/1337 [00:11<06:39,  3.14it/s]"
     ]
    },
    {
     "name": "stdout",
     "output_type": "stream",
     "text": [
      "\u001b[93m[INFO]: Avoiding saving 00306pic.jpg: already in the destination folder ...\u001b[0m\n",
      "\u001b[93m[INFO]: Avoiding saving 00206pic.jpg: already in the destination folder ...\u001b[0m\n"
     ]
    },
    {
     "name": "stderr",
     "output_type": "stream",
     "text": [
      "  7%|▋         | 87/1337 [00:12<04:21,  4.79it/s]"
     ]
    },
    {
     "name": "stdout",
     "output_type": "stream",
     "text": [
      "\u001b[93m[INFO]: Avoiding saving mask戴口罩_99.jpg: already in the destination folder ...\u001b[0m\n",
      "\u001b[93m[INFO]: Avoiding saving 00265pic.jpg: already in the destination folder ...\u001b[0m\n"
     ]
    },
    {
     "name": "stderr",
     "output_type": "stream",
     "text": [
      "  7%|▋         | 89/1337 [00:12<03:33,  5.86it/s]"
     ]
    },
    {
     "name": "stdout",
     "output_type": "stream",
     "text": [
      "\u001b[93m[INFO]: Avoiding saving 00005mask.jpg: already in the destination folder ...\u001b[0m\n"
     ]
    },
    {
     "name": "stderr",
     "output_type": "stream",
     "text": [
      "  7%|▋         | 94/1337 [00:13<02:59,  6.94it/s]"
     ]
    },
    {
     "name": "stdout",
     "output_type": "stream",
     "text": [
      "\u001b[93m[INFO]: Avoiding saving 00015mask.jpg: already in the destination folder ...\u001b[0m\n",
      "\u001b[93m[INFO]: Avoiding saving 00015mask.jpg: already in the destination folder ...\u001b[0m\n",
      "\u001b[93m[INFO]: Avoiding saving 00015mask.jpg: already in the destination folder ...\u001b[0m\n",
      "\u001b[93m[INFO]: Avoiding saving 00015mask.jpg: already in the destination folder ...\u001b[0m\n",
      "\u001b[93m[INFO]: Avoiding saving 00015mask.jpg: already in the destination folder ...\u001b[0m\n",
      "\u001b[93m[INFO]: Avoiding saving 00015mask.jpg: already in the destination folder ...\u001b[0m\n",
      "\u001b[93m[INFO]: Avoiding saving 00086image.jpg: already in the destination folder ...\u001b[0m\n",
      "\u001b[93m[INFO]: Avoiding saving 00269pic.jpg: already in the destination folder ...\u001b[0m\n",
      "\u001b[93m[INFO]: Avoiding saving 00269pic.jpg: already in the destination folder ...\u001b[0m\n",
      "\u001b[93m[INFO]: Avoiding saving 00269pic.jpg: already in the destination folder ...\u001b[0m\n",
      "\u001b[93m[INFO]: Avoiding saving 00269pic.jpg: already in the destination folder ...\u001b[0m\n"
     ]
    },
    {
     "name": "stderr",
     "output_type": "stream",
     "text": [
      "  7%|▋         | 96/1337 [00:13<03:45,  5.50it/s]"
     ]
    },
    {
     "name": "stdout",
     "output_type": "stream",
     "text": [
      "\u001b[93m[INFO]: Avoiding saving 00067mask.jpg: already in the destination folder ...\u001b[0m\n"
     ]
    },
    {
     "name": "stderr",
     "output_type": "stream",
     "text": [
      "  7%|▋         | 98/1337 [00:13<03:19,  6.23it/s]"
     ]
    },
    {
     "name": "stdout",
     "output_type": "stream",
     "text": [
      "\u001b[93m[INFO]: Avoiding saving 00279mask.jpg: already in the destination folder ...\u001b[0m\n",
      "\u001b[93m[INFO]: Avoiding saving 00279mask.jpg: already in the destination folder ...\u001b[0m\n"
     ]
    },
    {
     "name": "stderr",
     "output_type": "stream",
     "text": [
      "  8%|▊         | 102/1337 [00:14<02:34,  7.99it/s]"
     ]
    },
    {
     "name": "stdout",
     "output_type": "stream",
     "text": [
      "\u001b[93m[INFO]: Avoiding saving 00034pic.webp: already in the destination folder ...\u001b[0m\n",
      "\u001b[93m[INFO]: Avoiding saving 00034pic.webp: already in the destination folder ...\u001b[0m\n",
      "\u001b[93m[INFO]: Avoiding saving 00034pic.webp: already in the destination folder ...\u001b[0m\n",
      "\u001b[93m[INFO]: Avoiding saving 00034pic.webp: already in the destination folder ...\u001b[0m\n",
      "\u001b[93m[INFO]: Avoiding saving 00269mask.jpg: already in the destination folder ...\u001b[0m\n",
      "\u001b[93m[INFO]: Avoiding saving 00269mask.jpg: already in the destination folder ...\u001b[0m\n",
      "\u001b[93m[INFO]: Avoiding saving 00269mask.jpg: already in the destination folder ...\u001b[0m\n",
      "\u001b[93m[INFO]: Avoiding saving 00269mask.jpg: already in the destination folder ...\u001b[0m\n",
      "\u001b[93m[INFO]: Avoiding saving 00214pic.jpg: already in the destination folder ...\u001b[0m\n"
     ]
    },
    {
     "name": "stderr",
     "output_type": "stream",
     "text": [
      "  8%|▊         | 106/1337 [00:14<01:54, 10.74it/s]"
     ]
    },
    {
     "name": "stdout",
     "output_type": "stream",
     "text": [
      "\u001b[93m[INFO]: Avoiding saving mask戴口罩_149.jpg: already in the destination folder ...\u001b[0m\n",
      "\u001b[93m[INFO]: Avoiding saving mask戴口罩_149.jpg: already in the destination folder ...\u001b[0m\n",
      "\u001b[93m[INFO]: Avoiding saving mask戴口罩_149.jpg: already in the destination folder ...\u001b[0m\n",
      "\u001b[93m[INFO]: Avoiding saving 00314pic.jpg: already in the destination folder ...\u001b[0m\n",
      "\u001b[93m[INFO]: Avoiding saving 00277pic.jpg: already in the destination folder ...\u001b[0m\n",
      "\u001b[93m[INFO]: Avoiding saving 00277pic.jpg: already in the destination folder ...\u001b[0m\n",
      "\u001b[93m[INFO]: Skipping RWMFD_part_2-2: is a directory ...\u001b[0m\n"
     ]
    },
    {
     "name": "stderr",
     "output_type": "stream",
     "text": [
      "  8%|▊         | 110/1337 [00:15<02:13,  9.16it/s]"
     ]
    },
    {
     "name": "stdout",
     "output_type": "stream",
     "text": [
      "\u001b[93m[INFO]: Avoiding saving 00014image.jpg: already in the destination folder ...\u001b[0m\n",
      "\u001b[93m[INFO]: Avoiding saving 00014image.jpg: already in the destination folder ...\u001b[0m\n",
      "\u001b[93m[INFO]: Avoiding saving 00014image.jpg: already in the destination folder ...\u001b[0m\n",
      "\u001b[93m[INFO]: Avoiding saving 00272image.jpg: already in the destination folder ...\u001b[0m\n"
     ]
    },
    {
     "name": "stderr",
     "output_type": "stream",
     "text": [
      "  8%|▊         | 112/1337 [00:15<02:53,  7.06it/s]"
     ]
    },
    {
     "name": "stdout",
     "output_type": "stream",
     "text": [
      "\u001b[93m[INFO]: Avoiding saving 00015image.jpg: already in the destination folder ...\u001b[0m\n",
      "\u001b[93m[INFO]: Avoiding saving 00015image.jpg: already in the destination folder ...\u001b[0m\n",
      "\u001b[93m[INFO]: Avoiding saving 00015image.jpg: already in the destination folder ...\u001b[0m\n",
      "\u001b[93m[INFO]: Avoiding saving 00015image.jpg: already in the destination folder ...\u001b[0m\n",
      "\u001b[93m[INFO]: Avoiding saving 00015image.jpg: already in the destination folder ...\u001b[0m\n",
      "\u001b[93m[INFO]: Avoiding saving 00015image.jpg: already in the destination folder ...\u001b[0m\n",
      "\u001b[93m[INFO]: Avoiding saving 00142mask.jpg: already in the destination folder ...\u001b[0m\n",
      "\u001b[93m[INFO]: Avoiding saving 00297image.jpg: already in the destination folder ...\u001b[0m\n",
      "\u001b[93m[INFO]: Avoiding saving 00297image.jpg: already in the destination folder ...\u001b[0m\n"
     ]
    },
    {
     "name": "stderr",
     "output_type": "stream",
     "text": [
      "  9%|▊         | 116/1337 [00:15<02:13,  9.14it/s]"
     ]
    },
    {
     "name": "stdout",
     "output_type": "stream",
     "text": [
      "\u001b[93m[INFO]: Avoiding saving 00296image.jpg: already in the destination folder ...\u001b[0m\n",
      "\u001b[93m[INFO]: Avoiding saving 00152mask.jpg: already in the destination folder ...\u001b[0m\n",
      "\u001b[93m[INFO]: Avoiding saving 26.jpeg: already in the destination folder ...\u001b[0m\n",
      "\u001b[93m[INFO]: Avoiding saving 00222pic.jpg: already in the destination folder ...\u001b[0m\n"
     ]
    },
    {
     "name": "stderr",
     "output_type": "stream",
     "text": [
      "  9%|▉         | 119/1337 [00:15<01:43, 11.78it/s]"
     ]
    },
    {
     "name": "stdout",
     "output_type": "stream",
     "text": [
      "\u001b[93m[INFO]: Avoiding saving 00095pic.jpg: already in the destination folder ...\u001b[0m\n",
      "\u001b[93m[INFO]: Avoiding saving 00322pic.jpg: already in the destination folder ...\u001b[0m\n",
      "\u001b[93m[INFO]: Avoiding saving 00195pic.jpg: already in the destination folder ...\u001b[0m\n"
     ]
    },
    {
     "name": "stderr",
     "output_type": "stream",
     "text": [
      "  9%|▉         | 125/1337 [00:16<01:36, 12.53it/s]"
     ]
    },
    {
     "name": "stdout",
     "output_type": "stream",
     "text": [
      "\u001b[93m[INFO]: Avoiding saving 35.webp: already in the destination folder ...\u001b[0m\n",
      "\u001b[93m[INFO]: Avoiding saving 35.webp: already in the destination folder ...\u001b[0m\n",
      "\u001b[93m[INFO]: Avoiding saving 35.webp: already in the destination folder ...\u001b[0m\n",
      "\u001b[93m[INFO]: Avoiding saving 35.webp: already in the destination folder ...\u001b[0m\n"
     ]
    },
    {
     "name": "stderr",
     "output_type": "stream",
     "text": [
      "  9%|▉         | 127/1337 [00:16<01:29, 13.48it/s]"
     ]
    },
    {
     "name": "stdout",
     "output_type": "stream",
     "text": [
      "\u001b[93m[INFO]: Avoiding saving 00205image.jpg: already in the destination folder ...\u001b[0m\n"
     ]
    },
    {
     "name": "stderr",
     "output_type": "stream",
     "text": [
      " 10%|▉         | 129/1337 [00:17<02:36,  7.72it/s]"
     ]
    },
    {
     "name": "stdout",
     "output_type": "stream",
     "text": [
      "\u001b[93m[INFO]: Avoiding saving 00063image.jpg: already in the destination folder ...\u001b[0m\n"
     ]
    },
    {
     "name": "stderr",
     "output_type": "stream",
     "text": [
      " 10%|▉         | 133/1337 [00:19<05:33,  3.61it/s]"
     ]
    },
    {
     "name": "stdout",
     "output_type": "stream",
     "text": [
      "\u001b[93m[INFO]: Avoiding saving 00062image.jpg: already in the destination folder ...\u001b[0m\n",
      "\u001b[93m[INFO]: Avoiding saving 00062image.jpg: already in the destination folder ...\u001b[0m\n",
      "\u001b[93m[INFO]: Avoiding saving 00204image.jpg: already in the destination folder ...\u001b[0m\n",
      "\u001b[93m[INFO]: Avoiding saving 00029mask.webp: already in the destination folder ...\u001b[0m\n",
      "\u001b[93m[INFO]: Avoiding saving 00029mask.webp: already in the destination folder ...\u001b[0m\n"
     ]
    },
    {
     "name": "stderr",
     "output_type": "stream",
     "text": [
      " 10%|█         | 137/1337 [00:19<04:18,  4.65it/s]"
     ]
    },
    {
     "name": "stdout",
     "output_type": "stream",
     "text": [
      "\u001b[93m[INFO]: Avoiding saving 00028mask.webp: already in the destination folder ...\u001b[0m\n",
      "\u001b[93m[INFO]: Avoiding saving 00028mask.webp: already in the destination folder ...\u001b[0m\n",
      "\u001b[93m[INFO]: Avoiding saving 00028mask.webp: already in the destination folder ...\u001b[0m\n",
      "\u001b[93m[INFO]: Avoiding saving 00028mask.webp: already in the destination folder ...\u001b[0m\n",
      "\u001b[93m[INFO]: Avoiding saving mask戴口罩_73.jpg: already in the destination folder ...\u001b[0m\n",
      "\u001b[93m[INFO]: Avoiding saving 00025image.jpeg: already in the destination folder ...\u001b[0m\n"
     ]
    },
    {
     "name": "stderr",
     "output_type": "stream",
     "text": [
      " 11%|█         | 141/1337 [00:20<02:36,  7.65it/s]"
     ]
    },
    {
     "name": "stdout",
     "output_type": "stream",
     "text": [
      "\u001b[93m[INFO]: Avoiding saving 00199mask.jpg: already in the destination folder ...\u001b[0m\n",
      "\u001b[93m[INFO]: Avoiding saving 00122image.jpg: already in the destination folder ...\u001b[0m\n",
      "\u001b[93m[INFO]: Avoiding saving 00120mask.png: already in the destination folder ...\u001b[0m\n",
      "\u001b[93m[INFO]: Avoiding saving 00120mask.png: already in the destination folder ...\u001b[0m\n",
      "\u001b[93m[INFO]: Avoiding saving 00189mask.jpg: already in the destination folder ...\u001b[0m\n",
      "\u001b[93m[INFO]: Avoiding saving 00123image.jpg: already in the destination folder ...\u001b[0m\n",
      "\u001b[93m[INFO]: Avoiding saving 00187pic.jpg: already in the destination folder ...\u001b[0m\n"
     ]
    },
    {
     "name": "stderr",
     "output_type": "stream",
     "text": [
      " 11%|█         | 149/1337 [00:20<01:23, 14.21it/s]"
     ]
    },
    {
     "name": "stdout",
     "output_type": "stream",
     "text": [
      "\u001b[93m[INFO]: Avoiding saving 00230pic.jpg: already in the destination folder ...\u001b[0m\n",
      "\u001b[93m[INFO]: Avoiding saving mask戴口罩_98.jpg: already in the destination folder ...\u001b[0m\n",
      "\u001b[93m[INFO]: Avoiding saving mask戴口罩_98.jpg: already in the destination folder ...\u001b[0m\n",
      "\u001b[93m[INFO]: Avoiding saving 1582378589.jpg: already in the destination folder ...\u001b[0m\n"
     ]
    },
    {
     "name": "stderr",
     "output_type": "stream",
     "text": [
      " 11%|█▏        | 152/1337 [00:20<01:11, 16.53it/s]"
     ]
    },
    {
     "name": "stdout",
     "output_type": "stream",
     "text": [
      "\u001b[93m[INFO]: Avoiding saving 00253pic.jpg: already in the destination folder ...\u001b[0m\n",
      "\u001b[93m[INFO]: Avoiding saving 00199pic.jpg: already in the destination folder ...\u001b[0m\n",
      "\u001b[93m[INFO]: Avoiding saving 00058mask.jpg: already in the destination folder ...\u001b[0m\n",
      "\u001b[93m[INFO]: Avoiding saving 00058mask.jpg: already in the destination folder ...\u001b[0m\n",
      "\u001b[93m[INFO]: Avoiding saving 00058mask.jpg: already in the destination folder ...\u001b[0m\n",
      "\u001b[93m[INFO]: Avoiding saving 00058mask.jpg: already in the destination folder ...\u001b[0m\n",
      "\u001b[93m[INFO]: Avoiding saving 00058mask.jpg: already in the destination folder ...\u001b[0m\n"
     ]
    },
    {
     "name": "stderr",
     "output_type": "stream",
     "text": [
      " 12%|█▏        | 155/1337 [00:21<03:16,  6.00it/s]"
     ]
    },
    {
     "name": "stdout",
     "output_type": "stream",
     "text": [
      "\u001b[93m[INFO]: Avoiding saving 61.jpg: already in the destination folder ...\u001b[0m\n",
      "\u001b[93m[INFO]: Avoiding saving 61.jpg: already in the destination folder ...\u001b[0m\n",
      "\u001b[93m[INFO]: Avoiding saving 61.jpg: already in the destination folder ...\u001b[0m\n",
      "\u001b[93m[INFO]: Avoiding saving 61.jpg: already in the destination folder ...\u001b[0m\n",
      "\u001b[93m[INFO]: Avoiding saving 61.jpg: already in the destination folder ...\u001b[0m\n",
      "\u001b[93m[INFO]: Avoiding saving 00130mask.jpg: already in the destination folder ...\u001b[0m\n"
     ]
    },
    {
     "name": "stderr",
     "output_type": "stream",
     "text": [
      " 12%|█▏        | 157/1337 [00:22<03:29,  5.63it/s]"
     ]
    },
    {
     "name": "stdout",
     "output_type": "stream",
     "text": [
      "\u001b[93m[INFO]: Avoiding saving 75.jpg: already in the destination folder ...\u001b[0m\n",
      "\u001b[93m[INFO]: Avoiding saving 75.jpg: already in the destination folder ...\u001b[0m\n",
      "\u001b[93m[INFO]: Avoiding saving 75.jpg: already in the destination folder ...\u001b[0m\n",
      "\u001b[93m[INFO]: Avoiding saving 75.jpg: already in the destination folder ...\u001b[0m\n",
      "\u001b[93m[INFO]: Avoiding saving 00099pic.jpg: already in the destination folder ...\u001b[0m\n",
      "\u001b[93m[INFO]: Avoiding saving 00099pic.jpg: already in the destination folder ...\u001b[0m\n",
      "\u001b[93m[INFO]: Avoiding saving 00099pic.jpg: already in the destination folder ...\u001b[0m\n",
      "\u001b[93m[INFO]: Avoiding saving 00099pic.jpg: already in the destination folder ...\u001b[0m\n"
     ]
    },
    {
     "name": "stderr",
     "output_type": "stream",
     "text": [
      " 12%|█▏        | 159/1337 [00:22<03:20,  5.88it/s]"
     ]
    },
    {
     "name": "stdout",
     "output_type": "stream",
     "text": [
      "\u001b[93m[INFO]: Avoiding saving 00047pic.webp: already in the destination folder ...\u001b[0m\n"
     ]
    },
    {
     "name": "stderr",
     "output_type": "stream",
     "text": [
      " 12%|█▏        | 162/1337 [00:23<04:07,  4.74it/s]"
     ]
    },
    {
     "name": "stdout",
     "output_type": "stream",
     "text": [
      "\u001b[93m[INFO]: Avoiding saving 59.jpg: already in the destination folder ...\u001b[0m\n",
      "\u001b[93m[INFO]: Avoiding saving 59.jpg: already in the destination folder ...\u001b[0m\n",
      "\u001b[93m[INFO]: Avoiding saving 59.jpg: already in the destination folder ...\u001b[0m\n",
      "\u001b[93m[INFO]: Avoiding saving 59.jpg: already in the destination folder ...\u001b[0m\n",
      "\u001b[93m[INFO]: Avoiding saving 59.jpg: already in the destination folder ...\u001b[0m\n",
      "\u001b[93m[INFO]: Avoiding saving 00275pic.jpg: already in the destination folder ...\u001b[0m\n"
     ]
    },
    {
     "name": "stderr",
     "output_type": "stream",
     "text": [
      " 12%|█▏        | 163/1337 [00:23<04:35,  4.26it/s]"
     ]
    },
    {
     "name": "stdout",
     "output_type": "stream",
     "text": [
      "\u001b[93m[INFO]: Avoiding saving 71.jpg: already in the destination folder ...\u001b[0m\n",
      "\u001b[93m[INFO]: Avoiding saving 71.jpg: already in the destination folder ...\u001b[0m\n",
      "\u001b[93m[INFO]: Avoiding saving 71.jpg: already in the destination folder ...\u001b[0m\n",
      "\u001b[93m[INFO]: Avoiding saving 71.jpg: already in the destination folder ...\u001b[0m\n"
     ]
    },
    {
     "name": "stderr",
     "output_type": "stream",
     "text": [
      " 12%|█▏        | 164/1337 [00:25<12:07,  1.61it/s]"
     ]
    },
    {
     "name": "stdout",
     "output_type": "stream",
     "text": [
      "\u001b[93m[INFO]: Avoiding saving 65.jpg: already in the destination folder ...\u001b[0m\n",
      "\u001b[93m[INFO]: Avoiding saving 65.jpg: already in the destination folder ...\u001b[0m\n",
      "\u001b[93m[INFO]: Avoiding saving 65.jpg: already in the destination folder ...\u001b[0m\n",
      "\u001b[93m[INFO]: Avoiding saving 65.jpg: already in the destination folder ...\u001b[0m\n",
      "\u001b[93m[INFO]: Avoiding saving 65.jpg: already in the destination folder ...\u001b[0m\n",
      "\u001b[93m[INFO]: Avoiding saving 65.jpg: already in the destination folder ...\u001b[0m\n",
      "\u001b[93m[INFO]: Avoiding saving 00148image.jpg: already in the destination folder ...\u001b[0m\n",
      "\u001b[93m[INFO]: Avoiding saving 00149image.jpg: already in the destination folder ...\u001b[0m\n"
     ]
    },
    {
     "name": "stderr",
     "output_type": "stream",
     "text": [
      " 13%|█▎        | 170/1337 [00:26<05:10,  3.75it/s]"
     ]
    },
    {
     "name": "stdout",
     "output_type": "stream",
     "text": [
      "\u001b[93m[INFO]: Avoiding saving 00014mask.jpg: already in the destination folder ...\u001b[0m\n",
      "\u001b[93m[INFO]: Avoiding saving 00014mask.jpg: already in the destination folder ...\u001b[0m\n",
      "\u001b[93m[INFO]: Avoiding saving 00014mask.jpg: already in the destination folder ...\u001b[0m\n",
      "\u001b[93m[INFO]: Avoiding saving mask戴口罩_212.jpg: already in the destination folder ...\u001b[0m\n",
      "\u001b[93m[INFO]: Avoiding saving 00004mask.jpg: already in the destination folder ...\u001b[0m\n"
     ]
    },
    {
     "name": "stderr",
     "output_type": "stream",
     "text": [
      " 13%|█▎        | 177/1337 [00:26<02:15,  8.58it/s]"
     ]
    },
    {
     "name": "stdout",
     "output_type": "stream",
     "text": [
      "\u001b[93m[INFO]: Avoiding saving 00050image.webp: already in the destination folder ...\u001b[0m\n",
      "\u001b[93m[INFO]: Avoiding saving mask戴口罩_206.jpg: already in the destination folder ...\u001b[0m\n",
      "\u001b[93m[INFO]: Avoiding saving mask戴口罩_63.jpg: already in the destination folder ...\u001b[0m\n",
      "\u001b[93m[INFO]: Avoiding saving 00216pic.jpg: already in the destination folder ...\u001b[0m\n",
      "\u001b[93m[INFO]: Avoiding saving 00227image.jpg: already in the destination folder ...\u001b[0m\n",
      "\u001b[93m[INFO]: Avoiding saving 00316pic.jpg: already in the destination folder ...\u001b[0m\n"
     ]
    },
    {
     "name": "stderr",
     "output_type": "stream",
     "text": [
      " 13%|█▎        | 180/1337 [00:28<05:04,  3.80it/s]"
     ]
    },
    {
     "name": "stdout",
     "output_type": "stream",
     "text": [
      "\u001b[93m[INFO]: Avoiding saving 00101image.jpg: already in the destination folder ...\u001b[0m\n",
      "\u001b[93m[INFO]: Avoiding saving 00101image.jpg: already in the destination folder ...\u001b[0m\n",
      "\u001b[93m[INFO]: Avoiding saving 00101image.jpg: already in the destination folder ...\u001b[0m\n",
      "\u001b[93m[INFO]: Avoiding saving 00101image.jpg: already in the destination folder ...\u001b[0m\n",
      "\u001b[93m[INFO]: Avoiding saving 00101image.jpg: already in the destination folder ...\u001b[0m\n",
      "\u001b[93m[INFO]: Avoiding saving 00101image.jpg: already in the destination folder ...\u001b[0m\n"
     ]
    },
    {
     "name": "stderr",
     "output_type": "stream",
     "text": [
      " 14%|█▎        | 182/1337 [00:29<06:39,  2.89it/s]"
     ]
    },
    {
     "name": "stdout",
     "output_type": "stream",
     "text": [
      "\u001b[93m[INFO]: Avoiding saving 00100image.jpg: already in the destination folder ...\u001b[0m\n",
      "\u001b[93m[INFO]: Avoiding saving 00100image.jpg: already in the destination folder ...\u001b[0m\n",
      "\u001b[93m[INFO]: Avoiding saving 00076mask.jpg: already in the destination folder ...\u001b[0m\n",
      "\u001b[93m[INFO]: Avoiding saving 00044image.webp: already in the destination folder ...\u001b[0m\n",
      "\u001b[93m[INFO]: Skipping .DS_Store: is a directory ...\u001b[0m\n"
     ]
    },
    {
     "name": "stderr",
     "output_type": "stream",
     "text": [
      " 14%|█▍        | 188/1337 [00:30<04:35,  4.18it/s]"
     ]
    },
    {
     "name": "stdout",
     "output_type": "stream",
     "text": [
      "\u001b[93m[INFO]: Avoiding saving 00066mask.jpg: already in the destination folder ...\u001b[0m\n",
      "\u001b[93m[INFO]: Avoiding saving 00066mask.jpg: already in the destination folder ...\u001b[0m\n",
      "\u001b[93m[INFO]: Avoiding saving 00066mask.jpg: already in the destination folder ...\u001b[0m\n",
      "\u001b[93m[INFO]: Avoiding saving 00279pic.jpg: already in the destination folder ...\u001b[0m\n",
      "\u001b[93m[INFO]: Avoiding saving 00279pic.jpg: already in the destination folder ...\u001b[0m\n",
      "\u001b[93m[INFO]: Avoiding saving 00042mask.webp: already in the destination folder ...\u001b[0m\n",
      "\u001b[93m[INFO]: Avoiding saving 00042mask.webp: already in the destination folder ...\u001b[0m\n",
      "\u001b[93m[INFO]: Avoiding saving 00042mask.webp: already in the destination folder ...\u001b[0m\n"
     ]
    },
    {
     "name": "stderr",
     "output_type": "stream",
     "text": [
      " 14%|█▍        | 193/1337 [00:31<03:05,  6.16it/s]"
     ]
    },
    {
     "name": "stdout",
     "output_type": "stream",
     "text": [
      "\u001b[93m[INFO]: Avoiding saving 34.webp: already in the destination folder ...\u001b[0m\n",
      "\u001b[93m[INFO]: Avoiding saving 34.webp: already in the destination folder ...\u001b[0m\n",
      "\u001b[93m[INFO]: Avoiding saving 34.webp: already in the destination folder ...\u001b[0m\n",
      "\u001b[93m[INFO]: Avoiding saving 1582116367.jpg: already in the destination folder ...\u001b[0m\n"
     ]
    },
    {
     "name": "stderr",
     "output_type": "stream",
     "text": [
      " 15%|█▍        | 197/1337 [00:31<02:16,  8.37it/s]"
     ]
    },
    {
     "name": "stdout",
     "output_type": "stream",
     "text": [
      "\u001b[93m[INFO]: Avoiding saving 00304pic.jpg: already in the destination folder ...\u001b[0m\n",
      "\u001b[93m[INFO]: Avoiding saving 00204pic.jpg: already in the destination folder ...\u001b[0m\n",
      "\u001b[93m[INFO]: Avoiding saving 00310mask.jpg: already in the destination folder ...\u001b[0m\n",
      "\u001b[93m[INFO]: Avoiding saving 00193image.jpg: already in the destination folder ...\u001b[0m\n"
     ]
    },
    {
     "name": "stderr",
     "output_type": "stream",
     "text": [
      " 15%|█▌        | 204/1337 [00:31<01:48, 10.40it/s]"
     ]
    },
    {
     "name": "stdout",
     "output_type": "stream",
     "text": [
      "\u001b[93m[INFO]: Avoiding saving 00278mask.jpg: already in the destination folder ...\u001b[0m\n",
      "\u001b[93m[INFO]: Avoiding saving 00278mask.jpg: already in the destination folder ...\u001b[0m\n",
      "\u001b[93m[INFO]: Avoiding saving 00278mask.jpg: already in the destination folder ...\u001b[0m\n",
      "\u001b[93m[INFO]: Avoiding saving 00192image.jpg: already in the destination folder ...\u001b[0m\n",
      "\u001b[93m[INFO]: Avoiding saving 00251pic.jpg: already in the destination folder ...\u001b[0m\n",
      "\u001b[93m[INFO]: Avoiding saving 00310image.jpg: already in the destination folder ...\u001b[0m\n",
      "\u001b[93m[INFO]: Avoiding saving 00176image.jpg: already in the destination folder ...\u001b[0m\n"
     ]
    },
    {
     "name": "stderr",
     "output_type": "stream",
     "text": [
      " 16%|█▌        | 208/1337 [00:32<01:25, 13.19it/s]"
     ]
    },
    {
     "name": "stdout",
     "output_type": "stream",
     "text": [
      "\u001b[93m[INFO]: Avoiding saving 00177image.jpg: already in the destination folder ...\u001b[0m\n",
      "\u001b[93m[INFO]: Avoiding saving 00092mask.jpg: already in the destination folder ...\u001b[0m\n",
      "\u001b[93m[INFO]: Avoiding saving 00092mask.jpg: already in the destination folder ...\u001b[0m\n"
     ]
    },
    {
     "name": "stderr",
     "output_type": "stream",
     "text": [
      " 16%|█▌        | 210/1337 [00:32<01:56,  9.69it/s]"
     ]
    },
    {
     "name": "stdout",
     "output_type": "stream",
     "text": [
      "\u001b[93m[INFO]: Avoiding saving 00034mask.webp: already in the destination folder ...\u001b[0m\n",
      "\u001b[93m[INFO]: Avoiding saving 00034mask.webp: already in the destination folder ...\u001b[0m\n",
      "\u001b[93m[INFO]: Avoiding saving 00034mask.webp: already in the destination folder ...\u001b[0m\n",
      "\u001b[93m[INFO]: Avoiding saving mask戴口罩_171.jpg: already in the destination folder ...\u001b[0m\n"
     ]
    },
    {
     "name": "stderr",
     "output_type": "stream",
     "text": [
      " 17%|█▋        | 223/1337 [00:33<00:56, 19.64it/s]"
     ]
    },
    {
     "name": "stdout",
     "output_type": "stream",
     "text": [
      "\u001b[93m[INFO]: Avoiding saving 00235mask.jpg: already in the destination folder ...\u001b[0m\n",
      "\u001b[93m[INFO]: Avoiding saving 00225mask.jpg: already in the destination folder ...\u001b[0m\n",
      "\u001b[93m[INFO]: Avoiding saving 00225mask.jpg: already in the destination folder ...\u001b[0m\n",
      "\u001b[93m[INFO]: Avoiding saving 1582116158.jpg: already in the destination folder ...\u001b[0m\n",
      "\u001b[93m[INFO]: Avoiding saving 00232pic.jpg: already in the destination folder ...\u001b[0m\n"
     ]
    },
    {
     "name": "stderr",
     "output_type": "stream",
     "text": [
      " 17%|█▋        | 226/1337 [00:33<00:52, 21.26it/s]"
     ]
    },
    {
     "name": "stdout",
     "output_type": "stream",
     "text": [
      "\u001b[93m[INFO]: Avoiding saving 00257mask.jpg: already in the destination folder ...\u001b[0m\n"
     ]
    },
    {
     "name": "stderr",
     "output_type": "stream",
     "text": [
      " 17%|█▋        | 229/1337 [00:33<01:22, 13.36it/s]"
     ]
    },
    {
     "name": "stdout",
     "output_type": "stream",
     "text": [
      "\u001b[93m[INFO]: Avoiding saving 58.png: already in the destination folder ...\u001b[0m\n"
     ]
    },
    {
     "name": "stderr",
     "output_type": "stream",
     "text": [
      " 17%|█▋        | 232/1337 [00:34<02:32,  7.23it/s]"
     ]
    },
    {
     "name": "stdout",
     "output_type": "stream",
     "text": [
      "\u001b[93m[INFO]: Avoiding saving 00059mask.jpg: already in the destination folder ...\u001b[0m\n",
      "\u001b[93m[INFO]: Avoiding saving 00059mask.jpg: already in the destination folder ...\u001b[0m\n",
      "\u001b[93m[INFO]: Avoiding saving 00059mask.jpg: already in the destination folder ...\u001b[0m\n",
      "\u001b[93m[INFO]: Avoiding saving 00059mask.jpg: already in the destination folder ...\u001b[0m\n",
      "\u001b[93m[INFO]: Avoiding saving 00059mask.jpg: already in the destination folder ...\u001b[0m\n",
      "\u001b[93m[INFO]: Avoiding saving 00189pic.jpg: already in the destination folder ...\u001b[0m\n",
      "\u001b[93m[INFO]: Avoiding saving 1582117326.jpg: already in the destination folder ...\u001b[0m\n"
     ]
    },
    {
     "name": "stderr",
     "output_type": "stream",
     "text": [
      " 18%|█▊        | 237/1337 [00:34<02:04,  8.87it/s]"
     ]
    },
    {
     "name": "stdout",
     "output_type": "stream",
     "text": [
      "\u001b[93m[INFO]: Avoiding saving mask戴口罩_207.jpg: already in the destination folder ...\u001b[0m\n",
      "\u001b[93m[INFO]: Avoiding saving mask戴口罩_207.jpg: already in the destination folder ...\u001b[0m\n",
      "\u001b[93m[INFO]: Avoiding saving mask戴口罩_207.jpg: already in the destination folder ...\u001b[0m\n",
      "\u001b[93m[INFO]: Avoiding saving 00023pic.jpeg: already in the destination folder ...\u001b[0m\n",
      "\u001b[93m[INFO]: Avoiding saving 00188mask.jpg: already in the destination folder ...\u001b[0m\n"
     ]
    },
    {
     "name": "stderr",
     "output_type": "stream",
     "text": [
      " 18%|█▊        | 239/1337 [00:35<01:54,  9.62it/s]"
     ]
    },
    {
     "name": "stdout",
     "output_type": "stream",
     "text": [
      "\u001b[93m[INFO]: Avoiding saving 00198mask.jpg: already in the destination folder ...\u001b[0m\n",
      "\u001b[93m[INFO]: Avoiding saving mask戴口罩_213.jpg: already in the destination folder ...\u001b[0m\n"
     ]
    },
    {
     "name": "stderr",
     "output_type": "stream",
     "text": [
      " 18%|█▊        | 241/1337 [00:35<02:44,  6.66it/s]"
     ]
    },
    {
     "name": "stdout",
     "output_type": "stream",
     "text": [
      "\u001b[93m[INFO]: Avoiding saving 64.jpg: already in the destination folder ...\u001b[0m\n",
      "\u001b[93m[INFO]: Avoiding saving 00037image.jpg: already in the destination folder ...\u001b[0m\n",
      "\u001b[93m[INFO]: Avoiding saving 00037image.jpg: already in the destination folder ...\u001b[0m\n",
      "\u001b[93m[INFO]: Avoiding saving 00037image.jpg: already in the destination folder ...\u001b[0m\n",
      "\u001b[93m[INFO]: Avoiding saving 00037image.jpg: already in the destination folder ...\u001b[0m\n",
      "\u001b[93m[INFO]: Avoiding saving 00251image.jpg: already in the destination folder ...\u001b[0m\n",
      "\u001b[93m[INFO]: Avoiding saving 00250image.jpg: already in the destination folder ...\u001b[0m\n"
     ]
    },
    {
     "name": "stderr",
     "output_type": "stream",
     "text": [
      " 18%|█▊        | 246/1337 [00:36<02:20,  7.75it/s]"
     ]
    },
    {
     "name": "stdout",
     "output_type": "stream",
     "text": [
      "\u001b[93m[INFO]: Avoiding saving 70.jpg: already in the destination folder ...\u001b[0m\n",
      "\u001b[93m[INFO]: Avoiding saving 70.jpg: already in the destination folder ...\u001b[0m\n",
      "\u001b[93m[INFO]: Avoiding saving 70.jpg: already in the destination folder ...\u001b[0m\n",
      "\u001b[93m[INFO]: Avoiding saving 70.jpg: already in the destination folder ...\u001b[0m\n",
      "\u001b[93m[INFO]: Avoiding saving 70.jpg: already in the destination folder ...\u001b[0m\n",
      "\u001b[93m[INFO]: Avoiding saving 00097pic.jpg: already in the destination folder ...\u001b[0m\n",
      "\u001b[93m[INFO]: Avoiding saving 00097pic.jpg: already in the destination folder ...\u001b[0m\n",
      "\u001b[93m[INFO]: Avoiding saving 00097pic.jpg: already in the destination folder ...\u001b[0m\n",
      "\u001b[93m[INFO]: Avoiding saving 00320pic.jpg: already in the destination folder ...\u001b[0m\n"
     ]
    },
    {
     "name": "stderr",
     "output_type": "stream",
     "text": [
      " 19%|█▊        | 249/1337 [00:36<01:53,  9.61it/s]"
     ]
    },
    {
     "name": "stdout",
     "output_type": "stream",
     "text": [
      "\u001b[93m[INFO]: Avoiding saving 00199image.jpg: already in the destination folder ...\u001b[0m\n"
     ]
    },
    {
     "name": "stderr",
     "output_type": "stream",
     "text": [
      " 19%|█▉        | 251/1337 [00:36<02:33,  7.08it/s]"
     ]
    },
    {
     "name": "stdout",
     "output_type": "stream",
     "text": [
      "\u001b[93m[INFO]: Avoiding saving 66.jpg: already in the destination folder ...\u001b[0m\n",
      "\u001b[93m[INFO]: Avoiding saving 66.jpg: already in the destination folder ...\u001b[0m\n",
      "\u001b[93m[INFO]: Avoiding saving 00140pic.jpg: already in the destination folder ...\u001b[0m\n"
     ]
    },
    {
     "name": "stderr",
     "output_type": "stream",
     "text": [
      " 19%|█▉        | 253/1337 [00:37<02:58,  6.06it/s]"
     ]
    },
    {
     "name": "stdout",
     "output_type": "stream",
     "text": [
      "\u001b[93m[INFO]: Avoiding saving 72.jpg: already in the destination folder ...\u001b[0m\n",
      "\u001b[93m[INFO]: Avoiding saving 72.jpg: already in the destination folder ...\u001b[0m\n",
      "\u001b[93m[INFO]: Avoiding saving 00198image.jpg: already in the destination folder ...\u001b[0m\n"
     ]
    },
    {
     "name": "stderr",
     "output_type": "stream",
     "text": [
      " 20%|█▉        | 261/1337 [00:37<01:38, 10.92it/s]"
     ]
    },
    {
     "name": "stdout",
     "output_type": "stream",
     "text": [
      "\u001b[93m[INFO]: Avoiding saving 00265image.jpg: already in the destination folder ...\u001b[0m\n",
      "\u001b[93m[INFO]: Avoiding saving mask戴口罩_211.jpg: already in the destination folder ...\u001b[0m\n",
      "\u001b[93m[INFO]: Avoiding saving 00264image.jpg: already in the destination folder ...\u001b[0m\n"
     ]
    },
    {
     "name": "stderr",
     "output_type": "stream",
     "text": [
      " 20%|█▉        | 265/1337 [00:38<01:34, 11.40it/s]"
     ]
    },
    {
     "name": "stdout",
     "output_type": "stream",
     "text": [
      "\u001b[93m[INFO]: Avoiding saving 00002image.jpg: already in the destination folder ...\u001b[0m\n",
      "\u001b[93m[INFO]: Avoiding saving 00002image.jpg: already in the destination folder ...\u001b[0m\n",
      "\u001b[93m[INFO]: Avoiding saving 1582117330.jpg: already in the destination folder ...\u001b[0m\n",
      "\u001b[93m[INFO]: Avoiding saving 00117mask.jpg: already in the destination folder ...\u001b[0m\n",
      "\u001b[93m[INFO]: Avoiding saving 00107mask.jpg: already in the destination folder ...\u001b[0m\n"
     ]
    },
    {
     "name": "stderr",
     "output_type": "stream",
     "text": [
      " 20%|█▉        | 267/1337 [00:38<01:35, 11.18it/s]"
     ]
    },
    {
     "name": "stdout",
     "output_type": "stream",
     "text": [
      "\u001b[93m[INFO]: Avoiding saving 00027image.webp: already in the destination folder ...\u001b[0m\n",
      "\u001b[93m[INFO]: Avoiding saving 00091image.jpg: already in the destination folder ...\u001b[0m\n",
      "\u001b[93m[INFO]: Avoiding saving 00090image.jpg: already in the destination folder ...\u001b[0m\n"
     ]
    },
    {
     "name": "stderr",
     "output_type": "stream",
     "text": [
      " 20%|██        | 271/1337 [00:38<01:29, 11.96it/s]"
     ]
    },
    {
     "name": "stdout",
     "output_type": "stream",
     "text": [
      "\u001b[93m[INFO]: Avoiding saving 00294pic.jpg: already in the destination folder ...\u001b[0m\n",
      "\u001b[93m[INFO]: Avoiding saving 00123pic.jpg: already in the destination folder ...\u001b[0m\n",
      "\u001b[93m[INFO]: Avoiding saving 00309mask.jpg: already in the destination folder ...\u001b[0m\n",
      "\u001b[93m[INFO]: Avoiding saving mask戴口罩_48.jpg: already in the destination folder ...\u001b[0m\n"
     ]
    },
    {
     "name": "stderr",
     "output_type": "stream",
     "text": [
      " 21%|██        | 276/1337 [00:38<01:13, 14.53it/s]"
     ]
    },
    {
     "name": "stdout",
     "output_type": "stream",
     "text": [
      "\u001b[93m[INFO]: Avoiding saving 00319mask.jpg: already in the destination folder ...\u001b[0m\n",
      "\u001b[93m[INFO]: Avoiding saving 00261mask.jpg: already in the destination folder ...\u001b[0m\n",
      "\u001b[93m[INFO]: Avoiding saving 00203mask.jpg: already in the destination folder ...\u001b[0m\n",
      "\u001b[93m[INFO]: Avoiding saving 1582117278.jpg: already in the destination folder ...\u001b[0m\n",
      "\u001b[93m[INFO]: Avoiding saving 00152pic.jpg: already in the destination folder ...\u001b[0m\n"
     ]
    },
    {
     "name": "stderr",
     "output_type": "stream",
     "text": [
      " 21%|██        | 283/1337 [00:39<01:07, 15.67it/s]"
     ]
    },
    {
     "name": "stdout",
     "output_type": "stream",
     "text": [
      "\u001b[93m[INFO]: Avoiding saving 00033image.webp: already in the destination folder ...\u001b[0m\n",
      "\u001b[93m[INFO]: Avoiding saving 00033image.webp: already in the destination folder ...\u001b[0m\n",
      "\u001b[93m[INFO]: Avoiding saving 00033image.webp: already in the destination folder ...\u001b[0m\n",
      "\u001b[93m[INFO]: Avoiding saving 00175mask.jpg: already in the destination folder ...\u001b[0m\n",
      "\u001b[93m[INFO]: Avoiding saving 00298pic.jpg: already in the destination folder ...\u001b[0m\n",
      "\u001b[93m[INFO]: Avoiding saving 00298pic.jpg: already in the destination folder ...\u001b[0m\n",
      "\u001b[93m[INFO]: Avoiding saving 00298pic.jpg: already in the destination folder ...\u001b[0m\n",
      "\u001b[93m[INFO]: Avoiding saving 00165mask.jpg: already in the destination folder ...\u001b[0m\n",
      "\u001b[93m[INFO]: Avoiding saving 00324image.jpg: already in the destination folder ...\u001b[0m\n",
      "\u001b[93m[INFO]: Avoiding saving 00142image.jpg: already in the destination folder ...\u001b[0m\n"
     ]
    },
    {
     "name": "stderr",
     "output_type": "stream",
     "text": [
      " 22%|██▏       | 289/1337 [00:39<01:06, 15.67it/s]"
     ]
    },
    {
     "name": "stdout",
     "output_type": "stream",
     "text": [
      "\u001b[93m[INFO]: Avoiding saving 00325image.jpg: already in the destination folder ...\u001b[0m\n",
      "\u001b[93m[INFO]: Avoiding saving 00023image.jpeg: already in the destination folder ...\u001b[0m\n"
     ]
    },
    {
     "name": "stderr",
     "output_type": "stream",
     "text": [
      " 22%|██▏       | 291/1337 [00:40<01:25, 12.24it/s]"
     ]
    },
    {
     "name": "stdout",
     "output_type": "stream",
     "text": [
      "\u001b[93m[INFO]: Avoiding saving 00052pic.png: already in the destination folder ...\u001b[0m\n",
      "\u001b[93m[INFO]: Avoiding saving 00164pic.jpg: already in the destination folder ...\u001b[0m\n"
     ]
    },
    {
     "name": "stderr",
     "output_type": "stream",
     "text": [
      " 22%|██▏       | 297/1337 [00:42<03:34,  4.85it/s]"
     ]
    },
    {
     "name": "stdout",
     "output_type": "stream",
     "text": [
      "\u001b[93m[INFO]: Avoiding saving 00064pic.jpg: already in the destination folder ...\u001b[0m\n",
      "\u001b[93m[INFO]: Avoiding saving 00064pic.jpg: already in the destination folder ...\u001b[0m\n",
      "\u001b[93m[INFO]: Avoiding saving 00064pic.jpg: already in the destination folder ...\u001b[0m\n",
      "\u001b[93m[INFO]: Avoiding saving 00064pic.jpg: already in the destination folder ...\u001b[0m\n",
      "\u001b[93m[INFO]: Avoiding saving 00064pic.jpg: already in the destination folder ...\u001b[0m\n",
      "\u001b[93m[INFO]: Avoiding saving 00064pic.jpg: already in the destination folder ...\u001b[0m\n",
      "\u001b[93m[INFO]: Avoiding saving 00326mask.jpg: already in the destination folder ...\u001b[0m\n",
      "\u001b[93m[INFO]: Avoiding saving 00326mask.jpg: already in the destination folder ...\u001b[0m\n",
      "\u001b[93m[INFO]: Avoiding saving 00326mask.jpg: already in the destination folder ...\u001b[0m\n",
      "\u001b[93m[INFO]: Avoiding saving 00326mask.jpg: already in the destination folder ...\u001b[0m\n",
      "\u001b[93m[INFO]: Avoiding saving 00128mask.jpg: already in the destination folder ...\u001b[0m\n",
      "\u001b[93m[INFO]: Avoiding saving 43.webp: already in the destination folder ...\u001b[0m\n",
      "\u001b[93m[INFO]: Avoiding saving 43.webp: already in the destination folder ...\u001b[0m\n",
      "\u001b[93m[INFO]: Avoiding saving 43.webp: already in the destination folder ...\u001b[0m\n"
     ]
    },
    {
     "name": "stderr",
     "output_type": "stream",
     "text": [
      " 23%|██▎       | 302/1337 [00:42<02:12,  7.83it/s]"
     ]
    },
    {
     "name": "stdout",
     "output_type": "stream",
     "text": [
      "\u001b[93m[INFO]: Avoiding saving 00135image.jpg: already in the destination folder ...\u001b[0m\n",
      "\u001b[93m[INFO]: Avoiding saving 00191mask.jpg: already in the destination folder ...\u001b[0m\n",
      "\u001b[93m[INFO]: Avoiding saving 00134image.jpg: already in the destination folder ...\u001b[0m\n",
      "\u001b[93m[INFO]: Avoiding saving 1582378606.jpg: already in the destination folder ...\u001b[0m\n"
     ]
    },
    {
     "name": "stderr",
     "output_type": "stream",
     "text": [
      " 23%|██▎       | 305/1337 [00:42<01:40, 10.24it/s]"
     ]
    },
    {
     "name": "stdout",
     "output_type": "stream",
     "text": [
      "\u001b[93m[INFO]: Avoiding saving 00107pic.jpg: already in the destination folder ...\u001b[0m\n"
     ]
    },
    {
     "name": "stderr",
     "output_type": "stream",
     "text": [
      " 23%|██▎       | 310/1337 [00:42<01:27, 11.73it/s]"
     ]
    },
    {
     "name": "stdout",
     "output_type": "stream",
     "text": [
      "\u001b[93m[INFO]: Avoiding saving 00295mask.jpg: already in the destination folder ...\u001b[0m\n",
      "\u001b[93m[INFO]: Avoiding saving 00295mask.jpg: already in the destination folder ...\u001b[0m\n",
      "\u001b[93m[INFO]: Avoiding saving 00295mask.jpg: already in the destination folder ...\u001b[0m\n",
      "\u001b[93m[INFO]: Avoiding saving 00295mask.jpg: already in the destination folder ...\u001b[0m\n",
      "\u001b[93m[INFO]: Avoiding saving 00076pic.jpg: already in the destination folder ...\u001b[0m\n",
      "\u001b[93m[INFO]: Avoiding saving mask戴口罩_49.jpg: already in the destination folder ...\u001b[0m\n",
      "\u001b[93m[INFO]: Avoiding saving 00285mask.jpg: already in the destination folder ...\u001b[0m\n",
      "\u001b[93m[INFO]: Avoiding saving 00285mask.jpg: already in the destination folder ...\u001b[0m\n",
      "\u001b[93m[INFO]: Avoiding saving 00176pic.jpg: already in the destination folder ...\u001b[0m\n"
     ]
    },
    {
     "name": "stderr",
     "output_type": "stream",
     "text": [
      " 24%|██▎       | 316/1337 [00:43<01:24, 12.15it/s]"
     ]
    },
    {
     "name": "stdout",
     "output_type": "stream",
     "text": [
      "\u001b[93m[INFO]: Avoiding saving 00074image.jpg: already in the destination folder ...\u001b[0m\n",
      "\u001b[93m[INFO]: Avoiding saving 00074image.jpg: already in the destination folder ...\u001b[0m\n",
      "\u001b[93m[INFO]: Avoiding saving 00074image.jpg: already in the destination folder ...\u001b[0m\n",
      "\u001b[93m[INFO]: Avoiding saving 00074image.jpg: already in the destination folder ...\u001b[0m\n",
      "\u001b[93m[INFO]: Avoiding saving mask戴口罩_210.jpg: already in the destination folder ...\u001b[0m\n"
     ]
    },
    {
     "name": "stderr",
     "output_type": "stream",
     "text": [
      " 24%|██▍       | 320/1337 [00:44<01:45,  9.63it/s]"
     ]
    },
    {
     "name": "stdout",
     "output_type": "stream",
     "text": [
      "\u001b[93m[INFO]: Avoiding saving 00068pic.jpg: already in the destination folder ...\u001b[0m\n",
      "\u001b[93m[INFO]: Avoiding saving 00068pic.jpg: already in the destination folder ...\u001b[0m\n",
      "\u001b[93m[INFO]: Avoiding saving 00068pic.jpg: already in the destination folder ...\u001b[0m\n",
      "\u001b[93m[INFO]: Avoiding saving 00068pic.jpg: already in the destination folder ...\u001b[0m\n",
      "\u001b[93m[INFO]: Avoiding saving 00280image.jpg: already in the destination folder ...\u001b[0m\n",
      "\u001b[93m[INFO]: Avoiding saving 00281image.jpg: already in the destination folder ...\u001b[0m\n",
      "\u001b[93m[INFO]: Avoiding saving 00281image.jpg: already in the destination folder ...\u001b[0m\n"
     ]
    },
    {
     "name": "stderr",
     "output_type": "stream",
     "text": [
      " 24%|██▍       | 322/1337 [00:44<01:36, 10.48it/s]"
     ]
    },
    {
     "name": "stdout",
     "output_type": "stream",
     "text": [
      "\u001b[93m[INFO]: Avoiding saving 98.jpg: already in the destination folder ...\u001b[0m\n",
      "\u001b[93m[INFO]: Avoiding saving 98.jpg: already in the destination folder ...\u001b[0m\n",
      "\u001b[93m[INFO]: Avoiding saving 98.jpg: already in the destination folder ...\u001b[0m\n",
      "\u001b[93m[INFO]: Avoiding saving 73.jpg: already in the destination folder ...\u001b[0m\n"
     ]
    },
    {
     "name": "stderr",
     "output_type": "stream",
     "text": [
      " 24%|██▍       | 324/1337 [00:44<02:42,  6.22it/s]"
     ]
    },
    {
     "name": "stdout",
     "output_type": "stream",
     "text": [
      "\u001b[93m[INFO]: Avoiding saving 67.jpg: already in the destination folder ...\u001b[0m\n",
      "\u001b[93m[INFO]: Avoiding saving 67.jpg: already in the destination folder ...\u001b[0m\n",
      "\u001b[93m[INFO]: Avoiding saving 67.jpg: already in the destination folder ...\u001b[0m\n"
     ]
    },
    {
     "name": "stderr",
     "output_type": "stream",
     "text": [
      " 24%|██▍       | 326/1337 [00:45<03:03,  5.50it/s]"
     ]
    },
    {
     "name": "stdout",
     "output_type": "stream",
     "text": [
      "\u001b[93m[INFO]: Avoiding saving 00015pic.jpg: already in the destination folder ...\u001b[0m\n",
      "\u001b[93m[INFO]: Avoiding saving 00015pic.jpg: already in the destination folder ...\u001b[0m\n",
      "\u001b[93m[INFO]: Avoiding saving 00015pic.jpg: already in the destination folder ...\u001b[0m\n",
      "\u001b[93m[INFO]: Avoiding saving 00015pic.jpg: already in the destination folder ...\u001b[0m\n",
      "\u001b[93m[INFO]: Avoiding saving 00015pic.jpg: already in the destination folder ...\u001b[0m\n",
      "\u001b[93m[INFO]: Avoiding saving 00015pic.jpg: already in the destination folder ...\u001b[0m\n"
     ]
    },
    {
     "name": "stderr",
     "output_type": "stream",
     "text": [
      " 25%|██▍       | 330/1337 [00:45<02:01,  8.30it/s]"
     ]
    },
    {
     "name": "stdout",
     "output_type": "stream",
     "text": [
      "\u001b[93m[INFO]: Avoiding saving 14.jpg: already in the destination folder ...\u001b[0m\n"
     ]
    },
    {
     "name": "stderr",
     "output_type": "stream",
     "text": [
      " 25%|██▌       | 336/1337 [00:46<02:41,  6.21it/s]"
     ]
    },
    {
     "name": "stdout",
     "output_type": "stream",
     "text": [
      "\u001b[93m[INFO]: Avoiding saving 101.jpg: already in the destination folder ...\u001b[0m\n",
      "\u001b[93m[INFO]: Avoiding saving 101.jpg: already in the destination folder ...\u001b[0m\n",
      "\u001b[93m[INFO]: Avoiding saving 00302mask.jpg: already in the destination folder ...\u001b[0m\n",
      "\u001b[93m[INFO]: Avoiding saving 00027pic.webp: already in the destination folder ...\u001b[0m\n"
     ]
    },
    {
     "name": "stderr",
     "output_type": "stream",
     "text": [
      " 26%|██▌       | 341/1337 [00:47<01:48,  9.19it/s]"
     ]
    },
    {
     "name": "stdout",
     "output_type": "stream",
     "text": [
      "\u001b[93m[INFO]: Avoiding saving 00324pic.jpg: already in the destination folder ...\u001b[0m\n",
      "\u001b[93m[INFO]: Avoiding saving 00193pic.jpg: already in the destination folder ...\u001b[0m\n",
      "\u001b[93m[INFO]: Avoiding saving 00328image.jpg: already in the destination folder ...\u001b[0m\n",
      "\u001b[93m[INFO]: Avoiding saving 00328image.jpg: already in the destination folder ...\u001b[0m\n",
      "\u001b[93m[INFO]: Avoiding saving 00328image.jpg: already in the destination folder ...\u001b[0m\n",
      "\u001b[93m[INFO]: Avoiding saving 00259pic.jpg: already in the destination folder ...\u001b[0m\n"
     ]
    },
    {
     "name": "stderr",
     "output_type": "stream",
     "text": [
      " 26%|██▌       | 344/1337 [00:49<04:55,  3.36it/s]"
     ]
    },
    {
     "name": "stdout",
     "output_type": "stream",
     "text": [
      "\u001b[93m[INFO]: Avoiding saving 00064mask.jpg: already in the destination folder ...\u001b[0m\n",
      "\u001b[93m[INFO]: Avoiding saving 00064mask.jpg: already in the destination folder ...\u001b[0m\n",
      "\u001b[93m[INFO]: Avoiding saving 00064mask.jpg: already in the destination folder ...\u001b[0m\n",
      "\u001b[93m[INFO]: Avoiding saving 00064mask.jpg: already in the destination folder ...\u001b[0m\n",
      "\u001b[93m[INFO]: Avoiding saving 00064mask.jpg: already in the destination folder ...\u001b[0m\n",
      "\u001b[93m[INFO]: Avoiding saving 00064mask.jpg: already in the destination folder ...\u001b[0m\n"
     ]
    },
    {
     "name": "stderr",
     "output_type": "stream",
     "text": [
      " 26%|██▌       | 348/1337 [00:49<03:37,  4.54it/s]"
     ]
    },
    {
     "name": "stdout",
     "output_type": "stream",
     "text": [
      "\u001b[93m[INFO]: Avoiding saving 00074mask.jpg: already in the destination folder ...\u001b[0m\n",
      "\u001b[93m[INFO]: Avoiding saving 00074mask.jpg: already in the destination folder ...\u001b[0m\n",
      "\u001b[93m[INFO]: Avoiding saving 00074mask.jpg: already in the destination folder ...\u001b[0m\n",
      "\u001b[93m[INFO]: Avoiding saving 00074mask.jpg: already in the destination folder ...\u001b[0m\n",
      "\u001b[93m[INFO]: Avoiding saving 00328pic.jpg: already in the destination folder ...\u001b[0m\n",
      "\u001b[93m[INFO]: Avoiding saving 00328pic.jpg: already in the destination folder ...\u001b[0m\n",
      "\u001b[93m[INFO]: Avoiding saving 00328pic.jpg: already in the destination folder ...\u001b[0m\n",
      "\u001b[93m[INFO]: Avoiding saving 00006mask.jpg: already in the destination folder ...\u001b[0m\n",
      "\u001b[93m[INFO]: Avoiding saving 00006mask.jpg: already in the destination folder ...\u001b[0m\n"
     ]
    },
    {
     "name": "stderr",
     "output_type": "stream",
     "text": [
      " 27%|██▋       | 359/1337 [00:50<01:17, 12.64it/s]"
     ]
    },
    {
     "name": "stdout",
     "output_type": "stream",
     "text": [
      "\u001b[93m[INFO]: Avoiding saving 00269image.jpg: already in the destination folder ...\u001b[0m\n",
      "\u001b[93m[INFO]: Avoiding saving 00269image.jpg: already in the destination folder ...\u001b[0m\n",
      "\u001b[93m[INFO]: Avoiding saving 00269image.jpg: already in the destination folder ...\u001b[0m\n",
      "\u001b[93m[INFO]: Avoiding saving 00269image.jpg: already in the destination folder ...\u001b[0m\n"
     ]
    },
    {
     "name": "stderr",
     "output_type": "stream",
     "text": [
      " 27%|██▋       | 363/1337 [00:50<01:02, 15.62it/s]"
     ]
    },
    {
     "name": "stdout",
     "output_type": "stream",
     "text": [
      "\u001b[93m[INFO]: Avoiding saving 00195image.jpg: already in the destination folder ...\u001b[0m\n",
      "\u001b[93m[INFO]: Avoiding saving 00106image.jpg: already in the destination folder ...\u001b[0m\n",
      "\u001b[93m[INFO]: Avoiding saving 00106image.jpg: already in the destination folder ...\u001b[0m\n",
      "\u001b[93m[INFO]: Avoiding saving 00106image.jpg: already in the destination folder ...\u001b[0m\n"
     ]
    },
    {
     "name": "stderr",
     "output_type": "stream",
     "text": [
      " 28%|██▊       | 370/1337 [00:50<00:49, 19.54it/s]"
     ]
    },
    {
     "name": "stdout",
     "output_type": "stream",
     "text": [
      "\u001b[93m[INFO]: Avoiding saving 00107image.jpg: already in the destination folder ...\u001b[0m\n",
      "\u001b[93m[INFO]: Avoiding saving 1582379782.jpg: already in the destination folder ...\u001b[0m\n",
      "\u001b[93m[INFO]: Avoiding saving 1582462853.jpg: already in the destination folder ...\u001b[0m\n"
     ]
    },
    {
     "name": "stderr",
     "output_type": "stream",
     "text": [
      " 28%|██▊       | 373/1337 [00:50<00:58, 16.41it/s]"
     ]
    },
    {
     "name": "stdout",
     "output_type": "stream",
     "text": [
      "\u001b[93m[INFO]: Avoiding saving 00033mask.webp: already in the destination folder ...\u001b[0m\n",
      "\u001b[93m[INFO]: Avoiding saving 00033mask.webp: already in the destination folder ...\u001b[0m\n",
      "\u001b[93m[INFO]: Avoiding saving 00033mask.webp: already in the destination folder ...\u001b[0m\n",
      "\u001b[93m[INFO]: Avoiding saving 00079image.jpg: already in the destination folder ...\u001b[0m\n",
      "\u001b[93m[INFO]: Avoiding saving 00079image.jpg: already in the destination folder ...\u001b[0m\n"
     ]
    },
    {
     "name": "stderr",
     "output_type": "stream",
     "text": [
      " 28%|██▊       | 376/1337 [00:51<01:00, 15.82it/s]"
     ]
    },
    {
     "name": "stdout",
     "output_type": "stream",
     "text": [
      "\u001b[93m[INFO]: Avoiding saving 00123mask.jpg: already in the destination folder ...\u001b[0m\n",
      "\u001b[93m[INFO]: Avoiding saving 00078image.jpg: already in the destination folder ...\u001b[0m\n",
      "\u001b[93m[INFO]: Avoiding saving 00078image.jpg: already in the destination folder ...\u001b[0m\n"
     ]
    },
    {
     "name": "stderr",
     "output_type": "stream",
     "text": [
      " 28%|██▊       | 380/1337 [00:51<01:08, 14.07it/s]"
     ]
    },
    {
     "name": "stdout",
     "output_type": "stream",
     "text": [
      "\u001b[93m[INFO]: Avoiding saving 20.jpeg: already in the destination folder ...\u001b[0m\n",
      "\u001b[93m[INFO]: Avoiding saving 00133mask.jpg: already in the destination folder ...\u001b[0m\n",
      "\u001b[93m[INFO]: Avoiding saving 1582462891.jpg: already in the destination folder ...\u001b[0m\n"
     ]
    },
    {
     "name": "stderr",
     "output_type": "stream",
     "text": [
      " 29%|██▉       | 388/1337 [00:51<00:51, 18.38it/s]"
     ]
    },
    {
     "name": "stdout",
     "output_type": "stream",
     "text": [
      "\u001b[93m[INFO]: Avoiding saving 00263pic.jpg: already in the destination folder ...\u001b[0m\n",
      "\u001b[93m[INFO]: Avoiding saving 1582116303.jpg: already in the destination folder ...\u001b[0m\n",
      "\u001b[93m[INFO]: Avoiding saving 1582379768.jpg: already in the destination folder ...\u001b[0m\n"
     ]
    },
    {
     "name": "stderr",
     "output_type": "stream",
     "text": [
      " 29%|██▉       | 394/1337 [00:52<00:47, 19.79it/s]"
     ]
    },
    {
     "name": "stdout",
     "output_type": "stream",
     "text": [
      "\u001b[93m[INFO]: Avoiding saving 00317image.jpg: already in the destination folder ...\u001b[0m\n",
      "\u001b[93m[INFO]: Avoiding saving 00316image.jpg: already in the destination folder ...\u001b[0m\n",
      "\u001b[93m[INFO]: Avoiding saving mask戴口罩_114.jpg: already in the destination folder ...\u001b[0m\n",
      "\u001b[93m[INFO]: Avoiding saving 00170image.jpg: already in the destination folder ...\u001b[0m\n",
      "\u001b[93m[INFO]: Avoiding saving 00170image.jpg: already in the destination folder ...\u001b[0m\n"
     ]
    },
    {
     "name": "stderr",
     "output_type": "stream",
     "text": [
      " 30%|██▉       | 401/1337 [00:52<00:44, 21.09it/s]"
     ]
    },
    {
     "name": "stdout",
     "output_type": "stream",
     "text": [
      "\u001b[93m[INFO]: Avoiding saving 00080mask.jpg: already in the destination folder ...\u001b[0m\n",
      "\u001b[93m[INFO]: Avoiding saving 00080mask.jpg: already in the destination folder ...\u001b[0m\n",
      "\u001b[93m[INFO]: Avoiding saving 00090mask.jpg: already in the destination folder ...\u001b[0m\n",
      "\u001b[93m[INFO]: Avoiding saving 00030image.jpg: already in the destination folder ...\u001b[0m\n",
      "\u001b[93m[INFO]: Avoiding saving 00257image.jpg: already in the destination folder ...\u001b[0m\n"
     ]
    },
    {
     "name": "stderr",
     "output_type": "stream",
     "text": [
      " 31%|███       | 408/1337 [00:52<00:40, 22.84it/s]"
     ]
    },
    {
     "name": "stdout",
     "output_type": "stream",
     "text": [
      "\u001b[93m[INFO]: Avoiding saving 100.jpg: already in the destination folder ...\u001b[0m\n",
      "\u001b[93m[INFO]: Avoiding saving 100.jpg: already in the destination folder ...\u001b[0m\n",
      "\u001b[93m[INFO]: Avoiding saving 100.jpg: already in the destination folder ...\u001b[0m\n",
      "\u001b[93m[INFO]: Avoiding saving 100.jpg: already in the destination folder ...\u001b[0m\n",
      "\u001b[93m[INFO]: Avoiding saving 00227mask.jpg: already in the destination folder ...\u001b[0m\n",
      "\u001b[93m[INFO]: Avoiding saving 00141mask.jpg: already in the destination folder ...\u001b[0m\n"
     ]
    },
    {
     "name": "stderr",
     "output_type": "stream",
     "text": [
      " 31%|███       | 413/1337 [00:52<00:32, 28.24it/s]"
     ]
    },
    {
     "name": "stdout",
     "output_type": "stream",
     "text": [
      "\u001b[93m[INFO]: Avoiding saving 00139image.jpg: already in the destination folder ...\u001b[0m\n",
      "\u001b[93m[INFO]: Avoiding saving 1582379608.jpg: already in the destination folder ...\u001b[0m\n"
     ]
    },
    {
     "name": "stderr",
     "output_type": "stream",
     "text": [
      " 31%|███       | 417/1337 [00:53<00:56, 16.25it/s]"
     ]
    },
    {
     "name": "stdout",
     "output_type": "stream",
     "text": [
      "\u001b[93m[INFO]: Avoiding saving 15.jpg: already in the destination folder ...\u001b[0m\n",
      "\u001b[93m[INFO]: Avoiding saving 15.jpg: already in the destination folder ...\u001b[0m\n",
      "\u001b[93m[INFO]: Avoiding saving 15.jpg: already in the destination folder ...\u001b[0m\n",
      "\u001b[93m[INFO]: Avoiding saving 1582116277.jpg: already in the destination folder ...\u001b[0m\n",
      "\u001b[93m[INFO]: Avoiding saving 52.webp: already in the destination folder ...\u001b[0m\n",
      "\u001b[93m[INFO]: Avoiding saving 00177mask.jpg: already in the destination folder ...\u001b[0m\n"
     ]
    },
    {
     "name": "stderr",
     "output_type": "stream",
     "text": [
      " 31%|███▏      | 420/1337 [00:53<00:54, 16.89it/s]"
     ]
    },
    {
     "name": "stdout",
     "output_type": "stream",
     "text": [
      "\u001b[93m[INFO]: Avoiding saving 00096image.jpg: already in the destination folder ...\u001b[0m\n",
      "\u001b[93m[INFO]: Avoiding saving 00097image.jpg: already in the destination folder ...\u001b[0m\n",
      "\u001b[93m[INFO]: Avoiding saving 00097image.jpg: already in the destination folder ...\u001b[0m\n",
      "\u001b[93m[INFO]: Avoiding saving 00097image.jpg: already in the destination folder ...\u001b[0m\n"
     ]
    },
    {
     "name": "stderr",
     "output_type": "stream",
     "text": [
      " 32%|███▏      | 425/1337 [00:53<01:02, 14.52it/s]"
     ]
    },
    {
     "name": "stdout",
     "output_type": "stream",
     "text": [
      "\u001b[93m[INFO]: Avoiding saving 00072pic.jpg: already in the destination folder ...\u001b[0m\n",
      "\u001b[93m[INFO]: Avoiding saving 00172pic.jpg: already in the destination folder ...\u001b[0m\n",
      "\u001b[93m[INFO]: Avoiding saving 00211mask.jpg: already in the destination folder ...\u001b[0m\n"
     ]
    },
    {
     "name": "stderr",
     "output_type": "stream",
     "text": [
      " 32%|███▏      | 430/1337 [00:55<02:24,  6.26it/s]"
     ]
    },
    {
     "name": "stdout",
     "output_type": "stream",
     "text": [
      "\u001b[93m[INFO]: Avoiding saving 102.jpg: already in the destination folder ...\u001b[0m\n",
      "\u001b[93m[INFO]: Avoiding saving 102.jpg: already in the destination folder ...\u001b[0m\n",
      "\u001b[93m[INFO]: Avoiding saving 102.jpg: already in the destination folder ...\u001b[0m\n",
      "\u001b[93m[INFO]: Avoiding saving 102.jpg: already in the destination folder ...\u001b[0m\n",
      "\u001b[93m[INFO]: Avoiding saving 102.jpg: already in the destination folder ...\u001b[0m\n",
      "\u001b[93m[INFO]: Avoiding saving 102.jpg: already in the destination folder ...\u001b[0m\n",
      "\u001b[93m[INFO]: Avoiding saving 00011pic.jpg: already in the destination folder ...\u001b[0m\n",
      "\u001b[93m[INFO]: Avoiding saving mask戴口罩_39.jpg: already in the destination folder ...\u001b[0m\n",
      "\u001b[93m[INFO]: Avoiding saving 00262image.jpg: already in the destination folder ...\u001b[0m\n"
     ]
    },
    {
     "name": "stderr",
     "output_type": "stream",
     "text": [
      " 32%|███▏      | 432/1337 [00:55<02:07,  7.08it/s]"
     ]
    },
    {
     "name": "stdout",
     "output_type": "stream",
     "text": [
      "\u001b[93m[INFO]: Avoiding saving 00004image.jpg: already in the destination folder ...\u001b[0m\n",
      "\u001b[93m[INFO]: Avoiding saving 00005image.jpg: already in the destination folder ...\u001b[0m\n",
      "\u001b[93m[INFO]: Avoiding saving 00263image.jpg: already in the destination folder ...\u001b[0m\n",
      "\u001b[93m[INFO]: Avoiding saving 00145image.jpg: already in the destination folder ...\u001b[0m\n"
     ]
    },
    {
     "name": "stderr",
     "output_type": "stream",
     "text": [
      " 33%|███▎      | 439/1337 [00:55<01:09, 12.84it/s]"
     ]
    },
    {
     "name": "stdout",
     "output_type": "stream",
     "text": [
      "\u001b[93m[INFO]: Avoiding saving 00323image.jpg: already in the destination folder ...\u001b[0m\n",
      "\u001b[93m[INFO]: Avoiding saving 00322image.jpg: already in the destination folder ...\u001b[0m\n",
      "\u001b[93m[INFO]: Avoiding saving 00144image.jpg: already in the destination folder ...\u001b[0m\n",
      "\u001b[93m[INFO]: Avoiding saving 1582378676.jpg: already in the destination folder ...\u001b[0m\n",
      "\u001b[93m[INFO]: Avoiding saving 00160pic.jpg: already in the destination folder ...\u001b[0m\n"
     ]
    },
    {
     "name": "stderr",
     "output_type": "stream",
     "text": [
      " 33%|███▎      | 442/1337 [00:56<01:34,  9.46it/s]"
     ]
    },
    {
     "name": "stdout",
     "output_type": "stream",
     "text": [
      "\u001b[93m[INFO]: Avoiding saving 00060pic.jpg: already in the destination folder ...\u001b[0m\n",
      "\u001b[93m[INFO]: Avoiding saving 00060pic.jpg: already in the destination folder ...\u001b[0m\n",
      "\u001b[93m[INFO]: Avoiding saving 00060pic.jpg: already in the destination folder ...\u001b[0m\n",
      "\u001b[93m[INFO]: Avoiding saving 00060pic.jpg: already in the destination folder ...\u001b[0m\n",
      "\u001b[93m[INFO]: Avoiding saving 00060pic.jpg: already in the destination folder ...\u001b[0m\n",
      "\u001b[93m[INFO]: Avoiding saving mask戴口罩_116.jpg: already in the destination folder ...\u001b[0m\n",
      "\u001b[93m[INFO]: Avoiding saving 00263mask.jpg: already in the destination folder ...\u001b[0m\n"
     ]
    },
    {
     "name": "stderr",
     "output_type": "stream",
     "text": [
      " 34%|███▎      | 451/1337 [00:56<00:58, 15.10it/s]"
     ]
    },
    {
     "name": "stdout",
     "output_type": "stream",
     "text": [
      "\u001b[93m[INFO]: Avoiding saving 1582462878.jpg: already in the destination folder ...\u001b[0m\n",
      "\u001b[93m[INFO]: Avoiding saving 1582462844.jpg: already in the destination folder ...\u001b[0m\n"
     ]
    },
    {
     "name": "stderr",
     "output_type": "stream",
     "text": [
      " 34%|███▍      | 458/1337 [00:57<00:49, 17.65it/s]"
     ]
    },
    {
     "name": "stdout",
     "output_type": "stream",
     "text": [
      "\u001b[93m[INFO]: Avoiding saving 00099mask.jpg: already in the destination folder ...\u001b[0m\n",
      "\u001b[93m[INFO]: Avoiding saving 00099mask.jpg: already in the destination folder ...\u001b[0m\n",
      "\u001b[93m[INFO]: Avoiding saving 00099mask.jpg: already in the destination folder ...\u001b[0m\n",
      "\u001b[93m[INFO]: Avoiding saving 00099mask.jpg: already in the destination folder ...\u001b[0m\n",
      "\u001b[93m[INFO]: Avoiding saving 00132image.jpg: already in the destination folder ...\u001b[0m\n"
     ]
    },
    {
     "name": "stderr",
     "output_type": "stream",
     "text": [
      " 34%|███▍      | 461/1337 [00:57<00:43, 19.94it/s]"
     ]
    },
    {
     "name": "stdout",
     "output_type": "stream",
     "text": [
      "\u001b[93m[INFO]: Avoiding saving 00133image.jpg: already in the destination folder ...\u001b[0m\n",
      "\u001b[93m[INFO]: Avoiding saving 1582379757.jpg: already in the destination folder ...\u001b[0m\n",
      "\u001b[93m[INFO]: Avoiding saving 1582379757.jpg: already in the destination folder ...\u001b[0m\n",
      "\u001b[93m[INFO]: Avoiding saving 00156pic.jpg: already in the destination folder ...\u001b[0m\n"
     ]
    },
    {
     "name": "stderr",
     "output_type": "stream",
     "text": [
      " 35%|███▍      | 467/1337 [00:57<00:49, 17.54it/s]"
     ]
    },
    {
     "name": "stdout",
     "output_type": "stream",
     "text": [
      "\u001b[93m[INFO]: Avoiding saving 00297mask.jpg: already in the destination folder ...\u001b[0m\n",
      "\u001b[93m[INFO]: Avoiding saving 00297mask.jpg: already in the destination folder ...\u001b[0m\n",
      "\u001b[93m[INFO]: Avoiding saving 00135pic.jpg: already in the destination folder ...\u001b[0m\n",
      "\u001b[93m[INFO]: Avoiding saving 00282pic.jpg: already in the destination folder ...\u001b[0m\n",
      "\u001b[93m[INFO]: Avoiding saving mask戴口罩_117.jpg: already in the destination folder ...\u001b[0m\n"
     ]
    },
    {
     "name": "stderr",
     "output_type": "stream",
     "text": [
      " 35%|███▌      | 471/1337 [00:58<01:04, 13.48it/s]"
     ]
    },
    {
     "name": "stdout",
     "output_type": "stream",
     "text": [
      "\u001b[93m[INFO]: Avoiding saving 00056pic.png: already in the destination folder ...\u001b[0m\n",
      "\u001b[93m[INFO]: Avoiding saving mask戴口罩_103.jpg: already in the destination folder ...\u001b[0m\n",
      "\u001b[93m[INFO]: Avoiding saving 00148pic.jpg: already in the destination folder ...\u001b[0m\n",
      "\u001b[93m[INFO]: Avoiding saving 00020mask.jpg: already in the destination folder ...\u001b[0m\n",
      "\u001b[93m[INFO]: Avoiding saving 00020mask.jpg: already in the destination folder ...\u001b[0m\n",
      "\u001b[93m[INFO]: Avoiding saving 00030mask.jpg: already in the destination folder ...\u001b[0m\n"
     ]
    },
    {
     "name": "stderr",
     "output_type": "stream",
     "text": [
      " 36%|███▌      | 478/1337 [00:58<00:55, 15.38it/s]"
     ]
    },
    {
     "name": "stdout",
     "output_type": "stream",
     "text": [
      "\u001b[93m[INFO]: Avoiding saving 00034image.webp: already in the destination folder ...\u001b[0m\n",
      "\u001b[93m[INFO]: Avoiding saving 00034image.webp: already in the destination folder ...\u001b[0m\n",
      "\u001b[93m[INFO]: Avoiding saving 00034image.webp: already in the destination folder ...\u001b[0m\n",
      "\u001b[93m[INFO]: Avoiding saving 00148mask.jpg: already in the destination folder ...\u001b[0m\n",
      "\u001b[93m[INFO]: Avoiding saving 00139pic.jpg: already in the destination folder ...\u001b[0m\n"
     ]
    },
    {
     "name": "stderr",
     "output_type": "stream",
     "text": [
      " 36%|███▌      | 484/1337 [00:58<00:44, 19.03it/s]"
     ]
    },
    {
     "name": "stdout",
     "output_type": "stream",
     "text": [
      "\u001b[93m[INFO]: Avoiding saving 00324mask.jpg: already in the destination folder ...\u001b[0m\n",
      "\u001b[93m[INFO]: Avoiding saving 00144pic.jpg: already in the destination folder ...\u001b[0m\n",
      "\u001b[93m[INFO]: Avoiding saving 00290pic.jpg: already in the destination folder ...\u001b[0m\n"
     ]
    },
    {
     "name": "stderr",
     "output_type": "stream",
     "text": [
      " 36%|███▋      | 487/1337 [00:59<01:07, 12.65it/s]"
     ]
    },
    {
     "name": "stdout",
     "output_type": "stream",
     "text": [
      "\u001b[93m[INFO]: Avoiding saving 103.jpg: already in the destination folder ...\u001b[0m\n",
      "\u001b[93m[INFO]: Avoiding saving 117.jpg: already in the destination folder ...\u001b[0m\n"
     ]
    },
    {
     "name": "stderr",
     "output_type": "stream",
     "text": [
      " 37%|███▋      | 489/1337 [00:59<01:15, 11.25it/s]"
     ]
    },
    {
     "name": "stdout",
     "output_type": "stream",
     "text": [
      "\u001b[93m[INFO]: Avoiding saving 29.webp: already in the destination folder ...\u001b[0m\n",
      "\u001b[93m[INFO]: Avoiding saving 29.webp: already in the destination folder ...\u001b[0m\n",
      "\u001b[93m[INFO]: Avoiding saving 29.webp: already in the destination folder ...\u001b[0m\n",
      "\u001b[93m[INFO]: Avoiding saving 00052mask.png: already in the destination folder ...\u001b[0m\n"
     ]
    },
    {
     "name": "stderr",
     "output_type": "stream",
     "text": [
      " 37%|███▋      | 491/1337 [01:00<01:48,  7.80it/s]"
     ]
    },
    {
     "name": "stdout",
     "output_type": "stream",
     "text": [
      "\u001b[93m[INFO]: Avoiding saving 00073image.jpg: already in the destination folder ...\u001b[0m\n",
      "\u001b[93m[INFO]: Avoiding saving 00073image.jpg: already in the destination folder ...\u001b[0m\n",
      "\u001b[93m[INFO]: Avoiding saving 00073image.jpg: already in the destination folder ...\u001b[0m\n",
      "\u001b[93m[INFO]: Avoiding saving 00073image.jpg: already in the destination folder ...\u001b[0m\n",
      "\u001b[93m[INFO]: Avoiding saving 00073image.jpg: already in the destination folder ...\u001b[0m\n",
      "\u001b[93m[INFO]: Avoiding saving 00073image.jpg: already in the destination folder ...\u001b[0m\n",
      "\u001b[93m[INFO]: Avoiding saving 00073image.jpg: already in the destination folder ...\u001b[0m\n",
      "\u001b[93m[INFO]: Avoiding saving 00073image.jpg: already in the destination folder ...\u001b[0m\n",
      "\u001b[93m[INFO]: Avoiding saving 00183mask.jpg: already in the destination folder ...\u001b[0m\n",
      "\u001b[93m[INFO]: Avoiding saving 00214image.jpg: already in the destination folder ...\u001b[0m\n"
     ]
    },
    {
     "name": "stderr",
     "output_type": "stream",
     "text": [
      " 37%|███▋      | 495/1337 [01:00<01:27,  9.61it/s]"
     ]
    },
    {
     "name": "stdout",
     "output_type": "stream",
     "text": [
      "\u001b[93m[INFO]: Avoiding saving 00072image.jpg: already in the destination folder ...\u001b[0m\n",
      "\u001b[93m[INFO]: Avoiding saving 00193mask.jpg: already in the destination folder ...\u001b[0m\n"
     ]
    },
    {
     "name": "stderr",
     "output_type": "stream",
     "text": [
      " 37%|███▋      | 497/1337 [01:00<01:52,  7.47it/s]"
     ]
    },
    {
     "name": "stdout",
     "output_type": "stream",
     "text": [
      "\u001b[93m[INFO]: Avoiding saving 16.jpg: already in the destination folder ...\u001b[0m\n",
      "\u001b[93m[INFO]: Avoiding saving 16.jpg: already in the destination folder ...\u001b[0m\n",
      "\u001b[93m[INFO]: Avoiding saving 16.jpg: already in the destination folder ...\u001b[0m\n",
      "\u001b[93m[INFO]: Avoiding saving 16.jpg: already in the destination folder ...\u001b[0m\n",
      "\u001b[93m[INFO]: Avoiding saving 16.jpg: already in the destination folder ...\u001b[0m\n",
      "\u001b[93m[INFO]: Avoiding saving 16.jpg: already in the destination folder ...\u001b[0m\n"
     ]
    },
    {
     "name": "stderr",
     "output_type": "stream",
     "text": [
      " 37%|███▋      | 500/1337 [01:02<03:49,  3.65it/s]"
     ]
    },
    {
     "name": "stdout",
     "output_type": "stream",
     "text": [
      "\u001b[93m[INFO]: Avoiding saving 00101pic.jpg: already in the destination folder ...\u001b[0m\n",
      "\u001b[93m[INFO]: Avoiding saving 00101pic.jpg: already in the destination folder ...\u001b[0m\n",
      "\u001b[93m[INFO]: Avoiding saving 00101pic.jpg: already in the destination folder ...\u001b[0m\n",
      "\u001b[93m[INFO]: Avoiding saving 00101pic.jpg: already in the destination folder ...\u001b[0m\n",
      "\u001b[93m[INFO]: Avoiding saving 00101pic.jpg: already in the destination folder ...\u001b[0m\n",
      "\u001b[93m[INFO]: Avoiding saving 00101pic.jpg: already in the destination folder ...\u001b[0m\n",
      "\u001b[93m[INFO]: Avoiding saving 00001pic.jpg: already in the destination folder ...\u001b[0m\n"
     ]
    },
    {
     "name": "stderr",
     "output_type": "stream",
     "text": [
      " 38%|███▊      | 502/1337 [01:02<02:58,  4.67it/s]"
     ]
    },
    {
     "name": "stdout",
     "output_type": "stream",
     "text": [
      "\u001b[93m[INFO]: Avoiding saving 12.jpg: already in the destination folder ...\u001b[0m\n",
      "\u001b[93m[INFO]: Avoiding saving 107.jpg: already in the destination folder ...\u001b[0m\n",
      "\u001b[93m[INFO]: Avoiding saving 107.jpg: already in the destination folder ...\u001b[0m\n",
      "\u001b[93m[INFO]: Avoiding saving 107.jpg: already in the destination folder ...\u001b[0m\n",
      "\u001b[93m[INFO]: Avoiding saving 28.webp: already in the destination folder ...\u001b[0m\n"
     ]
    },
    {
     "name": "stderr",
     "output_type": "stream",
     "text": [
      " 38%|███▊      | 507/1337 [01:03<01:37,  8.47it/s]"
     ]
    },
    {
     "name": "stdout",
     "output_type": "stream",
     "text": [
      "\u001b[93m[INFO]: Avoiding saving 1582379800.jpg: already in the destination folder ...\u001b[0m\n",
      "\u001b[93m[INFO]: Avoiding saving 00176mask.jpg: already in the destination folder ...\u001b[0m\n"
     ]
    },
    {
     "name": "stderr",
     "output_type": "stream",
     "text": [
      " 39%|███▊      | 515/1337 [01:03<00:51, 15.84it/s]"
     ]
    },
    {
     "name": "stdout",
     "output_type": "stream",
     "text": [
      "\u001b[93m[INFO]: Avoiding saving 00210mask.jpg: already in the destination folder ...\u001b[0m\n",
      "\u001b[93m[INFO]: Avoiding saving 00183image.jpg: already in the destination folder ...\u001b[0m\n",
      "\u001b[93m[INFO]: Avoiding saving mask戴口罩_14.jpg: already in the destination folder ...\u001b[0m\n",
      "\u001b[93m[INFO]: Avoiding saving mask戴口罩_14.jpg: already in the destination folder ...\u001b[0m\n",
      "\u001b[93m[INFO]: Avoiding saving mask戴口罩_14.jpg: already in the destination folder ...\u001b[0m\n",
      "\u001b[93m[INFO]: Avoiding saving 00182image.jpg: already in the destination folder ...\u001b[0m\n",
      "\u001b[93m[INFO]: Avoiding saving 00162pic.jpg: already in the destination folder ...\u001b[0m\n"
     ]
    },
    {
     "name": "stderr",
     "output_type": "stream",
     "text": [
      " 39%|███▊      | 518/1337 [01:05<03:58,  3.43it/s]"
     ]
    },
    {
     "name": "stdout",
     "output_type": "stream",
     "text": [
      "\u001b[93m[INFO]: Avoiding saving 00062pic.jpg: already in the destination folder ...\u001b[0m\n",
      "\u001b[93m[INFO]: Avoiding saving 00062pic.jpg: already in the destination folder ...\u001b[0m\n",
      "\u001b[93m[INFO]: Avoiding saving 00013pic.jpg: already in the destination folder ...\u001b[0m\n"
     ]
    },
    {
     "name": "stderr",
     "output_type": "stream",
     "text": [
      " 39%|███▉      | 520/1337 [01:05<03:18,  4.12it/s]"
     ]
    },
    {
     "name": "stdout",
     "output_type": "stream",
     "text": [
      "\u001b[93m[INFO]: Avoiding saving 00272mask.jpg: already in the destination folder ...\u001b[0m\n",
      "\u001b[93m[INFO]: Avoiding saving 00262mask.jpg: already in the destination folder ...\u001b[0m\n",
      "\u001b[93m[INFO]: Avoiding saving 1582378673.jpg: already in the destination folder ...\u001b[0m\n"
     ]
    },
    {
     "name": "stderr",
     "output_type": "stream",
     "text": [
      " 39%|███▉      | 526/1337 [01:06<01:48,  7.47it/s]"
     ]
    },
    {
     "name": "stdout",
     "output_type": "stream",
     "text": [
      "\u001b[93m[INFO]: Avoiding saving 00051image.webp: already in the destination folder ...\u001b[0m\n",
      "\u001b[93m[INFO]: Avoiding saving 00159image.jpg: already in the destination folder ...\u001b[0m\n",
      "\u001b[93m[INFO]: Avoiding saving mask戴口罩_113.jpg: already in the destination folder ...\u001b[0m\n",
      "\u001b[93m[INFO]: Avoiding saving mask戴口罩_113.jpg: already in the destination folder ...\u001b[0m\n"
     ]
    },
    {
     "name": "stderr",
     "output_type": "stream",
     "text": [
      " 40%|███▉      | 529/1337 [01:06<01:18, 10.23it/s]"
     ]
    },
    {
     "name": "stdout",
     "output_type": "stream",
     "text": [
      "\u001b[93m[INFO]: Avoiding saving 1582379784.jpg: already in the destination folder ...\u001b[0m\n",
      "\u001b[93m[INFO]: Avoiding saving 1582462855.jpg: already in the destination folder ...\u001b[0m\n"
     ]
    },
    {
     "name": "stderr",
     "output_type": "stream",
     "text": [
      " 40%|███▉      | 534/1337 [01:06<01:18, 10.21it/s]"
     ]
    },
    {
     "name": "stdout",
     "output_type": "stream",
     "text": [
      "\u001b[93m[INFO]: Avoiding saving 00070pic.jpg: already in the destination folder ...\u001b[0m\n",
      "\u001b[93m[INFO]: Avoiding saving 00070pic.jpg: already in the destination folder ...\u001b[0m\n",
      "\u001b[93m[INFO]: Avoiding saving 00070pic.jpg: already in the destination folder ...\u001b[0m\n",
      "\u001b[93m[INFO]: Avoiding saving 00070pic.jpg: already in the destination folder ...\u001b[0m\n",
      "\u001b[93m[INFO]: Avoiding saving 00170pic.jpg: already in the destination folder ...\u001b[0m\n",
      "\u001b[93m[INFO]: Avoiding saving 00170pic.jpg: already in the destination folder ...\u001b[0m\n",
      "\u001b[93m[INFO]: Avoiding saving 00292pic.jpg: already in the destination folder ...\u001b[0m\n"
     ]
    },
    {
     "name": "stderr",
     "output_type": "stream",
     "text": [
      " 40%|████      | 540/1337 [01:07<00:50, 15.88it/s]"
     ]
    },
    {
     "name": "stdout",
     "output_type": "stream",
     "text": [
      "\u001b[93m[INFO]: Avoiding saving 00125pic.jpg: already in the destination folder ...\u001b[0m\n",
      "\u001b[93m[INFO]: Avoiding saving 1582462854.jpg: already in the destination folder ...\u001b[0m\n",
      "\u001b[93m[INFO]: Avoiding saving 00149mask.jpg: already in the destination folder ...\u001b[0m\n"
     ]
    },
    {
     "name": "stderr",
     "output_type": "stream",
     "text": [
      " 41%|████      | 545/1337 [01:07<01:32,  8.56it/s]"
     ]
    },
    {
     "name": "stdout",
     "output_type": "stream",
     "text": [
      "\u001b[93m[INFO]: Avoiding saving 00058pic.jpg: already in the destination folder ...\u001b[0m\n",
      "\u001b[93m[INFO]: Avoiding saving 00058pic.jpg: already in the destination folder ...\u001b[0m\n",
      "\u001b[93m[INFO]: Avoiding saving 00058pic.jpg: already in the destination folder ...\u001b[0m\n",
      "\u001b[93m[INFO]: Avoiding saving 00058pic.jpg: already in the destination folder ...\u001b[0m\n",
      "\u001b[93m[INFO]: Avoiding saving 00058pic.jpg: already in the destination folder ...\u001b[0m\n",
      "\u001b[93m[INFO]: Avoiding saving 00159mask.jpg: already in the destination folder ...\u001b[0m\n",
      "\u001b[93m[INFO]: Avoiding saving 1582462897.jpg: already in the destination folder ...\u001b[0m\n",
      "\u001b[93m[INFO]: Avoiding saving 1582462897.jpg: already in the destination folder ...\u001b[0m\n",
      "\u001b[93m[INFO]: Avoiding saving mask戴口罩_112.jpg: already in the destination folder ...\u001b[0m\n"
     ]
    },
    {
     "name": "stderr",
     "output_type": "stream",
     "text": [
      " 41%|████      | 547/1337 [01:08<01:22,  9.62it/s]"
     ]
    },
    {
     "name": "stdout",
     "output_type": "stream",
     "text": [
      "\u001b[93m[INFO]: Avoiding saving 1582380136.jpg: already in the destination folder ...\u001b[0m\n",
      "\u001b[93m[INFO]: Avoiding saving 00088mask.jpg: already in the destination folder ...\u001b[0m\n"
     ]
    },
    {
     "name": "stderr",
     "output_type": "stream",
     "text": [
      " 42%|████▏     | 555/1337 [01:08<00:47, 16.43it/s]"
     ]
    },
    {
     "name": "stdout",
     "output_type": "stream",
     "text": [
      "\u001b[93m[INFO]: Avoiding saving 00296mask.jpg: already in the destination folder ...\u001b[0m\n",
      "\u001b[93m[INFO]: Avoiding saving 00146pic.jpg: already in the destination folder ...\u001b[0m\n"
     ]
    },
    {
     "name": "stderr",
     "output_type": "stream",
     "text": [
      " 42%|████▏     | 561/1337 [01:09<00:58, 13.38it/s]"
     ]
    },
    {
     "name": "stdout",
     "output_type": "stream",
     "text": [
      "\u001b[93m[INFO]: Avoiding saving 00054pic.png: already in the destination folder ...\u001b[0m\n",
      "\u001b[93m[INFO]: Avoiding saving 00137pic.jpg: already in the destination folder ...\u001b[0m\n",
      "\u001b[93m[INFO]: Avoiding saving 00037pic.jpg: already in the destination folder ...\u001b[0m\n",
      "\u001b[93m[INFO]: Avoiding saving 00037pic.jpg: already in the destination folder ...\u001b[0m\n",
      "\u001b[93m[INFO]: Avoiding saving 00037pic.jpg: already in the destination folder ...\u001b[0m\n",
      "\u001b[93m[INFO]: Avoiding saving 00037pic.jpg: already in the destination folder ...\u001b[0m\n",
      "\u001b[93m[INFO]: Avoiding saving 00280pic.jpg: already in the destination folder ...\u001b[0m\n",
      "\u001b[93m[INFO]: Avoiding saving 00192mask.jpg: already in the destination folder ...\u001b[0m\n",
      "\u001b[93m[INFO]: Avoiding saving 00182mask.jpg: already in the destination folder ...\u001b[0m\n"
     ]
    },
    {
     "name": "stderr",
     "output_type": "stream",
     "text": [
      " 43%|████▎     | 569/1337 [01:09<00:48, 15.85it/s]"
     ]
    },
    {
     "name": "stdout",
     "output_type": "stream",
     "text": [
      "\u001b[93m[INFO]: Avoiding saving 00053mask.png: already in the destination folder ...\u001b[0m\n",
      "\u001b[93m[INFO]: Avoiding saving 00053mask.png: already in the destination folder ...\u001b[0m\n",
      "\u001b[93m[INFO]: Avoiding saving 1582379801.jpg: already in the destination folder ...\u001b[0m\n"
     ]
    },
    {
     "name": "stderr",
     "output_type": "stream",
     "text": [
      " 43%|████▎     | 572/1337 [01:09<00:47, 16.02it/s]"
     ]
    },
    {
     "name": "stdout",
     "output_type": "stream",
     "text": [
      "\u001b[93m[INFO]: Avoiding saving 00154pic.jpg: already in the destination folder ...\u001b[0m\n"
     ]
    },
    {
     "name": "stderr",
     "output_type": "stream",
     "text": [
      " 43%|████▎     | 575/1337 [01:10<00:53, 14.27it/s]"
     ]
    },
    {
     "name": "stdout",
     "output_type": "stream",
     "text": [
      "\u001b[93m[INFO]: Avoiding saving 00325mask.jpg: already in the destination folder ...\u001b[0m\n",
      "\u001b[93m[INFO]: Avoiding saving 00183pic.jpg: already in the destination folder ...\u001b[0m\n"
     ]
    },
    {
     "name": "stderr",
     "output_type": "stream",
     "text": [
      " 44%|████▎     | 583/1337 [01:10<00:51, 14.65it/s]"
     ]
    },
    {
     "name": "stdout",
     "output_type": "stream",
     "text": [
      "\u001b[93m[INFO]: Avoiding saving 00026pic.webp: already in the destination folder ...\u001b[0m\n",
      "\u001b[93m[INFO]: Avoiding saving 00026pic.webp: already in the destination folder ...\u001b[0m\n",
      "\u001b[93m[INFO]: Avoiding saving 00026pic.webp: already in the destination folder ...\u001b[0m\n",
      "\u001b[93m[INFO]: Avoiding saving 00026pic.webp: already in the destination folder ...\u001b[0m\n",
      "\u001b[93m[INFO]: Avoiding saving 00026pic.webp: already in the destination folder ...\u001b[0m\n",
      "\u001b[93m[INFO]: Avoiding saving 00313mask.jpg: already in the destination folder ...\u001b[0m\n",
      "\u001b[93m[INFO]: Avoiding saving 11.jpg: already in the destination folder ...\u001b[0m\n",
      "\u001b[93m[INFO]: Avoiding saving 00303mask.jpg: already in the destination folder ...\u001b[0m\n",
      "\u001b[93m[INFO]: Avoiding saving 00303mask.jpg: already in the destination folder ...\u001b[0m\n"
     ]
    },
    {
     "name": "stderr",
     "output_type": "stream",
     "text": [
      " 44%|████▍     | 591/1337 [01:11<01:19,  9.35it/s]"
     ]
    },
    {
     "name": "stdout",
     "output_type": "stream",
     "text": [
      "\u001b[93m[INFO]: Avoiding saving 00065mask.jpg: already in the destination folder ...\u001b[0m\n",
      "\u001b[93m[INFO]: Avoiding saving 00065mask.jpg: already in the destination folder ...\u001b[0m\n",
      "\u001b[93m[INFO]: Avoiding saving 00249pic.jpg: already in the destination folder ...\u001b[0m\n"
     ]
    },
    {
     "name": "stderr",
     "output_type": "stream",
     "text": [
      " 45%|████▍     | 596/1337 [01:11<01:01, 12.12it/s]"
     ]
    },
    {
     "name": "stdout",
     "output_type": "stream",
     "text": [
      "\u001b[93m[INFO]: Avoiding saving 00019mask.jpeg: already in the destination folder ...\u001b[0m\n",
      "\u001b[93m[INFO]: Avoiding saving 00152image.jpg: already in the destination folder ...\u001b[0m\n"
     ]
    },
    {
     "name": "stderr",
     "output_type": "stream",
     "text": [
      " 45%|████▌     | 603/1337 [01:12<00:42, 17.10it/s]"
     ]
    },
    {
     "name": "stdout",
     "output_type": "stream",
     "text": [
      "\u001b[93m[INFO]: Avoiding saving 00257pic.jpg: already in the destination folder ...\u001b[0m\n",
      "\u001b[93m[INFO]: Avoiding saving 1582117227.jpg: already in the destination folder ...\u001b[0m\n",
      "\u001b[93m[INFO]: Avoiding saving 00091pic.jpg: already in the destination folder ...\u001b[0m\n",
      "\u001b[93m[INFO]: Avoiding saving 00189image.jpg: already in the destination folder ...\u001b[0m\n"
     ]
    },
    {
     "name": "stderr",
     "output_type": "stream",
     "text": [
      " 45%|████▌     | 608/1337 [01:12<00:36, 19.90it/s]"
     ]
    },
    {
     "name": "stdout",
     "output_type": "stream",
     "text": [
      "\u001b[93m[INFO]: Avoiding saving 00326pic.jpg: already in the destination folder ...\u001b[0m\n",
      "\u001b[93m[INFO]: Avoiding saving 00326pic.jpg: already in the destination folder ...\u001b[0m\n",
      "\u001b[93m[INFO]: Avoiding saving 00326pic.jpg: already in the destination folder ...\u001b[0m\n",
      "\u001b[93m[INFO]: Avoiding saving 00326pic.jpg: already in the destination folder ...\u001b[0m\n",
      "\u001b[93m[INFO]: Avoiding saving 00188image.jpg: already in the destination folder ...\u001b[0m\n",
      "\u001b[93m[INFO]: Avoiding saving 00191pic.jpg: already in the destination folder ...\u001b[0m\n",
      "\u001b[93m[INFO]: Avoiding saving 1582380134.jpg: already in the destination folder ...\u001b[0m\n"
     ]
    },
    {
     "name": "stderr",
     "output_type": "stream",
     "text": [
      " 46%|████▌     | 611/1337 [01:12<00:44, 16.26it/s]"
     ]
    },
    {
     "name": "stdout",
     "output_type": "stream",
     "text": [
      "\u001b[93m[INFO]: Avoiding saving 00275image.jpg: already in the destination folder ...\u001b[0m\n",
      "\u001b[93m[INFO]: Avoiding saving 00013image.jpg: already in the destination folder ...\u001b[0m\n"
     ]
    },
    {
     "name": "stderr",
     "output_type": "stream",
     "text": [
      " 46%|████▌     | 617/1337 [01:13<00:59, 12.18it/s]"
     ]
    },
    {
     "name": "stdout",
     "output_type": "stream",
     "text": [
      "\u001b[93m[INFO]: Avoiding saving 00026image.webp: already in the destination folder ...\u001b[0m\n",
      "\u001b[93m[INFO]: Avoiding saving 00026image.webp: already in the destination folder ...\u001b[0m\n",
      "\u001b[93m[INFO]: Avoiding saving 00026image.webp: already in the destination folder ...\u001b[0m\n",
      "\u001b[93m[INFO]: Avoiding saving 00026image.webp: already in the destination folder ...\u001b[0m\n",
      "\u001b[93m[INFO]: Avoiding saving 00026image.webp: already in the destination folder ...\u001b[0m\n"
     ]
    },
    {
     "name": "stderr",
     "output_type": "stream",
     "text": [
      " 46%|████▋     | 620/1337 [01:13<00:48, 14.70it/s]"
     ]
    },
    {
     "name": "stdout",
     "output_type": "stream",
     "text": [
      "\u001b[93m[INFO]: Avoiding saving 00080image.jpg: already in the destination folder ...\u001b[0m\n",
      "\u001b[93m[INFO]: Avoiding saving 00080image.jpg: already in the destination folder ...\u001b[0m\n"
     ]
    },
    {
     "name": "stderr",
     "output_type": "stream",
     "text": [
      " 47%|████▋     | 629/1337 [01:13<00:38, 18.27it/s]"
     ]
    },
    {
     "name": "stdout",
     "output_type": "stream",
     "text": [
      "\u001b[93m[INFO]: Avoiding saving 1582462857.jpg: already in the destination folder ...\u001b[0m\n",
      "\u001b[93m[INFO]: Avoiding saving 00210pic.jpg: already in the destination folder ...\u001b[0m\n",
      "\u001b[93m[INFO]: Avoiding saving 00310pic.jpg: already in the destination folder ...\u001b[0m\n"
     ]
    },
    {
     "name": "stderr",
     "output_type": "stream",
     "text": [
      " 47%|████▋     | 634/1337 [01:16<02:40,  4.38it/s]"
     ]
    },
    {
     "name": "stdout",
     "output_type": "stream",
     "text": [
      "\u001b[93m[INFO]: Avoiding saving 00064image.jpg: already in the destination folder ...\u001b[0m\n",
      "\u001b[93m[INFO]: Avoiding saving 00064image.jpg: already in the destination folder ...\u001b[0m\n",
      "\u001b[93m[INFO]: Avoiding saving 00064image.jpg: already in the destination folder ...\u001b[0m\n",
      "\u001b[93m[INFO]: Avoiding saving 00064image.jpg: already in the destination folder ...\u001b[0m\n",
      "\u001b[93m[INFO]: Avoiding saving 00064image.jpg: already in the destination folder ...\u001b[0m\n",
      "\u001b[93m[INFO]: Avoiding saving 00064image.jpg: already in the destination folder ...\u001b[0m\n",
      "\u001b[93m[INFO]: Avoiding saving 00202image.jpg: already in the destination folder ...\u001b[0m\n",
      "\u001b[93m[INFO]: Avoiding saving 00203image.jpg: already in the destination folder ...\u001b[0m\n"
     ]
    },
    {
     "name": "stderr",
     "output_type": "stream",
     "text": [
      " 48%|████▊     | 636/1337 [01:16<02:38,  4.41it/s]"
     ]
    },
    {
     "name": "stdout",
     "output_type": "stream",
     "text": [
      "\u001b[93m[INFO]: Avoiding saving 00065image.jpg: already in the destination folder ...\u001b[0m\n",
      "\u001b[93m[INFO]: Avoiding saving 00065image.jpg: already in the destination folder ...\u001b[0m\n",
      "\u001b[93m[INFO]: Avoiding saving 00132mask.jpg: already in the destination folder ...\u001b[0m\n",
      "\u001b[93m[INFO]: Avoiding saving 00290image.jpg: already in the destination folder ...\u001b[0m\n"
     ]
    },
    {
     "name": "stderr",
     "output_type": "stream",
     "text": [
      " 48%|████▊     | 640/1337 [01:17<01:49,  6.38it/s]"
     ]
    },
    {
     "name": "stdout",
     "output_type": "stream",
     "text": [
      "\u001b[93m[INFO]: Avoiding saving mask戴口罩_105.jpg: already in the destination folder ...\u001b[0m\n",
      "\u001b[93m[INFO]: Avoiding saving mask戴口罩_105.jpg: already in the destination folder ...\u001b[0m\n",
      "\u001b[93m[INFO]: Avoiding saving 00291image.jpg: already in the destination folder ...\u001b[0m\n",
      "\u001b[93m[INFO]: Avoiding saving 00122mask.jpg: already in the destination folder ...\u001b[0m\n",
      "\u001b[93m[INFO]: Avoiding saving mask戴口罩_139.jpg: already in the destination folder ...\u001b[0m\n",
      "\u001b[93m[INFO]: Avoiding saving mask戴口罩_139.jpg: already in the destination folder ...\u001b[0m\n",
      "\u001b[93m[INFO]: Avoiding saving mask戴口罩_139.jpg: already in the destination folder ...\u001b[0m\n"
     ]
    },
    {
     "name": "stderr",
     "output_type": "stream",
     "text": [
      " 48%|████▊     | 648/1337 [01:17<00:52, 13.19it/s]"
     ]
    },
    {
     "name": "stdout",
     "output_type": "stream",
     "text": [
      "\u001b[93m[INFO]: Avoiding saving 00254mask.jpg: already in the destination folder ...\u001b[0m\n",
      "\u001b[93m[INFO]: Avoiding saving 00244mask.jpg: already in the destination folder ...\u001b[0m\n",
      "\u001b[93m[INFO]: Avoiding saving 00244mask.jpg: already in the destination folder ...\u001b[0m\n",
      "\u001b[93m[INFO]: Avoiding saving 00244mask.jpg: already in the destination folder ...\u001b[0m\n",
      "\u001b[93m[INFO]: Avoiding saving 00302pic.jpg: already in the destination folder ...\u001b[0m\n",
      "\u001b[93m[INFO]: Avoiding saving 00202pic.jpg: already in the destination folder ...\u001b[0m\n"
     ]
    },
    {
     "name": "stderr",
     "output_type": "stream",
     "text": [
      " 49%|████▊     | 651/1337 [01:17<00:45, 14.99it/s]"
     ]
    },
    {
     "name": "stdout",
     "output_type": "stream",
     "text": [
      "\u001b[93m[INFO]: Avoiding saving 00140mask.jpg: already in the destination folder ...\u001b[0m\n",
      "\u001b[93m[INFO]: Avoiding saving 00125image.jpg: already in the destination folder ...\u001b[0m\n"
     ]
    },
    {
     "name": "stderr",
     "output_type": "stream",
     "text": [
      " 49%|████▉     | 656/1337 [01:17<00:42, 16.15it/s]"
     ]
    },
    {
     "name": "stdout",
     "output_type": "stream",
     "text": [
      "\u001b[93m[INFO]: Avoiding saving 00091mask.jpg: already in the destination folder ...\u001b[0m\n",
      "\u001b[93m[INFO]: Avoiding saving 00124image.jpg: already in the destination folder ...\u001b[0m\n"
     ]
    },
    {
     "name": "stderr",
     "output_type": "stream",
     "text": [
      " 50%|████▉     | 662/1337 [01:18<00:49, 13.59it/s]"
     ]
    },
    {
     "name": "stdout",
     "output_type": "stream",
     "text": [
      "\u001b[93m[INFO]: Avoiding saving 00261pic.jpg: already in the destination folder ...\u001b[0m\n",
      "\u001b[93m[INFO]: Avoiding saving 38.jpg: already in the destination folder ...\u001b[0m\n",
      "\u001b[93m[INFO]: Avoiding saving 38.jpg: already in the destination folder ...\u001b[0m\n",
      "\u001b[93m[INFO]: Avoiding saving 38.jpg: already in the destination folder ...\u001b[0m\n",
      "\u001b[93m[INFO]: Avoiding saving 38.jpg: already in the destination folder ...\u001b[0m\n",
      "\u001b[93m[INFO]: Avoiding saving 21.jpg: already in the destination folder ...\u001b[0m\n",
      "\u001b[93m[INFO]: Avoiding saving 21.jpg: already in the destination folder ...\u001b[0m\n",
      "\u001b[93m[INFO]: Avoiding saving 00025pic.jpeg: already in the destination folder ...\u001b[0m\n"
     ]
    },
    {
     "name": "stderr",
     "output_type": "stream",
     "text": [
      " 50%|████▉     | 666/1337 [01:18<01:03, 10.56it/s]"
     ]
    },
    {
     "name": "stdout",
     "output_type": "stream",
     "text": [
      "\u001b[93m[INFO]: Avoiding saving 27.webp: already in the destination folder ...\u001b[0m\n",
      "\u001b[93m[INFO]: Avoiding saving 27.webp: already in the destination folder ...\u001b[0m\n",
      "\u001b[93m[INFO]: Avoiding saving 27.webp: already in the destination folder ...\u001b[0m\n",
      "\u001b[93m[INFO]: Avoiding saving 27.webp: already in the destination folder ...\u001b[0m\n",
      "\u001b[93m[INFO]: Avoiding saving 27.webp: already in the destination folder ...\u001b[0m\n"
     ]
    },
    {
     "name": "stderr",
     "output_type": "stream",
     "text": [
      " 50%|█████     | 670/1337 [01:19<00:58, 11.50it/s]"
     ]
    },
    {
     "name": "stdout",
     "output_type": "stream",
     "text": [
      "\u001b[93m[INFO]: Avoiding saving 00001image.jpg: already in the destination folder ...\u001b[0m\n",
      "\u001b[93m[INFO]: Avoiding saving 108.jpg: already in the destination folder ...\u001b[0m\n",
      "\u001b[93m[INFO]: Avoiding saving 1582462906.jpg: already in the destination folder ...\u001b[0m\n"
     ]
    },
    {
     "name": "stderr",
     "output_type": "stream",
     "text": [
      " 50%|█████     | 675/1337 [01:19<00:42, 15.69it/s]"
     ]
    },
    {
     "name": "stdout",
     "output_type": "stream",
     "text": [
      "\u001b[93m[INFO]: Avoiding saving 00323pic.jpg: already in the destination folder ...\u001b[0m\n",
      "\u001b[93m[INFO]: Avoiding saving 00094pic.jpg: already in the destination folder ...\u001b[0m\n"
     ]
    },
    {
     "name": "stderr",
     "output_type": "stream",
     "text": [
      " 51%|█████     | 681/1337 [01:19<00:46, 13.98it/s]"
     ]
    },
    {
     "name": "stdout",
     "output_type": "stream",
     "text": [
      "\u001b[93m[INFO]: Avoiding saving 00251mask.jpg: already in the destination folder ...\u001b[0m\n",
      "\u001b[93m[INFO]: Avoiding saving 00137mask.jpg: already in the destination folder ...\u001b[0m\n"
     ]
    },
    {
     "name": "stderr",
     "output_type": "stream",
     "text": [
      " 51%|█████▏    | 686/1337 [01:20<00:41, 15.68it/s]"
     ]
    },
    {
     "name": "stdout",
     "output_type": "stream",
     "text": [
      "\u001b[93m[INFO]: Avoiding saving 00092image.jpg: already in the destination folder ...\u001b[0m\n",
      "\u001b[93m[INFO]: Avoiding saving 00092image.jpg: already in the destination folder ...\u001b[0m\n",
      "\u001b[93m[INFO]: Avoiding saving mask戴口罩_33.jpg: already in the destination folder ...\u001b[0m\n",
      "\u001b[93m[INFO]: Avoiding saving 1582378132.jpg: already in the destination folder ...\u001b[0m\n",
      "\u001b[93m[INFO]: Avoiding saving 1582378126.jpg: already in the destination folder ...\u001b[0m\n",
      "\u001b[93m[INFO]: Avoiding saving 00145mask.jpg: already in the destination folder ...\u001b[0m\n"
     ]
    },
    {
     "name": "stderr",
     "output_type": "stream",
     "text": [
      " 52%|█████▏    | 693/1337 [01:20<00:34, 18.45it/s]"
     ]
    },
    {
     "name": "stdout",
     "output_type": "stream",
     "text": [
      "\u001b[93m[INFO]: Avoiding saving 00155mask.jpg: already in the destination folder ...\u001b[0m\n",
      "\u001b[93m[INFO]: Avoiding saving 00198pic.jpg: already in the destination folder ...\u001b[0m\n",
      "\u001b[93m[INFO]: Avoiding saving 00252pic.jpg: already in the destination folder ...\u001b[0m\n"
     ]
    },
    {
     "name": "stderr",
     "output_type": "stream",
     "text": [
      " 53%|█████▎    | 702/1337 [01:20<00:30, 20.85it/s]"
     ]
    },
    {
     "name": "stdout",
     "output_type": "stream",
     "text": [
      "\u001b[93m[INFO]: Avoiding saving 00086pic.jpg: already in the destination folder ...\u001b[0m\n"
     ]
    },
    {
     "name": "stderr",
     "output_type": "stream",
     "text": [
      " 53%|█████▎    | 705/1337 [01:21<00:35, 17.71it/s]"
     ]
    },
    {
     "name": "stdout",
     "output_type": "stream",
     "text": [
      "\u001b[93m[INFO]: Avoiding saving 00141image.jpg: already in the destination folder ...\u001b[0m\n",
      "\u001b[93m[INFO]: Avoiding saving 00140image.jpg: already in the destination folder ...\u001b[0m\n",
      "\u001b[93m[INFO]: Avoiding saving 00326image.jpg: already in the destination folder ...\u001b[0m\n",
      "\u001b[93m[INFO]: Avoiding saving 00326image.jpg: already in the destination folder ...\u001b[0m\n",
      "\u001b[93m[INFO]: Avoiding saving 00326image.jpg: already in the destination folder ...\u001b[0m\n",
      "\u001b[93m[INFO]: Avoiding saving 00326image.jpg: already in the destination folder ...\u001b[0m\n"
     ]
    },
    {
     "name": "stderr",
     "output_type": "stream",
     "text": [
      " 53%|█████▎    | 710/1337 [01:21<00:36, 17.19it/s]"
     ]
    },
    {
     "name": "stdout",
     "output_type": "stream",
     "text": [
      "\u001b[93m[INFO]: Avoiding saving 00094mask.jpg: already in the destination folder ...\u001b[0m\n"
     ]
    },
    {
     "name": "stderr",
     "output_type": "stream",
     "text": [
      " 53%|█████▎    | 715/1337 [01:22<01:01, 10.09it/s]"
     ]
    },
    {
     "name": "stdout",
     "output_type": "stream",
     "text": [
      "\u001b[93m[INFO]: Avoiding saving 00060mask.jpg: already in the destination folder ...\u001b[0m\n",
      "\u001b[93m[INFO]: Avoiding saving 00060mask.jpg: already in the destination folder ...\u001b[0m\n",
      "\u001b[93m[INFO]: Avoiding saving 00060mask.jpg: already in the destination folder ...\u001b[0m\n",
      "\u001b[93m[INFO]: Avoiding saving 00060mask.jpg: already in the destination folder ...\u001b[0m\n",
      "\u001b[93m[INFO]: Avoiding saving 00060mask.jpg: already in the destination folder ...\u001b[0m\n",
      "\u001b[93m[INFO]: Avoiding saving 1582462867.jpg: already in the destination folder ...\u001b[0m\n"
     ]
    },
    {
     "name": "stderr",
     "output_type": "stream",
     "text": [
      " 54%|█████▍    | 720/1337 [01:22<00:59, 10.45it/s]"
     ]
    },
    {
     "name": "stdout",
     "output_type": "stream",
     "text": [
      "\u001b[93m[INFO]: Avoiding saving 00070mask.jpg: already in the destination folder ...\u001b[0m\n",
      "\u001b[93m[INFO]: Avoiding saving 00070mask.jpg: already in the destination folder ...\u001b[0m\n",
      "\u001b[93m[INFO]: Avoiding saving 00070mask.jpg: already in the destination folder ...\u001b[0m\n",
      "\u001b[93m[INFO]: Avoiding saving 00070mask.jpg: already in the destination folder ...\u001b[0m\n",
      "\u001b[93m[INFO]: Avoiding saving 00319pic.jpg: already in the destination folder ...\u001b[0m\n",
      "\u001b[93m[INFO]: Avoiding saving 1582379761.jpg: already in the destination folder ...\u001b[0m\n",
      "\u001b[93m[INFO]: Avoiding saving 00258image.jpg: already in the destination folder ...\u001b[0m\n",
      "\u001b[93m[INFO]: Avoiding saving 00264pic.jpg: already in the destination folder ...\u001b[0m\n",
      "\u001b[93m[INFO]: Avoiding saving 00259image.jpg: already in the destination folder ...\u001b[0m\n"
     ]
    },
    {
     "name": "stderr",
     "output_type": "stream",
     "text": [
      " 54%|█████▍    | 724/1337 [01:23<01:00, 10.14it/s]"
     ]
    },
    {
     "name": "stdout",
     "output_type": "stream",
     "text": [
      "\u001b[93m[INFO]: Avoiding saving 00033pic.webp: already in the destination folder ...\u001b[0m\n",
      "\u001b[93m[INFO]: Avoiding saving 00033pic.webp: already in the destination folder ...\u001b[0m\n",
      "\u001b[93m[INFO]: Avoiding saving 00033pic.webp: already in the destination folder ...\u001b[0m\n",
      "\u001b[93m[INFO]: Avoiding saving 00306mask.jpg: already in the destination folder ...\u001b[0m\n",
      "\u001b[93m[INFO]: Avoiding saving 00316mask.jpg: already in the destination folder ...\u001b[0m\n"
     ]
    },
    {
     "name": "stderr",
     "output_type": "stream",
     "text": [
      " 55%|█████▍    | 729/1337 [01:23<00:44, 13.70it/s]"
     ]
    },
    {
     "name": "stdout",
     "output_type": "stream",
     "text": [
      "\u001b[93m[INFO]: Skipping RWMFD_part_2-0: is a directory ...\u001b[0m\n",
      "\u001b[93m[INFO]: Avoiding saving 00207pic.jpg: already in the destination folder ...\u001b[0m\n",
      "\u001b[93m[INFO]: Avoiding saving 1582378682.jpg: already in the destination folder ...\u001b[0m\n",
      "\u001b[93m[INFO]: Avoiding saving 00307pic.jpg: already in the destination folder ...\u001b[0m\n",
      "\u001b[93m[INFO]: Avoiding saving 00307pic.jpg: already in the destination folder ...\u001b[0m\n"
     ]
    },
    {
     "name": "stderr",
     "output_type": "stream",
     "text": [
      " 55%|█████▍    | 733/1337 [01:23<00:38, 15.68it/s]"
     ]
    },
    {
     "name": "stdout",
     "output_type": "stream",
     "text": [
      "\u001b[93m[INFO]: Avoiding saving 00136image.jpg: already in the destination folder ...\u001b[0m\n",
      "\u001b[93m[INFO]: Avoiding saving 00137image.jpg: already in the destination folder ...\u001b[0m\n",
      "\u001b[93m[INFO]: Avoiding saving 1582378127.jpg: already in the destination folder ...\u001b[0m\n",
      "\u001b[93m[INFO]: Avoiding saving 00211image.jpg: already in the destination folder ...\u001b[0m\n"
     ]
    },
    {
     "name": "stderr",
     "output_type": "stream",
     "text": [
      " 55%|█████▌    | 738/1337 [01:23<00:34, 17.17it/s]"
     ]
    },
    {
     "name": "stdout",
     "output_type": "stream",
     "text": [
      "\u001b[93m[INFO]: Avoiding saving 00076image.jpg: already in the destination folder ...\u001b[0m\n",
      "\u001b[93m[INFO]: Avoiding saving 00210image.jpg: already in the destination folder ...\u001b[0m\n",
      "\u001b[93m[INFO]: Avoiding saving 121.png: already in the destination folder ...\u001b[0m\n",
      "\u001b[93m[INFO]: Avoiding saving 121.png: already in the destination folder ...\u001b[0m\n",
      "\u001b[93m[INFO]: Avoiding saving 00276pic.jpg: already in the destination folder ...\u001b[0m\n"
     ]
    },
    {
     "name": "stderr",
     "output_type": "stream",
     "text": [
      " 55%|█████▌    | 742/1337 [01:24<00:41, 14.31it/s]"
     ]
    },
    {
     "name": "stdout",
     "output_type": "stream",
     "text": [
      "\u001b[93m[INFO]: Avoiding saving 00051pic.webp: already in the destination folder ...\u001b[0m\n",
      "\u001b[93m[INFO]: Avoiding saving 1582462913.jpg: already in the destination folder ...\u001b[0m\n",
      "\u001b[93m[INFO]: Avoiding saving 00041pic.webp: already in the destination folder ...\u001b[0m\n"
     ]
    },
    {
     "name": "stderr",
     "output_type": "stream",
     "text": [
      " 56%|█████▌    | 745/1337 [01:24<00:40, 14.72it/s]"
     ]
    },
    {
     "name": "stdout",
     "output_type": "stream",
     "text": [
      "\u001b[93m[INFO]: Avoiding saving 00319image.jpg: already in the destination folder ...\u001b[0m\n",
      "\u001b[93m[INFO]: Avoiding saving 1582379615.jpg: already in the destination folder ...\u001b[0m\n"
     ]
    },
    {
     "name": "stderr",
     "output_type": "stream",
     "text": [
      " 56%|█████▌    | 750/1337 [01:24<00:27, 21.04it/s]"
     ]
    },
    {
     "name": "stdout",
     "output_type": "stream",
     "text": [
      "\u001b[93m[INFO]: Avoiding saving 1582379601.jpg: already in the destination folder ...\u001b[0m\n",
      "\u001b[93m[INFO]: Avoiding saving 00002mask.jpg: already in the destination folder ...\u001b[0m\n",
      "\u001b[93m[INFO]: Avoiding saving 00002mask.jpg: already in the destination folder ...\u001b[0m\n"
     ]
    },
    {
     "name": "stderr",
     "output_type": "stream",
     "text": [
      " 56%|█████▋    | 755/1337 [01:25<00:38, 15.15it/s]"
     ]
    },
    {
     "name": "stdout",
     "output_type": "stream",
     "text": [
      "\u001b[93m[INFO]: Avoiding saving 00282image.jpg: already in the destination folder ...\u001b[0m\n",
      "\u001b[93m[INFO]: Avoiding saving 00024mask.jpg: already in the destination folder ...\u001b[0m\n",
      "\u001b[93m[INFO]: Avoiding saving 00024mask.jpg: already in the destination folder ...\u001b[0m\n",
      "\u001b[93m[INFO]: Avoiding saving 00024mask.jpg: already in the destination folder ...\u001b[0m\n"
     ]
    },
    {
     "name": "stderr",
     "output_type": "stream",
     "text": [
      " 57%|█████▋    | 759/1337 [01:25<00:39, 14.80it/s]"
     ]
    },
    {
     "name": "stdout",
     "output_type": "stream",
     "text": [
      "\u001b[93m[INFO]: Avoiding saving 1582116268.jpg: already in the destination folder ...\u001b[0m\n",
      "\u001b[93m[INFO]: Avoiding saving 00175pic.jpg: already in the destination folder ...\u001b[0m\n",
      "\u001b[93m[INFO]: Avoiding saving 1582379818.jpg: already in the destination folder ...\u001b[0m\n"
     ]
    },
    {
     "name": "stderr",
     "output_type": "stream",
     "text": [
      " 57%|█████▋    | 766/1337 [01:25<00:35, 16.09it/s]"
     ]
    },
    {
     "name": "stdout",
     "output_type": "stream",
     "text": [
      "\u001b[93m[INFO]: Avoiding saving 00116pic.jpg: already in the destination folder ...\u001b[0m\n",
      "\u001b[93m[INFO]: Avoiding saving 00225image.jpg: already in the destination folder ...\u001b[0m\n",
      "\u001b[93m[INFO]: Avoiding saving 00225image.jpg: already in the destination folder ...\u001b[0m\n"
     ]
    },
    {
     "name": "stderr",
     "output_type": "stream",
     "text": [
      " 58%|█████▊    | 770/1337 [01:25<00:32, 17.36it/s]"
     ]
    },
    {
     "name": "stdout",
     "output_type": "stream",
     "text": [
      "\u001b[93m[INFO]: Avoiding saving 00187mask.jpg: already in the destination folder ...\u001b[0m\n"
     ]
    },
    {
     "name": "stderr",
     "output_type": "stream",
     "text": [
      " 58%|█████▊    | 772/1337 [01:26<00:52, 10.84it/s]"
     ]
    },
    {
     "name": "stdout",
     "output_type": "stream",
     "text": [
      "\u001b[93m[INFO]: Avoiding saving 00056mask.png: already in the destination folder ...\u001b[0m\n"
     ]
    },
    {
     "name": "stderr",
     "output_type": "stream",
     "text": [
      " 58%|█████▊    | 774/1337 [01:26<00:57,  9.74it/s]"
     ]
    },
    {
     "name": "stdout",
     "output_type": "stream",
     "text": [
      "\u001b[93m[INFO]: Avoiding saving 00099image.jpg: already in the destination folder ...\u001b[0m\n",
      "\u001b[93m[INFO]: Avoiding saving 00099image.jpg: already in the destination folder ...\u001b[0m\n",
      "\u001b[93m[INFO]: Avoiding saving 00099image.jpg: already in the destination folder ...\u001b[0m\n",
      "\u001b[93m[INFO]: Avoiding saving 00099image.jpg: already in the destination folder ...\u001b[0m\n",
      "\u001b[93m[INFO]: Avoiding saving mask戴口罩_137.jpg: already in the destination folder ...\u001b[0m\n",
      "\u001b[93m[INFO]: Avoiding saving mask戴口罩_137.jpg: already in the destination folder ...\u001b[0m\n"
     ]
    },
    {
     "name": "stderr",
     "output_type": "stream",
     "text": [
      " 58%|█████▊    | 776/1337 [01:27<01:26,  6.47it/s]"
     ]
    },
    {
     "name": "stdout",
     "output_type": "stream",
     "text": [
      "\u001b[93m[INFO]: Avoiding saving 00102image.jpg: already in the destination folder ...\u001b[0m\n"
     ]
    },
    {
     "name": "stderr",
     "output_type": "stream",
     "text": [
      " 58%|█████▊    | 778/1337 [01:27<01:52,  4.99it/s]"
     ]
    },
    {
     "name": "stdout",
     "output_type": "stream",
     "text": [
      "\u001b[93m[INFO]: Avoiding saving 00067pic.jpg: already in the destination folder ...\u001b[0m\n"
     ]
    },
    {
     "name": "stderr",
     "output_type": "stream",
     "text": [
      " 58%|█████▊    | 782/1337 [01:28<01:08,  8.09it/s]"
     ]
    },
    {
     "name": "stdout",
     "output_type": "stream",
     "text": [
      "\u001b[93m[INFO]: Avoiding saving 00004pic.jpg: already in the destination folder ...\u001b[0m\n",
      "\u001b[93m[INFO]: Avoiding saving 00190image.jpg: already in the destination folder ...\u001b[0m\n",
      "\u001b[93m[INFO]: Avoiding saving 00258mask.jpg: already in the destination folder ...\u001b[0m\n"
     ]
    },
    {
     "name": "stderr",
     "output_type": "stream",
     "text": [
      " 59%|█████▉    | 788/1337 [01:28<00:39, 14.03it/s]"
     ]
    },
    {
     "name": "stdout",
     "output_type": "stream",
     "text": [
      "\u001b[93m[INFO]: Avoiding saving 00320mask.jpg: already in the destination folder ...\u001b[0m\n",
      "\u001b[93m[INFO]: Avoiding saving 00191image.jpg: already in the destination folder ...\u001b[0m\n"
     ]
    },
    {
     "name": "stderr",
     "output_type": "stream",
     "text": [
      " 59%|█████▉    | 790/1337 [01:28<00:38, 14.03it/s]"
     ]
    },
    {
     "name": "stdout",
     "output_type": "stream",
     "text": [
      "\u001b[93m[INFO]: Avoiding saving 00079pic.jpg: already in the destination folder ...\u001b[0m\n",
      "\u001b[93m[INFO]: Avoiding saving 00079pic.jpg: already in the destination folder ...\u001b[0m\n",
      "\u001b[93m[INFO]: Avoiding saving 00041mask.webp: already in the destination folder ...\u001b[0m\n"
     ]
    },
    {
     "name": "stderr",
     "output_type": "stream",
     "text": [
      " 59%|█████▉    | 795/1337 [01:28<00:37, 14.56it/s]"
     ]
    },
    {
     "name": "stdout",
     "output_type": "stream",
     "text": [
      "\u001b[93m[INFO]: Avoiding saving 00179pic.jpg: already in the destination folder ...\u001b[0m\n",
      "\u001b[93m[INFO]: Avoiding saving 1582462864.jpg: already in the destination folder ...\u001b[0m\n",
      "\u001b[93m[INFO]: Avoiding saving 00289image.jpg: already in the destination folder ...\u001b[0m\n",
      "\u001b[93m[INFO]: Avoiding saving 00289image.jpg: already in the destination folder ...\u001b[0m\n"
     ]
    },
    {
     "name": "stderr",
     "output_type": "stream",
     "text": [
      " 60%|█████▉    | 797/1337 [01:28<00:37, 14.23it/s]"
     ]
    },
    {
     "name": "stdout",
     "output_type": "stream",
     "text": [
      "\u001b[93m[INFO]: Avoiding saving 1582462858.jpg: already in the destination folder ...\u001b[0m\n",
      "\u001b[93m[INFO]: Avoiding saving 00288image.jpg: already in the destination folder ...\u001b[0m\n",
      "\u001b[93m[INFO]: Avoiding saving 00313image.jpg: already in the destination folder ...\u001b[0m\n",
      "\u001b[93m[INFO]: Avoiding saving 00175image.jpg: already in the destination folder ...\u001b[0m\n",
      "\u001b[93m[INFO]: Avoiding saving 00174image.jpg: already in the destination folder ...\u001b[0m\n"
     ]
    },
    {
     "name": "stderr",
     "output_type": "stream",
     "text": [
      " 61%|██████    | 809/1337 [01:29<00:23, 22.01it/s]"
     ]
    },
    {
     "name": "stdout",
     "output_type": "stream",
     "text": [
      "\u001b[93m[INFO]: Avoiding saving 00205mask.jpg: already in the destination folder ...\u001b[0m\n",
      "\u001b[93m[INFO]: Avoiding saving 00285pic.jpg: already in the destination folder ...\u001b[0m\n",
      "\u001b[93m[INFO]: Avoiding saving 00285pic.jpg: already in the destination folder ...\u001b[0m\n",
      "\u001b[93m[INFO]: Avoiding saving 00132pic.jpg: already in the destination folder ...\u001b[0m\n"
     ]
    },
    {
     "name": "stderr",
     "output_type": "stream",
     "text": [
      " 61%|██████    | 812/1337 [01:29<00:26, 19.84it/s]"
     ]
    },
    {
     "name": "stdout",
     "output_type": "stream",
     "text": [
      "\u001b[93m[INFO]: Avoiding saving 1582378118.jpg: already in the destination folder ...\u001b[0m\n",
      "\u001b[93m[INFO]: Avoiding saving 1582378130.jpg: already in the destination folder ...\u001b[0m\n",
      "\u001b[93m[INFO]: Avoiding saving 00163mask.jpg: already in the destination folder ...\u001b[0m\n"
     ]
    },
    {
     "name": "stderr",
     "output_type": "stream",
     "text": [
      " 61%|██████    | 815/1337 [01:31<01:46,  4.88it/s]"
     ]
    },
    {
     "name": "stdout",
     "output_type": "stream",
     "text": [
      "\u001b[93m[INFO]: Avoiding saving 00101mask.jpg: already in the destination folder ...\u001b[0m\n",
      "\u001b[93m[INFO]: Avoiding saving 00101mask.jpg: already in the destination folder ...\u001b[0m\n",
      "\u001b[93m[INFO]: Avoiding saving 00101mask.jpg: already in the destination folder ...\u001b[0m\n",
      "\u001b[93m[INFO]: Avoiding saving 00101mask.jpg: already in the destination folder ...\u001b[0m\n",
      "\u001b[93m[INFO]: Avoiding saving 00101mask.jpg: already in the destination folder ...\u001b[0m\n",
      "\u001b[93m[INFO]: Avoiding saving 00101mask.jpg: already in the destination folder ...\u001b[0m\n",
      "\u001b[93m[INFO]: Avoiding saving 00079mask.jpg: already in the destination folder ...\u001b[0m\n",
      "\u001b[93m[INFO]: Avoiding saving 00079mask.jpg: already in the destination folder ...\u001b[0m\n"
     ]
    },
    {
     "name": "stderr",
     "output_type": "stream",
     "text": [
      " 61%|██████▏   | 819/1337 [01:31<01:35,  5.40it/s]"
     ]
    },
    {
     "name": "stdout",
     "output_type": "stream",
     "text": [
      "\u001b[93m[INFO]: Avoiding saving 00069mask.jpg: already in the destination folder ...\u001b[0m\n",
      "\u001b[93m[INFO]: Avoiding saving 00069mask.jpg: already in the destination folder ...\u001b[0m\n",
      "\u001b[93m[INFO]: Avoiding saving 00069mask.jpg: already in the destination folder ...\u001b[0m\n",
      "\u001b[93m[INFO]: Avoiding saving 00069mask.jpg: already in the destination folder ...\u001b[0m\n",
      "\u001b[93m[INFO]: Avoiding saving 00069mask.jpg: already in the destination folder ...\u001b[0m\n",
      "\u001b[93m[INFO]: Avoiding saving 00289pic.jpg: already in the destination folder ...\u001b[0m\n",
      "\u001b[93m[INFO]: Avoiding saving 00289pic.jpg: already in the destination folder ...\u001b[0m\n",
      "\u001b[93m[INFO]: Avoiding saving mask戴口罩_19.jpg: already in the destination folder ...\u001b[0m\n",
      "\u001b[93m[INFO]: Avoiding saving mask戴口罩_19.jpg: already in the destination folder ...\u001b[0m\n",
      "\u001b[93m[INFO]: Avoiding saving mask戴口罩_19.jpg: already in the destination folder ...\u001b[0m\n"
     ]
    },
    {
     "name": "stderr",
     "output_type": "stream",
     "text": [
      " 62%|██████▏   | 824/1337 [01:32<01:00,  8.49it/s]"
     ]
    },
    {
     "name": "stdout",
     "output_type": "stream",
     "text": [
      "\u001b[93m[INFO]: Avoiding saving 1582116080.jpg: already in the destination folder ...\u001b[0m\n",
      "\u001b[93m[INFO]: Skipping RWMFD_part_2-1: is a directory ...\u001b[0m\n"
     ]
    },
    {
     "name": "stderr",
     "output_type": "stream",
     "text": [
      " 62%|██████▏   | 826/1337 [01:32<00:54,  9.40it/s]"
     ]
    },
    {
     "name": "stdout",
     "output_type": "stream",
     "text": [
      "\u001b[93m[INFO]: Avoiding saving 00277mask.jpg: already in the destination folder ...\u001b[0m\n",
      "\u001b[93m[INFO]: Avoiding saving 00277mask.jpg: already in the destination folder ...\u001b[0m\n",
      "\u001b[93m[INFO]: Avoiding saving 00120pic.png: already in the destination folder ...\u001b[0m\n",
      "\u001b[93m[INFO]: Avoiding saving 00120pic.png: already in the destination folder ...\u001b[0m\n",
      "\u001b[93m[INFO]: Avoiding saving 00252image.jpg: already in the destination folder ...\u001b[0m\n"
     ]
    },
    {
     "name": "stderr",
     "output_type": "stream",
     "text": [
      " 62%|██████▏   | 831/1337 [01:32<00:45, 11.11it/s]"
     ]
    },
    {
     "name": "stdout",
     "output_type": "stream",
     "text": [
      "\u001b[93m[INFO]: Avoiding saving 00253image.jpg: already in the destination folder ...\u001b[0m\n",
      "\u001b[93m[INFO]: Avoiding saving 00297pic.jpg: already in the destination folder ...\u001b[0m\n",
      "\u001b[93m[INFO]: Avoiding saving 00297pic.jpg: already in the destination folder ...\u001b[0m\n"
     ]
    },
    {
     "name": "stderr",
     "output_type": "stream",
     "text": [
      " 62%|██████▏   | 835/1337 [01:32<00:39, 12.79it/s]"
     ]
    },
    {
     "name": "stdout",
     "output_type": "stream",
     "text": [
      "\u001b[93m[INFO]: Avoiding saving 00020pic.jpg: already in the destination folder ...\u001b[0m\n",
      "\u001b[93m[INFO]: Avoiding saving 00020pic.jpg: already in the destination folder ...\u001b[0m\n",
      "\u001b[93m[INFO]: Avoiding saving 1582116241.jpg: already in the destination folder ...\u001b[0m\n"
     ]
    },
    {
     "name": "stderr",
     "output_type": "stream",
     "text": [
      " 63%|██████▎   | 838/1337 [01:33<00:34, 14.43it/s]"
     ]
    },
    {
     "name": "stdout",
     "output_type": "stream",
     "text": [
      "\u001b[93m[INFO]: Avoiding saving 00292mask.jpg: already in the destination folder ...\u001b[0m\n",
      "\u001b[93m[INFO]: Avoiding saving 00006pic.jpg: already in the destination folder ...\u001b[0m\n",
      "\u001b[93m[INFO]: Avoiding saving 00006pic.jpg: already in the destination folder ...\u001b[0m\n"
     ]
    },
    {
     "name": "stderr",
     "output_type": "stream",
     "text": [
      " 63%|██████▎   | 843/1337 [01:33<00:32, 15.42it/s]"
     ]
    },
    {
     "name": "stdout",
     "output_type": "stream",
     "text": [
      "\u001b[93m[INFO]: Avoiding saving 00282mask.jpg: already in the destination folder ...\u001b[0m\n",
      "\u001b[93m[INFO]: Avoiding saving 00106pic.jpg: already in the destination folder ...\u001b[0m\n",
      "\u001b[93m[INFO]: Avoiding saving 00106pic.jpg: already in the destination folder ...\u001b[0m\n",
      "\u001b[93m[INFO]: Avoiding saving 00106pic.jpg: already in the destination folder ...\u001b[0m\n",
      "\u001b[93m[INFO]: Avoiding saving 00156image.jpg: already in the destination folder ...\u001b[0m\n",
      "\u001b[93m[INFO]: Avoiding saving 00157image.jpg: already in the destination folder ...\u001b[0m\n"
     ]
    },
    {
     "name": "stderr",
     "output_type": "stream",
     "text": [
      " 63%|██████▎   | 846/1337 [01:33<00:26, 18.26it/s]"
     ]
    },
    {
     "name": "stdout",
     "output_type": "stream",
     "text": [
      "\u001b[93m[INFO]: Avoiding saving 1582379821.jpg: already in the destination folder ...\u001b[0m\n"
     ]
    },
    {
     "name": "stderr",
     "output_type": "stream",
     "text": [
      " 64%|██████▍   | 855/1337 [01:34<00:38, 12.56it/s]"
     ]
    },
    {
     "name": "stdout",
     "output_type": "stream",
     "text": [
      "\u001b[93m[INFO]: Avoiding saving 00065pic.jpg: already in the destination folder ...\u001b[0m\n",
      "\u001b[93m[INFO]: Avoiding saving 00065pic.jpg: already in the destination folder ...\u001b[0m\n",
      "\u001b[93m[INFO]: Avoiding saving 00165pic.jpg: already in the destination folder ...\u001b[0m\n",
      "\u001b[93m[INFO]: Avoiding saving 00249mask.jpg: already in the destination folder ...\u001b[0m\n"
     ]
    },
    {
     "name": "stderr",
     "output_type": "stream",
     "text": [
      " 64%|██████▍   | 857/1337 [01:34<00:36, 12.99it/s]"
     ]
    },
    {
     "name": "stdout",
     "output_type": "stream",
     "text": [
      "\u001b[93m[INFO]: Avoiding saving 00321mask.jpg: already in the destination folder ...\u001b[0m\n",
      "\u001b[93m[INFO]: Avoiding saving 00321mask.jpg: already in the destination folder ...\u001b[0m\n",
      "\u001b[93m[INFO]: Avoiding saving 00321mask.jpg: already in the destination folder ...\u001b[0m\n",
      "\u001b[93m[INFO]: Avoiding saving 00259mask.jpg: already in the destination folder ...\u001b[0m\n"
     ]
    },
    {
     "name": "stderr",
     "output_type": "stream",
     "text": [
      " 64%|██████▍   | 862/1337 [01:35<00:55,  8.59it/s]"
     ]
    },
    {
     "name": "stdout",
     "output_type": "stream",
     "text": [
      "\u001b[93m[INFO]: Avoiding saving 00014pic.jpg: already in the destination folder ...\u001b[0m\n",
      "\u001b[93m[INFO]: Avoiding saving 00014pic.jpg: already in the destination folder ...\u001b[0m\n",
      "\u001b[93m[INFO]: Avoiding saving 00014pic.jpg: already in the destination folder ...\u001b[0m\n"
     ]
    },
    {
     "name": "stderr",
     "output_type": "stream",
     "text": [
      " 65%|██████▍   | 865/1337 [01:35<00:48,  9.79it/s]"
     ]
    },
    {
     "name": "stdout",
     "output_type": "stream",
     "text": [
      "\u001b[93m[INFO]: Avoiding saving 1582378685.jpg: already in the destination folder ...\u001b[0m\n",
      "\u001b[93m[INFO]: Avoiding saving 00019image.jpeg: already in the destination folder ...\u001b[0m\n"
     ]
    },
    {
     "name": "stderr",
     "output_type": "stream",
     "text": [
      " 65%|██████▌   | 870/1337 [01:36<00:46, 10.05it/s]"
     ]
    },
    {
     "name": "stdout",
     "output_type": "stream",
     "text": [
      "\u001b[93m[INFO]: Avoiding saving 00069pic.jpg: already in the destination folder ...\u001b[0m\n",
      "\u001b[93m[INFO]: Avoiding saving 00069pic.jpg: already in the destination folder ...\u001b[0m\n",
      "\u001b[93m[INFO]: Avoiding saving 00069pic.jpg: already in the destination folder ...\u001b[0m\n",
      "\u001b[93m[INFO]: Avoiding saving 00069pic.jpg: already in the destination folder ...\u001b[0m\n",
      "\u001b[93m[INFO]: Avoiding saving 00069pic.jpg: already in the destination folder ...\u001b[0m\n",
      "\u001b[93m[INFO]: Avoiding saving 00270image.jpg: already in the destination folder ...\u001b[0m\n"
     ]
    },
    {
     "name": "stderr",
     "output_type": "stream",
     "text": [
      " 65%|██████▌   | 874/1337 [01:36<00:46,  9.98it/s]"
     ]
    },
    {
     "name": "stdout",
     "output_type": "stream",
     "text": [
      "\u001b[93m[INFO]: Avoiding saving 00057mask.png: already in the destination folder ...\u001b[0m\n",
      "\u001b[93m[INFO]: Avoiding saving 1582462874.jpg: already in the destination folder ...\u001b[0m\n",
      "\u001b[93m[INFO]: Avoiding saving 00177pic.jpg: already in the destination folder ...\u001b[0m\n",
      "\u001b[93m[INFO]: Avoiding saving 1582462860.jpg: already in the destination folder ...\u001b[0m\n"
     ]
    },
    {
     "name": "stderr",
     "output_type": "stream",
     "text": [
      " 66%|██████▌   | 881/1337 [01:36<00:29, 15.33it/s]"
     ]
    },
    {
     "name": "stdout",
     "output_type": "stream",
     "text": [
      "\u001b[93m[INFO]: Avoiding saving 1582462848.jpg: already in the destination folder ...\u001b[0m\n",
      "\u001b[93m[INFO]: Avoiding saving 00122pic.jpg: already in the destination folder ...\u001b[0m\n"
     ]
    },
    {
     "name": "stderr",
     "output_type": "stream",
     "text": [
      " 66%|██████▌   | 885/1337 [01:37<00:31, 14.36it/s]"
     ]
    },
    {
     "name": "stdout",
     "output_type": "stream",
     "text": [
      "\u001b[93m[INFO]: Avoiding saving 00295pic.jpg: already in the destination folder ...\u001b[0m\n",
      "\u001b[93m[INFO]: Avoiding saving 00295pic.jpg: already in the destination folder ...\u001b[0m\n",
      "\u001b[93m[INFO]: Avoiding saving 00295pic.jpg: already in the destination folder ...\u001b[0m\n",
      "\u001b[93m[INFO]: Avoiding saving 00295pic.jpg: already in the destination folder ...\u001b[0m\n",
      "\u001b[93m[INFO]: Avoiding saving 1582462849.jpg: already in the destination folder ...\u001b[0m\n"
     ]
    },
    {
     "name": "stderr",
     "output_type": "stream",
     "text": [
      " 66%|██████▋   | 889/1337 [01:37<00:23, 18.86it/s]"
     ]
    },
    {
     "name": "stdout",
     "output_type": "stream",
     "text": [
      "\u001b[93m[INFO]: Avoiding saving 00214mask.jpg: already in the destination folder ...\u001b[0m\n",
      "\u001b[93m[INFO]: Avoiding saving 00204mask.jpg: already in the destination folder ...\u001b[0m\n",
      "\u001b[93m[INFO]: Avoiding saving 00294image.jpg: already in the destination folder ...\u001b[0m\n",
      "\u001b[93m[INFO]: Avoiding saving 00172mask.jpg: already in the destination folder ...\u001b[0m\n"
     ]
    },
    {
     "name": "stderr",
     "output_type": "stream",
     "text": [
      " 67%|██████▋   | 892/1337 [01:37<00:22, 19.39it/s]"
     ]
    },
    {
     "name": "stdout",
     "output_type": "stream",
     "text": [
      "\u001b[93m[INFO]: Avoiding saving 00162mask.jpg: already in the destination folder ...\u001b[0m\n",
      "\u001b[93m[INFO]: Avoiding saving 00295image.jpg: already in the destination folder ...\u001b[0m\n",
      "\u001b[93m[INFO]: Avoiding saving 00295image.jpg: already in the destination folder ...\u001b[0m\n",
      "\u001b[93m[INFO]: Avoiding saving 00295image.jpg: already in the destination folder ...\u001b[0m\n",
      "\u001b[93m[INFO]: Avoiding saving 00295image.jpg: already in the destination folder ...\u001b[0m\n",
      "\u001b[93m[INFO]: Avoiding saving 00206image.jpg: already in the destination folder ...\u001b[0m\n"
     ]
    },
    {
     "name": "stderr",
     "output_type": "stream",
     "text": [
      " 67%|██████▋   | 895/1337 [01:38<00:46,  9.60it/s]"
     ]
    },
    {
     "name": "stdout",
     "output_type": "stream",
     "text": [
      "\u001b[93m[INFO]: Avoiding saving 00060image.jpg: already in the destination folder ...\u001b[0m\n",
      "\u001b[93m[INFO]: Avoiding saving 00060image.jpg: already in the destination folder ...\u001b[0m\n",
      "\u001b[93m[INFO]: Avoiding saving 00060image.jpg: already in the destination folder ...\u001b[0m\n",
      "\u001b[93m[INFO]: Avoiding saving 00060image.jpg: already in the destination folder ...\u001b[0m\n",
      "\u001b[93m[INFO]: Avoiding saving 00060image.jpg: already in the destination folder ...\u001b[0m\n",
      "\u001b[93m[INFO]: Avoiding saving 00028image.webp: already in the destination folder ...\u001b[0m\n",
      "\u001b[93m[INFO]: Avoiding saving 00028image.webp: already in the destination folder ...\u001b[0m\n",
      "\u001b[93m[INFO]: Avoiding saving 00028image.webp: already in the destination folder ...\u001b[0m\n"
     ]
    },
    {
     "name": "stderr",
     "output_type": "stream",
     "text": [
      " 67%|██████▋   | 897/1337 [01:43<05:05,  1.44it/s]"
     ]
    },
    {
     "name": "stdout",
     "output_type": "stream",
     "text": [
      "\u001b[93m[INFO]: Avoiding saving 00061image.jpg: already in the destination folder ...\u001b[0m\n",
      "\u001b[93m[INFO]: Avoiding saving 00061image.jpg: already in the destination folder ...\u001b[0m\n",
      "\u001b[93m[INFO]: Avoiding saving 00061image.jpg: already in the destination folder ...\u001b[0m\n",
      "\u001b[93m[INFO]: Avoiding saving 00061image.jpg: already in the destination folder ...\u001b[0m\n",
      "\u001b[93m[INFO]: Avoiding saving 00061image.jpg: already in the destination folder ...\u001b[0m\n",
      "\u001b[93m[INFO]: Avoiding saving 00061image.jpg: already in the destination folder ...\u001b[0m\n",
      "\u001b[93m[INFO]: Avoiding saving 00061image.jpg: already in the destination folder ...\u001b[0m\n",
      "\u001b[93m[INFO]: Avoiding saving 00061image.jpg: already in the destination folder ...\u001b[0m\n",
      "\u001b[93m[INFO]: Avoiding saving 00207image.jpg: already in the destination folder ...\u001b[0m\n"
     ]
    },
    {
     "name": "stderr",
     "output_type": "stream",
     "text": [
      " 67%|██████▋   | 902/1337 [01:43<02:46,  2.61it/s]"
     ]
    },
    {
     "name": "stdout",
     "output_type": "stream",
     "text": [
      "\u001b[93m[INFO]: Avoiding saving 00023mask.jpeg: already in the destination folder ...\u001b[0m\n",
      "\u001b[93m[INFO]: Avoiding saving 00141pic.jpg: already in the destination folder ...\u001b[0m\n",
      "\u001b[93m[INFO]: Avoiding saving 00030pic.jpg: already in the destination folder ...\u001b[0m\n",
      "\u001b[93m[INFO]: Avoiding saving 00130pic.jpg: already in the destination folder ...\u001b[0m\n",
      "\u001b[93m[INFO]: Avoiding saving 1582116085.jpg: already in the destination folder ...\u001b[0m\n"
     ]
    },
    {
     "name": "stderr",
     "output_type": "stream",
     "text": [
      " 68%|██████▊   | 908/1337 [01:44<01:37,  4.41it/s]"
     ]
    },
    {
     "name": "stdout",
     "output_type": "stream",
     "text": [
      "\u001b[93m[INFO]: Avoiding saving 00053pic.png: already in the destination folder ...\u001b[0m\n",
      "\u001b[93m[INFO]: Avoiding saving 00053pic.png: already in the destination folder ...\u001b[0m\n",
      "\u001b[93m[INFO]: Avoiding saving 00299pic.jpg: already in the destination folder ...\u001b[0m\n",
      "\u001b[93m[INFO]: Avoiding saving 00299pic.jpg: already in the destination folder ...\u001b[0m\n",
      "\u001b[93m[INFO]: Avoiding saving 00299pic.jpg: already in the destination folder ...\u001b[0m\n",
      "\u001b[93m[INFO]: Avoiding saving 00120image.png: already in the destination folder ...\u001b[0m\n",
      "\u001b[93m[INFO]: Avoiding saving 00120image.png: already in the destination folder ...\u001b[0m\n"
     ]
    },
    {
     "name": "stderr",
     "output_type": "stream",
     "text": [
      " 68%|██████▊   | 912/1337 [01:45<01:29,  4.75it/s]"
     ]
    },
    {
     "name": "stdout",
     "output_type": "stream",
     "text": [
      "\u001b[93m[INFO]: Avoiding saving 00068mask.jpg: already in the destination folder ...\u001b[0m\n",
      "\u001b[93m[INFO]: Avoiding saving 00068mask.jpg: already in the destination folder ...\u001b[0m\n",
      "\u001b[93m[INFO]: Avoiding saving 00068mask.jpg: already in the destination folder ...\u001b[0m\n",
      "\u001b[93m[INFO]: Avoiding saving 00068mask.jpg: already in the destination folder ...\u001b[0m\n",
      "\u001b[93m[INFO]: Avoiding saving 00078mask.jpg: already in the destination folder ...\u001b[0m\n",
      "\u001b[93m[INFO]: Avoiding saving 00078mask.jpg: already in the destination folder ...\u001b[0m\n"
     ]
    },
    {
     "name": "stderr",
     "output_type": "stream",
     "text": [
      " 68%|██████▊   | 914/1337 [01:46<02:29,  2.82it/s]"
     ]
    },
    {
     "name": "stdout",
     "output_type": "stream",
     "text": [
      "\u001b[93m[INFO]: Avoiding saving 00100mask.jpg: already in the destination folder ...\u001b[0m\n",
      "\u001b[93m[INFO]: Avoiding saving 00100mask.jpg: already in the destination folder ...\u001b[0m\n",
      "\u001b[93m[INFO]: Avoiding saving 00276mask.jpg: already in the destination folder ...\u001b[0m\n"
     ]
    },
    {
     "name": "stderr",
     "output_type": "stream",
     "text": [
      " 69%|██████▉   | 920/1337 [01:47<01:10,  5.89it/s]"
     ]
    },
    {
     "name": "stdout",
     "output_type": "stream",
     "text": [
      "\u001b[93m[INFO]: Avoiding saving 00187image.jpg: already in the destination folder ...\u001b[0m\n",
      "\u001b[93m[INFO]: Avoiding saving 00328mask.jpg: already in the destination folder ...\u001b[0m\n",
      "\u001b[93m[INFO]: Avoiding saving 00328mask.jpg: already in the destination folder ...\u001b[0m\n",
      "\u001b[93m[INFO]: Avoiding saving 00328mask.jpg: already in the destination folder ...\u001b[0m\n",
      "\u001b[93m[INFO]: Avoiding saving 00250mask.jpg: already in the destination folder ...\u001b[0m\n"
     ]
    },
    {
     "name": "stderr",
     "output_type": "stream",
     "text": [
      " 70%|██████▉   | 931/1337 [01:47<00:31, 12.99it/s]"
     ]
    },
    {
     "name": "stdout",
     "output_type": "stream",
     "text": [
      "\u001b[93m[INFO]: Avoiding saving 1582462903.jpg: already in the destination folder ...\u001b[0m\n",
      "\u001b[93m[INFO]: Avoiding saving 1582379822.jpg: already in the destination folder ...\u001b[0m\n",
      "\u001b[93m[INFO]: Avoiding saving 00136mask.jpg: already in the destination folder ...\u001b[0m\n",
      "\u001b[93m[INFO]: Avoiding saving 00126mask.jpg: already in the destination folder ...\u001b[0m\n",
      "\u001b[93m[INFO]: Avoiding saving 00126mask.jpg: already in the destination folder ...\u001b[0m\n",
      "\u001b[93m[INFO]: Avoiding saving 00126mask.jpg: already in the destination folder ...\u001b[0m\n",
      "\u001b[93m[INFO]: Avoiding saving 00250pic.jpg: already in the destination folder ...\u001b[0m\n"
     ]
    },
    {
     "name": "stderr",
     "output_type": "stream",
     "text": [
      " 70%|███████   | 939/1337 [01:47<00:24, 16.46it/s]"
     ]
    },
    {
     "name": "stdout",
     "output_type": "stream",
     "text": [
      "\u001b[93m[INFO]: Avoiding saving mask戴口罩_36.jpg: already in the destination folder ...\u001b[0m\n",
      "\u001b[93m[INFO]: Avoiding saving 1582116087.jpg: already in the destination folder ...\u001b[0m\n",
      "\u001b[93m[INFO]: Avoiding saving 1582378679.jpg: already in the destination folder ...\u001b[0m\n",
      "\u001b[93m[INFO]: Avoiding saving 00321pic.jpg: already in the destination folder ...\u001b[0m\n",
      "\u001b[93m[INFO]: Avoiding saving 00321pic.jpg: already in the destination folder ...\u001b[0m\n",
      "\u001b[93m[INFO]: Avoiding saving 00321pic.jpg: already in the destination folder ...\u001b[0m\n",
      "\u001b[93m[INFO]: Avoiding saving 00232image.jpg: already in the destination folder ...\u001b[0m\n"
     ]
    },
    {
     "name": "stderr",
     "output_type": "stream",
     "text": [
      " 71%|███████   | 946/1337 [01:48<00:20, 19.25it/s]"
     ]
    },
    {
     "name": "stdout",
     "output_type": "stream",
     "text": [
      "\u001b[93m[INFO]: Avoiding saving 00096pic.jpg: already in the destination folder ...\u001b[0m\n",
      "\u001b[93m[INFO]: Avoiding saving 00095mask.jpg: already in the destination folder ...\u001b[0m\n"
     ]
    },
    {
     "name": "stderr",
     "output_type": "stream",
     "text": [
      " 71%|███████   | 949/1337 [01:48<00:24, 15.61it/s]"
     ]
    },
    {
     "name": "stdout",
     "output_type": "stream",
     "text": [
      "\u001b[93m[INFO]: Avoiding saving mask戴口罩_131.jpg: already in the destination folder ...\u001b[0m\n",
      "\u001b[93m[INFO]: Avoiding saving 1582378686.jpg: already in the destination folder ...\u001b[0m\n",
      "\u001b[93m[INFO]: Avoiding saving mask戴口罩_125.jpg: already in the destination folder ...\u001b[0m\n",
      "\u001b[93m[INFO]: Avoiding saving mask戴口罩_125.jpg: already in the destination folder ...\u001b[0m\n",
      "\u001b[93m[INFO]: Avoiding saving mask戴口罩_125.jpg: already in the destination folder ...\u001b[0m\n",
      "\u001b[93m[INFO]: Avoiding saving mask戴口罩_125.jpg: already in the destination folder ...\u001b[0m\n"
     ]
    },
    {
     "name": "stderr",
     "output_type": "stream",
     "text": [
      " 71%|███████   | 952/1337 [01:48<00:24, 15.55it/s]"
     ]
    },
    {
     "name": "stdout",
     "output_type": "stream",
     "text": [
      "\u001b[93m[INFO]: Avoiding saving 00188pic.jpg: already in the destination folder ...\u001b[0m\n",
      "\u001b[93m[INFO]: Avoiding saving 00154mask.jpg: already in the destination folder ...\u001b[0m\n",
      "\u001b[93m[INFO]: Avoiding saving 00088pic.jpg: already in the destination folder ...\u001b[0m\n",
      "\u001b[93m[INFO]: Avoiding saving 00144mask.jpg: already in the destination folder ...\u001b[0m\n",
      "\u001b[93m[INFO]: Avoiding saving 1582379765.jpg: already in the destination folder ...\u001b[0m\n"
     ]
    },
    {
     "name": "stderr",
     "output_type": "stream",
     "text": [
      " 72%|███████▏  | 956/1337 [01:48<00:19, 19.13it/s]"
     ]
    },
    {
     "name": "stdout",
     "output_type": "stream",
     "text": [
      "\u001b[93m[INFO]: Avoiding saving 1582379759.jpg: already in the destination folder ...\u001b[0m\n",
      "\u001b[93m[INFO]: Avoiding saving 00242pic.jpg: already in the destination folder ...\u001b[0m\n",
      "\u001b[93m[INFO]: Avoiding saving 00242pic.jpg: already in the destination folder ...\u001b[0m\n",
      "\u001b[93m[INFO]: Avoiding saving 00242pic.jpg: already in the destination folder ...\u001b[0m\n",
      "\u001b[93m[INFO]: Avoiding saving 00232mask.jpg: already in the destination folder ...\u001b[0m\n"
     ]
    },
    {
     "name": "stderr",
     "output_type": "stream",
     "text": [
      " 72%|███████▏  | 959/1337 [01:49<00:25, 14.96it/s]"
     ]
    },
    {
     "name": "stdout",
     "output_type": "stream",
     "text": [
      "\u001b[93m[INFO]: Avoiding saving 00055image.png: already in the destination folder ...\u001b[0m\n",
      "\u001b[93m[INFO]: Avoiding saving 00222mask.jpg: already in the destination folder ...\u001b[0m\n"
     ]
    },
    {
     "name": "stderr",
     "output_type": "stream",
     "text": [
      " 72%|███████▏  | 963/1337 [01:49<00:31, 11.79it/s]"
     ]
    },
    {
     "name": "stdout",
     "output_type": "stream",
     "text": [
      "\u001b[93m[INFO]: Avoiding saving 00054image.png: already in the destination folder ...\u001b[0m\n",
      "\u001b[93m[INFO]: Avoiding saving 00317pic.jpg: already in the destination folder ...\u001b[0m\n"
     ]
    },
    {
     "name": "stderr",
     "output_type": "stream",
     "text": [
      " 72%|███████▏  | 968/1337 [01:49<00:26, 14.02it/s]"
     ]
    },
    {
     "name": "stdout",
     "output_type": "stream",
     "text": [
      "\u001b[93m[INFO]: Avoiding saving 00244image.jpg: already in the destination folder ...\u001b[0m\n",
      "\u001b[93m[INFO]: Avoiding saving 00244image.jpg: already in the destination folder ...\u001b[0m\n",
      "\u001b[93m[INFO]: Avoiding saving 00244image.jpg: already in the destination folder ...\u001b[0m\n"
     ]
    },
    {
     "name": "stderr",
     "output_type": "stream",
     "text": [
      " 73%|███████▎  | 970/1337 [01:50<00:35, 10.26it/s]"
     ]
    },
    {
     "name": "stdout",
     "output_type": "stream",
     "text": [
      "\u001b[93m[INFO]: Avoiding saving 30.webp: already in the destination folder ...\u001b[0m\n"
     ]
    },
    {
     "name": "stderr",
     "output_type": "stream",
     "text": [
      " 73%|███████▎  | 973/1337 [01:50<00:31, 11.61it/s]"
     ]
    },
    {
     "name": "stdout",
     "output_type": "stream",
     "text": [
      "\u001b[93m[INFO]: Avoiding saving mask戴口罩_124.jpg: already in the destination folder ...\u001b[0m\n",
      "\u001b[93m[INFO]: Avoiding saving 00309pic.jpg: already in the destination folder ...\u001b[0m\n"
     ]
    },
    {
     "name": "stderr",
     "output_type": "stream",
     "text": [
      " 73%|███████▎  | 977/1337 [01:51<00:44,  8.06it/s]"
     ]
    },
    {
     "name": "stdout",
     "output_type": "stream",
     "text": [
      "\u001b[93m[INFO]: Avoiding saving 00071mask.jpg: already in the destination folder ...\u001b[0m\n",
      "\u001b[93m[INFO]: Avoiding saving 00071mask.jpg: already in the destination folder ...\u001b[0m\n"
     ]
    },
    {
     "name": "stderr",
     "output_type": "stream",
     "text": [
      " 73%|███████▎  | 980/1337 [01:57<04:51,  1.22it/s]"
     ]
    },
    {
     "name": "stdout",
     "output_type": "stream",
     "text": [
      "\u001b[93m[INFO]: Avoiding saving 00061mask.jpg: already in the destination folder ...\u001b[0m\n",
      "\u001b[93m[INFO]: Avoiding saving 00061mask.jpg: already in the destination folder ...\u001b[0m\n",
      "\u001b[93m[INFO]: Avoiding saving 00061mask.jpg: already in the destination folder ...\u001b[0m\n",
      "\u001b[93m[INFO]: Avoiding saving 00061mask.jpg: already in the destination folder ...\u001b[0m\n",
      "\u001b[93m[INFO]: Avoiding saving 00061mask.jpg: already in the destination folder ...\u001b[0m\n",
      "\u001b[93m[INFO]: Avoiding saving 00061mask.jpg: already in the destination folder ...\u001b[0m\n",
      "\u001b[93m[INFO]: Avoiding saving 00061mask.jpg: already in the destination folder ...\u001b[0m\n",
      "\u001b[93m[INFO]: Avoiding saving 00061mask.jpg: already in the destination folder ...\u001b[0m\n",
      "\u001b[93m[INFO]: Avoiding saving 00317mask.jpg: already in the destination folder ...\u001b[0m\n"
     ]
    },
    {
     "name": "stderr",
     "output_type": "stream",
     "text": [
      " 73%|███████▎  | 982/1337 [01:57<03:23,  1.75it/s]"
     ]
    },
    {
     "name": "stdout",
     "output_type": "stream",
     "text": [
      "\u001b[93m[INFO]: Avoiding saving 00307mask.jpg: already in the destination folder ...\u001b[0m\n",
      "\u001b[93m[INFO]: Avoiding saving 00307mask.jpg: already in the destination folder ...\u001b[0m\n",
      "\u001b[93m[INFO]: Avoiding saving 1582378678.jpg: already in the destination folder ...\u001b[0m\n"
     ]
    },
    {
     "name": "stderr",
     "output_type": "stream",
     "text": [
      " 74%|███████▎  | 986/1337 [01:58<01:34,  3.72it/s]"
     ]
    },
    {
     "name": "stdout",
     "output_type": "stream",
     "text": [
      "\u001b[93m[INFO]: Avoiding saving 00205pic.jpg: already in the destination folder ...\u001b[0m\n",
      "\u001b[93m[INFO]: Avoiding saving 00305pic.jpg: already in the destination folder ...\u001b[0m\n",
      "\u001b[93m[INFO]: Avoiding saving 00305pic.jpg: already in the destination folder ...\u001b[0m\n",
      "\u001b[93m[INFO]: Avoiding saving 00305pic.jpg: already in the destination folder ...\u001b[0m\n"
     ]
    },
    {
     "name": "stderr",
     "output_type": "stream",
     "text": [
      " 74%|███████▍  | 992/1337 [01:58<00:46,  7.46it/s]"
     ]
    },
    {
     "name": "stdout",
     "output_type": "stream",
     "text": [
      "\u001b[93m[INFO]: Avoiding saving mask戴口罩_37.jpg: already in the destination folder ...\u001b[0m\n",
      "\u001b[93m[INFO]: Avoiding saving 00013mask.jpg: already in the destination folder ...\u001b[0m\n",
      "\u001b[93m[INFO]: Avoiding saving 00278pic.jpg: already in the destination folder ...\u001b[0m\n",
      "\u001b[93m[INFO]: Avoiding saving 00278pic.jpg: already in the destination folder ...\u001b[0m\n",
      "\u001b[93m[INFO]: Avoiding saving 00278pic.jpg: already in the destination folder ...\u001b[0m\n"
     ]
    },
    {
     "name": "stderr",
     "output_type": "stream",
     "text": [
      " 75%|███████▍  | 999/1337 [01:59<00:27, 12.16it/s]"
     ]
    },
    {
     "name": "stdout",
     "output_type": "stream",
     "text": [
      "\u001b[93m[INFO]: Avoiding saving 1582116284.jpg: already in the destination folder ...\u001b[0m\n",
      "\u001b[93m[INFO]: Avoiding saving 118.jpg: already in the destination folder ...\u001b[0m\n",
      "\u001b[93m[INFO]: Avoiding saving 1582462916.jpg: already in the destination folder ...\u001b[0m\n",
      "\u001b[93m[INFO]: Avoiding saving 00304image.jpg: already in the destination folder ...\u001b[0m\n"
     ]
    },
    {
     "name": "stderr",
     "output_type": "stream",
     "text": [
      " 75%|███████▍  | 1002/1337 [01:59<00:22, 14.61it/s]"
     ]
    },
    {
     "name": "stdout",
     "output_type": "stream",
     "text": [
      "\u001b[93m[INFO]: Avoiding saving 31.jpg: already in the destination folder ...\u001b[0m\n",
      "\u001b[93m[INFO]: Avoiding saving 00162image.jpg: already in the destination folder ...\u001b[0m\n",
      "\u001b[93m[INFO]: Avoiding saving 25.jpg: already in the destination folder ...\u001b[0m\n",
      "\u001b[93m[INFO]: Avoiding saving 25.jpg: already in the destination folder ...\u001b[0m\n",
      "\u001b[93m[INFO]: Avoiding saving 25.jpg: already in the destination folder ...\u001b[0m\n",
      "\u001b[93m[INFO]: Avoiding saving 00163image.jpg: already in the destination folder ...\u001b[0m\n"
     ]
    },
    {
     "name": "stderr",
     "output_type": "stream",
     "text": [
      " 75%|███████▌  | 1007/1337 [01:59<00:21, 15.19it/s]"
     ]
    },
    {
     "name": "stdout",
     "output_type": "stream",
     "text": [
      "\u001b[93m[INFO]: Avoiding saving 00305image.jpg: already in the destination folder ...\u001b[0m\n",
      "\u001b[93m[INFO]: Avoiding saving 00305image.jpg: already in the destination folder ...\u001b[0m\n",
      "\u001b[93m[INFO]: Avoiding saving 00305image.jpg: already in the destination folder ...\u001b[0m\n",
      "\u001b[93m[INFO]: Avoiding saving 1582379610.jpg: already in the destination folder ...\u001b[0m\n"
     ]
    },
    {
     "name": "stderr",
     "output_type": "stream",
     "text": [
      " 76%|███████▌  | 1012/1337 [01:59<00:18, 17.53it/s]"
     ]
    },
    {
     "name": "stdout",
     "output_type": "stream",
     "text": [
      "\u001b[93m[INFO]: Avoiding saving 00149pic.jpg: already in the destination folder ...\u001b[0m\n",
      "\u001b[93m[INFO]: Avoiding saving 81.jpg: already in the destination folder ...\u001b[0m\n",
      "\u001b[93m[INFO]: Avoiding saving 81.jpg: already in the destination folder ...\u001b[0m\n"
     ]
    },
    {
     "name": "stderr",
     "output_type": "stream",
     "text": [
      " 76%|███████▌  | 1017/1337 [02:00<00:19, 16.01it/s]"
     ]
    },
    {
     "name": "stdout",
     "output_type": "stream",
     "text": [
      "\u001b[93m[INFO]: Avoiding saving 00041image.webp: already in the destination folder ...\u001b[0m\n",
      "\u001b[93m[INFO]: Avoiding saving 00134pic.jpg: already in the destination folder ...\u001b[0m\n",
      "\u001b[93m[INFO]: Avoiding saving 95.jpg: already in the destination folder ...\u001b[0m\n",
      "\u001b[93m[INFO]: Avoiding saving 00323mask.jpg: already in the destination folder ...\u001b[0m\n"
     ]
    },
    {
     "name": "stderr",
     "output_type": "stream",
     "text": [
      " 76%|███████▌  | 1019/1337 [02:01<00:52,  6.07it/s]"
     ]
    },
    {
     "name": "stdout",
     "output_type": "stream",
     "text": [
      "\u001b[93m[INFO]: Avoiding saving 00059image.jpg: already in the destination folder ...\u001b[0m\n",
      "\u001b[93m[INFO]: Avoiding saving 00059image.jpg: already in the destination folder ...\u001b[0m\n",
      "\u001b[93m[INFO]: Avoiding saving 00059image.jpg: already in the destination folder ...\u001b[0m\n",
      "\u001b[93m[INFO]: Avoiding saving 00059image.jpg: already in the destination folder ...\u001b[0m\n",
      "\u001b[93m[INFO]: Avoiding saving 00059image.jpg: already in the destination folder ...\u001b[0m\n",
      "\u001b[93m[INFO]: Avoiding saving 00058image.jpg: already in the destination folder ...\u001b[0m\n",
      "\u001b[93m[INFO]: Avoiding saving 00058image.jpg: already in the destination folder ...\u001b[0m\n",
      "\u001b[93m[INFO]: Avoiding saving 00058image.jpg: already in the destination folder ...\u001b[0m\n",
      "\u001b[93m[INFO]: Avoiding saving 00058image.jpg: already in the destination folder ...\u001b[0m\n",
      "\u001b[93m[INFO]: Avoiding saving 00058image.jpg: already in the destination folder ...\u001b[0m\n"
     ]
    },
    {
     "name": "stderr",
     "output_type": "stream",
     "text": [
      " 76%|███████▋  | 1022/1337 [02:02<01:19,  3.96it/s]"
     ]
    },
    {
     "name": "stdout",
     "output_type": "stream",
     "text": [
      "\u001b[93m[INFO]: Avoiding saving 00057pic.png: already in the destination folder ...\u001b[0m\n",
      "\u001b[93m[INFO]: Avoiding saving mask戴口罩_93.jpg: already in the destination folder ...\u001b[0m\n",
      "\u001b[93m[INFO]: Avoiding saving mask戴口罩_93.jpg: already in the destination folder ...\u001b[0m\n"
     ]
    },
    {
     "name": "stderr",
     "output_type": "stream",
     "text": [
      " 77%|███████▋  | 1024/1337 [02:02<01:00,  5.15it/s]"
     ]
    },
    {
     "name": "stdout",
     "output_type": "stream",
     "text": [
      "\u001b[93m[INFO]: Avoiding saving mask戴口罩_87.jpg: already in the destination folder ...\u001b[0m\n",
      "\u001b[93m[INFO]: Avoiding saving mask戴口罩_87.jpg: already in the destination folder ...\u001b[0m\n",
      "\u001b[93m[INFO]: Avoiding saving mask戴口罩_87.jpg: already in the destination folder ...\u001b[0m\n",
      "\u001b[93m[INFO]: Avoiding saving 00157pic.jpg: already in the destination folder ...\u001b[0m\n",
      "\u001b[93m[INFO]: Avoiding saving 00055mask.png: already in the destination folder ...\u001b[0m\n"
     ]
    },
    {
     "name": "stderr",
     "output_type": "stream",
     "text": [
      " 77%|███████▋  | 1028/1337 [02:03<00:52,  5.94it/s]"
     ]
    },
    {
     "name": "stdout",
     "output_type": "stream",
     "text": [
      "\u001b[93m[INFO]: Avoiding saving 56.png: already in the destination folder ...\u001b[0m\n",
      "\u001b[93m[INFO]: Avoiding saving mask戴口罩_78.jpg: already in the destination folder ...\u001b[0m\n"
     ]
    },
    {
     "name": "stderr",
     "output_type": "stream",
     "text": [
      " 78%|███████▊  | 1037/1337 [02:03<00:22, 13.13it/s]"
     ]
    },
    {
     "name": "stdout",
     "output_type": "stream",
     "text": [
      "\u001b[93m[INFO]: Avoiding saving 00276image.jpg: already in the destination folder ...\u001b[0m\n",
      "\u001b[93m[INFO]: Avoiding saving 00010image.jpg: already in the destination folder ...\u001b[0m\n",
      "\u001b[93m[INFO]: Avoiding saving 00011image.jpg: already in the destination folder ...\u001b[0m\n",
      "\u001b[93m[INFO]: Avoiding saving 00277image.jpg: already in the destination folder ...\u001b[0m\n",
      "\u001b[93m[INFO]: Avoiding saving 00277image.jpg: already in the destination folder ...\u001b[0m\n"
     ]
    },
    {
     "name": "stderr",
     "output_type": "stream",
     "text": [
      " 78%|███████▊  | 1042/1337 [02:03<00:18, 16.06it/s]"
     ]
    },
    {
     "name": "stdout",
     "output_type": "stream",
     "text": [
      "\u001b[93m[INFO]: Avoiding saving 00126pic.jpg: already in the destination folder ...\u001b[0m\n",
      "\u001b[93m[INFO]: Avoiding saving 00126pic.jpg: already in the destination folder ...\u001b[0m\n",
      "\u001b[93m[INFO]: Avoiding saving 00126pic.jpg: already in the destination folder ...\u001b[0m\n",
      "\u001b[93m[INFO]: Avoiding saving 00280mask.jpg: already in the destination folder ...\u001b[0m\n",
      "\u001b[93m[INFO]: Avoiding saving 00291pic.jpg: already in the destination folder ...\u001b[0m\n"
     ]
    },
    {
     "name": "stderr",
     "output_type": "stream",
     "text": [
      " 78%|███████▊  | 1044/1337 [02:04<00:19, 14.75it/s]"
     ]
    },
    {
     "name": "stdout",
     "output_type": "stream",
     "text": [
      "\u001b[93m[INFO]: Avoiding saving 00290mask.jpg: already in the destination folder ...\u001b[0m\n",
      "\u001b[93m[INFO]: Avoiding saving 00145pic.jpg: already in the destination folder ...\u001b[0m\n"
     ]
    },
    {
     "name": "stderr",
     "output_type": "stream",
     "text": [
      " 79%|███████▊  | 1052/1337 [02:04<00:19, 14.82it/s]"
     ]
    },
    {
     "name": "stdout",
     "output_type": "stream",
     "text": [
      "\u001b[93m[INFO]: Avoiding saving 00037mask.jpg: already in the destination folder ...\u001b[0m\n",
      "\u001b[93m[INFO]: Avoiding saving 00037mask.jpg: already in the destination folder ...\u001b[0m\n",
      "\u001b[93m[INFO]: Avoiding saving 00037mask.jpg: already in the destination folder ...\u001b[0m\n",
      "\u001b[93m[INFO]: Avoiding saving 00037mask.jpg: already in the destination folder ...\u001b[0m\n"
     ]
    },
    {
     "name": "stderr",
     "output_type": "stream",
     "text": [
      " 79%|███████▉  | 1056/1337 [02:05<00:29,  9.65it/s]"
     ]
    },
    {
     "name": "stdout",
     "output_type": "stream",
     "text": [
      "\u001b[93m[INFO]: Avoiding saving 00067image.jpg: already in the destination folder ...\u001b[0m\n"
     ]
    },
    {
     "name": "stderr",
     "output_type": "stream",
     "text": [
      " 79%|███████▉  | 1058/1337 [02:05<00:48,  5.77it/s]"
     ]
    },
    {
     "name": "stdout",
     "output_type": "stream",
     "text": [
      "\u001b[93m[INFO]: Avoiding saving 00066image.jpg: already in the destination folder ...\u001b[0m\n",
      "\u001b[93m[INFO]: Avoiding saving 00066image.jpg: already in the destination folder ...\u001b[0m\n",
      "\u001b[93m[INFO]: Avoiding saving 00066image.jpg: already in the destination folder ...\u001b[0m\n",
      "\u001b[93m[INFO]: Avoiding saving 00025mask.jpeg: already in the destination folder ...\u001b[0m\n"
     ]
    },
    {
     "name": "stderr",
     "output_type": "stream",
     "text": [
      " 79%|███████▉  | 1062/1337 [02:06<00:32,  8.35it/s]"
     ]
    },
    {
     "name": "stdout",
     "output_type": "stream",
     "text": [
      "\u001b[93m[INFO]: Avoiding saving 00010pic.jpg: already in the destination folder ...\u001b[0m\n",
      "\u001b[93m[INFO]: Avoiding saving 00309image.jpg: already in the destination folder ...\u001b[0m\n"
     ]
    },
    {
     "name": "stderr",
     "output_type": "stream",
     "text": [
      " 80%|███████▉  | 1064/1337 [02:06<00:39,  6.89it/s]"
     ]
    },
    {
     "name": "stdout",
     "output_type": "stream",
     "text": [
      "\u001b[93m[INFO]: Avoiding saving 00073pic.jpg: already in the destination folder ...\u001b[0m\n",
      "\u001b[93m[INFO]: Avoiding saving 00073pic.jpg: already in the destination folder ...\u001b[0m\n",
      "\u001b[93m[INFO]: Avoiding saving 00073pic.jpg: already in the destination folder ...\u001b[0m\n",
      "\u001b[93m[INFO]: Avoiding saving 00073pic.jpg: already in the destination folder ...\u001b[0m\n",
      "\u001b[93m[INFO]: Avoiding saving 00073pic.jpg: already in the destination folder ...\u001b[0m\n",
      "\u001b[93m[INFO]: Avoiding saving 00073pic.jpg: already in the destination folder ...\u001b[0m\n",
      "\u001b[93m[INFO]: Avoiding saving 00073pic.jpg: already in the destination folder ...\u001b[0m\n",
      "\u001b[93m[INFO]: Avoiding saving 00073pic.jpg: already in the destination folder ...\u001b[0m\n"
     ]
    },
    {
     "name": "stderr",
     "output_type": "stream",
     "text": [
      " 80%|███████▉  | 1066/1337 [02:07<00:45,  5.95it/s]"
     ]
    },
    {
     "name": "stdout",
     "output_type": "stream",
     "text": [
      "\u001b[93m[INFO]: Avoiding saving 00029pic.webp: already in the destination folder ...\u001b[0m\n",
      "\u001b[93m[INFO]: Avoiding saving 00264mask.jpg: already in the destination folder ...\u001b[0m\n"
     ]
    },
    {
     "name": "stderr",
     "output_type": "stream",
     "text": [
      " 80%|████████  | 1072/1337 [02:07<00:37,  6.98it/s]"
     ]
    },
    {
     "name": "stdout",
     "output_type": "stream",
     "text": [
      "\u001b[93m[INFO]: Avoiding saving 00102mask.jpg: already in the destination folder ...\u001b[0m\n",
      "\u001b[93m[INFO]: Avoiding saving 00292image.jpg: already in the destination folder ...\u001b[0m\n",
      "\u001b[93m[INFO]: Avoiding saving 00160mask.jpg: already in the destination folder ...\u001b[0m\n"
     ]
    },
    {
     "name": "stderr",
     "output_type": "stream",
     "text": [
      " 80%|████████  | 1075/1337 [02:07<00:27,  9.38it/s]"
     ]
    },
    {
     "name": "stdout",
     "output_type": "stream",
     "text": [
      "\u001b[93m[INFO]: Avoiding saving 00170mask.jpg: already in the destination folder ...\u001b[0m\n",
      "\u001b[93m[INFO]: Avoiding saving 00170mask.jpg: already in the destination folder ...\u001b[0m\n"
     ]
    },
    {
     "name": "stderr",
     "output_type": "stream",
     "text": [
      " 81%|████████  | 1081/1337 [02:08<00:22, 11.49it/s]"
     ]
    },
    {
     "name": "stdout",
     "output_type": "stream",
     "text": [
      "\u001b[93m[INFO]: Avoiding saving 57.png: already in the destination folder ...\u001b[0m\n",
      "\u001b[93m[INFO]: Avoiding saving 00206mask.jpg: already in the destination folder ...\u001b[0m\n",
      "\u001b[93m[INFO]: Avoiding saving 00216mask.jpg: already in the destination folder ...\u001b[0m\n",
      "\u001b[93m[INFO]: Avoiding saving 1582117315.jpg: already in the destination folder ...\u001b[0m\n"
     ]
    },
    {
     "name": "stderr",
     "output_type": "stream",
     "text": [
      " 81%|████████  | 1083/1337 [02:08<00:22, 11.29it/s]"
     ]
    },
    {
     "name": "stdout",
     "output_type": "stream",
     "text": [
      "\u001b[93m[INFO]: Avoiding saving 00002pic.jpg: already in the destination folder ...\u001b[0m\n",
      "\u001b[93m[INFO]: Avoiding saving 00002pic.jpg: already in the destination folder ...\u001b[0m\n",
      "\u001b[93m[INFO]: Avoiding saving 00249image.jpg: already in the destination folder ...\u001b[0m\n",
      "\u001b[93m[INFO]: Avoiding saving 00102pic.jpg: already in the destination folder ...\u001b[0m\n"
     ]
    },
    {
     "name": "stderr",
     "output_type": "stream",
     "text": [
      " 81%|████████▏ | 1087/1337 [02:14<02:20,  1.78it/s]"
     ]
    },
    {
     "name": "stdout",
     "output_type": "stream",
     "text": [
      "\u001b[93m[INFO]: Avoiding saving 00061pic.jpg: already in the destination folder ...\u001b[0m\n",
      "\u001b[93m[INFO]: Avoiding saving 00061pic.jpg: already in the destination folder ...\u001b[0m\n",
      "\u001b[93m[INFO]: Avoiding saving 00061pic.jpg: already in the destination folder ...\u001b[0m\n",
      "\u001b[93m[INFO]: Avoiding saving 00061pic.jpg: already in the destination folder ...\u001b[0m\n",
      "\u001b[93m[INFO]: Avoiding saving 00061pic.jpg: already in the destination folder ...\u001b[0m\n",
      "\u001b[93m[INFO]: Avoiding saving 00061pic.jpg: already in the destination folder ...\u001b[0m\n",
      "\u001b[93m[INFO]: Avoiding saving 00061pic.jpg: already in the destination folder ...\u001b[0m\n",
      "\u001b[93m[INFO]: Avoiding saving 00061pic.jpg: already in the destination folder ...\u001b[0m\n",
      "\u001b[93m[INFO]: Avoiding saving 00161pic.jpg: already in the destination folder ...\u001b[0m\n"
     ]
    },
    {
     "name": "stderr",
     "output_type": "stream",
     "text": [
      " 81%|████████▏ | 1089/1337 [02:14<01:48,  2.29it/s]"
     ]
    },
    {
     "name": "stdout",
     "output_type": "stream",
     "text": [
      "\u001b[93m[INFO]: Avoiding saving 80.jpg: already in the destination folder ...\u001b[0m\n",
      "\u001b[93m[INFO]: Avoiding saving 80.jpg: already in the destination folder ...\u001b[0m\n"
     ]
    },
    {
     "name": "stderr",
     "output_type": "stream",
     "text": [
      " 82%|████████▏ | 1093/1337 [02:14<01:02,  3.91it/s]"
     ]
    },
    {
     "name": "stdout",
     "output_type": "stream",
     "text": [
      "\u001b[93m[INFO]: Avoiding saving 5.jpg: already in the destination folder ...\u001b[0m\n",
      "\u001b[93m[INFO]: Avoiding saving 00126image.jpg: already in the destination folder ...\u001b[0m\n",
      "\u001b[93m[INFO]: Avoiding saving 00126image.jpg: already in the destination folder ...\u001b[0m\n",
      "\u001b[93m[INFO]: Avoiding saving 00126image.jpg: already in the destination folder ...\u001b[0m\n",
      "\u001b[93m[INFO]: Avoiding saving 00088image.jpg: already in the destination folder ...\u001b[0m\n"
     ]
    },
    {
     "name": "stderr",
     "output_type": "stream",
     "text": [
      " 82%|████████▏ | 1095/1337 [02:14<00:50,  4.81it/s]"
     ]
    },
    {
     "name": "stdout",
     "output_type": "stream",
     "text": [
      "\u001b[93m[INFO]: Avoiding saving 7.jpg: already in the destination folder ...\u001b[0m\n",
      "\u001b[93m[INFO]: Avoiding saving 7.jpg: already in the destination folder ...\u001b[0m\n"
     ]
    },
    {
     "name": "stderr",
     "output_type": "stream",
     "text": [
      " 82%|████████▏ | 1098/1337 [02:15<00:50,  4.74it/s]"
     ]
    },
    {
     "name": "stdout",
     "output_type": "stream",
     "text": [
      "\u001b[93m[INFO]: Avoiding saving 69.jpg: already in the destination folder ...\u001b[0m\n",
      "\u001b[93m[INFO]: Avoiding saving 69.jpg: already in the destination folder ...\u001b[0m\n",
      "\u001b[93m[INFO]: Avoiding saving 69.jpg: already in the destination folder ...\u001b[0m\n",
      "\u001b[93m[INFO]: Avoiding saving 69.jpg: already in the destination folder ...\u001b[0m\n",
      "\u001b[93m[INFO]: Avoiding saving 00097mask.jpg: already in the destination folder ...\u001b[0m\n",
      "\u001b[93m[INFO]: Avoiding saving 00097mask.jpg: already in the destination folder ...\u001b[0m\n",
      "\u001b[93m[INFO]: Avoiding saving 00097mask.jpg: already in the destination folder ...\u001b[0m\n"
     ]
    },
    {
     "name": "stderr",
     "output_type": "stream",
     "text": [
      " 82%|████████▏ | 1102/1337 [02:15<00:30,  7.67it/s]"
     ]
    },
    {
     "name": "stdout",
     "output_type": "stream",
     "text": [
      "\u001b[93m[INFO]: Avoiding saving 96.jpg: already in the destination folder ...\u001b[0m\n",
      "\u001b[93m[INFO]: Avoiding saving 00299mask.jpg: already in the destination folder ...\u001b[0m\n",
      "\u001b[93m[INFO]: Avoiding saving 00299mask.jpg: already in the destination folder ...\u001b[0m\n",
      "\u001b[93m[INFO]: Avoiding saving 00299mask.jpg: already in the destination folder ...\u001b[0m\n"
     ]
    },
    {
     "name": "stderr",
     "output_type": "stream",
     "text": [
      " 83%|████████▎ | 1104/1337 [02:15<00:28,  8.15it/s]"
     ]
    },
    {
     "name": "stdout",
     "output_type": "stream",
     "text": [
      "\u001b[93m[INFO]: Avoiding saving 00289mask.jpg: already in the destination folder ...\u001b[0m\n",
      "\u001b[93m[INFO]: Avoiding saving 00289mask.jpg: already in the destination folder ...\u001b[0m\n"
     ]
    },
    {
     "name": "stderr",
     "output_type": "stream",
     "text": [
      " 83%|████████▎ | 1109/1337 [02:16<00:20, 11.29it/s]"
     ]
    },
    {
     "name": "stdout",
     "output_type": "stream",
     "text": [
      "\u001b[93m[INFO]: Avoiding saving 00230mask.jpg: already in the destination folder ...\u001b[0m\n",
      "\u001b[93m[INFO]: Avoiding saving 00262pic.jpg: already in the destination folder ...\u001b[0m\n"
     ]
    },
    {
     "name": "stderr",
     "output_type": "stream",
     "text": [
      " 83%|████████▎ | 1115/1337 [02:16<00:18, 12.16it/s]"
     ]
    },
    {
     "name": "stdout",
     "output_type": "stream",
     "text": [
      "\u001b[93m[INFO]: Avoiding saving 55.png: already in the destination folder ...\u001b[0m\n",
      "\u001b[93m[INFO]: Avoiding saving 00146mask.jpg: already in the destination folder ...\u001b[0m\n",
      "\u001b[93m[INFO]: Avoiding saving mask戴口罩_47.jpg: already in the destination folder ...\u001b[0m\n"
     ]
    },
    {
     "name": "stderr",
     "output_type": "stream",
     "text": [
      " 84%|████████▍ | 1121/1337 [02:17<00:12, 17.70it/s]"
     ]
    },
    {
     "name": "stdout",
     "output_type": "stream",
     "text": [
      "\u001b[93m[INFO]: Avoiding saving 00051mask.webp: already in the destination folder ...\u001b[0m\n",
      "\u001b[93m[INFO]: Avoiding saving 00156mask.jpg: already in the destination folder ...\u001b[0m\n",
      "\u001b[93m[INFO]: Avoiding saving 00124mask.jpg: already in the destination folder ...\u001b[0m\n",
      "\u001b[93m[INFO]: Avoiding saving 00134mask.jpg: already in the destination folder ...\u001b[0m\n",
      "\u001b[93m[INFO]: Avoiding saving 00313pic.jpg: already in the destination folder ...\u001b[0m\n",
      "\u001b[93m[INFO]: Avoiding saving 00052image.png: already in the destination folder ...\u001b[0m\n",
      "\u001b[93m[INFO]: Avoiding saving 00242mask.jpg: already in the destination folder ...\u001b[0m\n",
      "\u001b[93m[INFO]: Avoiding saving 00242mask.jpg: already in the destination folder ...\u001b[0m\n",
      "\u001b[93m[INFO]: Avoiding saving 00242mask.jpg: already in the destination folder ...\u001b[0m\n"
     ]
    },
    {
     "name": "stderr",
     "output_type": "stream",
     "text": [
      " 84%|████████▍ | 1124/1337 [02:17<00:26,  8.06it/s]"
     ]
    },
    {
     "name": "stdout",
     "output_type": "stream",
     "text": [
      "\u001b[93m[INFO]: Avoiding saving 00053image.png: already in the destination folder ...\u001b[0m\n",
      "\u001b[93m[INFO]: Avoiding saving 00053image.png: already in the destination folder ...\u001b[0m\n",
      "\u001b[93m[INFO]: Avoiding saving 00252mask.jpg: already in the destination folder ...\u001b[0m\n"
     ]
    },
    {
     "name": "stderr",
     "output_type": "stream",
     "text": [
      " 84%|████████▍ | 1126/1337 [02:18<00:25,  8.19it/s]"
     ]
    },
    {
     "name": "stdout",
     "output_type": "stream",
     "text": [
      "\u001b[93m[INFO]: Avoiding saving 00235image.jpg: already in the destination folder ...\u001b[0m\n",
      "\u001b[93m[INFO]: Avoiding saving 00270pic.jpg: already in the destination folder ...\u001b[0m\n"
     ]
    },
    {
     "name": "stderr",
     "output_type": "stream",
     "text": [
      " 85%|████████▍ | 1132/1337 [02:18<00:19, 10.70it/s]"
     ]
    },
    {
     "name": "stdout",
     "output_type": "stream",
     "text": [
      "\u001b[93m[INFO]: Avoiding saving 24.jpeg: already in the destination folder ...\u001b[0m\n",
      "\u001b[93m[INFO]: Avoiding saving 00001mask.jpg: already in the destination folder ...\u001b[0m\n",
      "\u001b[93m[INFO]: Avoiding saving 00179mask.jpg: already in the destination folder ...\u001b[0m\n",
      "\u001b[93m[INFO]: Avoiding saving 00258pic.jpg: already in the destination folder ...\u001b[0m\n"
     ]
    },
    {
     "name": "stderr",
     "output_type": "stream",
     "text": [
      " 85%|████████▍ | 1136/1337 [02:18<00:16, 12.49it/s]"
     ]
    },
    {
     "name": "stdout",
     "output_type": "stream",
     "text": [
      "\u001b[93m[INFO]: Avoiding saving 00011mask.jpg: already in the destination folder ...\u001b[0m\n",
      "\u001b[93m[INFO]: Avoiding saving 00042pic.webp: already in the destination folder ...\u001b[0m\n",
      "\u001b[93m[INFO]: Avoiding saving 00042pic.webp: already in the destination folder ...\u001b[0m\n",
      "\u001b[93m[INFO]: Avoiding saving 00042pic.webp: already in the destination folder ...\u001b[0m\n"
     ]
    },
    {
     "name": "stderr",
     "output_type": "stream",
     "text": [
      " 85%|████████▌ | 1140/1337 [02:19<00:14, 13.23it/s]"
     ]
    },
    {
     "name": "stdout",
     "output_type": "stream",
     "text": [
      "\u001b[93m[INFO]: Avoiding saving 00325pic.jpg: already in the destination folder ...\u001b[0m\n",
      "\u001b[93m[INFO]: Avoiding saving 00192pic.jpg: already in the destination folder ...\u001b[0m\n",
      "\u001b[93m[INFO]: Avoiding saving 00225pic.jpg: already in the destination folder ...\u001b[0m\n",
      "\u001b[93m[INFO]: Avoiding saving 00225pic.jpg: already in the destination folder ...\u001b[0m\n",
      "\u001b[93m[INFO]: Avoiding saving 00092pic.jpg: already in the destination folder ...\u001b[0m\n",
      "\u001b[93m[INFO]: Avoiding saving 00092pic.jpg: already in the destination folder ...\u001b[0m\n"
     ]
    },
    {
     "name": "stderr",
     "output_type": "stream",
     "text": [
      " 85%|████████▌ | 1142/1337 [02:19<00:13, 14.17it/s]"
     ]
    },
    {
     "name": "stdout",
     "output_type": "stream",
     "text": [
      "\u001b[93m[INFO]: Avoiding saving 00242image.jpg: already in the destination folder ...\u001b[0m\n",
      "\u001b[93m[INFO]: Avoiding saving 00242image.jpg: already in the destination folder ...\u001b[0m\n",
      "\u001b[93m[INFO]: Avoiding saving 00242image.jpg: already in the destination folder ...\u001b[0m\n",
      "\u001b[93m[INFO]: Avoiding saving mask戴口罩_155.jpg: already in the destination folder ...\u001b[0m\n",
      "\u001b[93m[INFO]: Avoiding saving mask戴口罩_155.jpg: already in the destination folder ...\u001b[0m\n"
     ]
    },
    {
     "name": "stderr",
     "output_type": "stream",
     "text": [
      " 86%|████████▌ | 1146/1337 [02:19<00:15, 12.73it/s]"
     ]
    },
    {
     "name": "stdout",
     "output_type": "stream",
     "text": [
      "\u001b[93m[INFO]: Avoiding saving 00024image.jpg: already in the destination folder ...\u001b[0m\n",
      "\u001b[93m[INFO]: Avoiding saving 00024image.jpg: already in the destination folder ...\u001b[0m\n",
      "\u001b[93m[INFO]: Avoiding saving 00024image.jpg: already in the destination folder ...\u001b[0m\n",
      "\u001b[93m[INFO]: Avoiding saving mask戴口罩_141.jpg: already in the destination folder ...\u001b[0m\n",
      "\u001b[93m[INFO]: Avoiding saving mask戴口罩_141.jpg: already in the destination folder ...\u001b[0m\n",
      "\u001b[93m[INFO]: Avoiding saving mask戴口罩_141.jpg: already in the destination folder ...\u001b[0m\n"
     ]
    },
    {
     "name": "stderr",
     "output_type": "stream",
     "text": [
      " 86%|████████▌ | 1148/1337 [02:19<00:16, 11.58it/s]"
     ]
    },
    {
     "name": "stdout",
     "output_type": "stream",
     "text": [
      "\u001b[93m[INFO]: Avoiding saving 00299image.jpg: already in the destination folder ...\u001b[0m\n",
      "\u001b[93m[INFO]: Avoiding saving 00299image.jpg: already in the destination folder ...\u001b[0m\n",
      "\u001b[93m[INFO]: Avoiding saving 00299image.jpg: already in the destination folder ...\u001b[0m\n",
      "\u001b[93m[INFO]: Avoiding saving 00298image.jpg: already in the destination folder ...\u001b[0m\n",
      "\u001b[93m[INFO]: Avoiding saving 00298image.jpg: already in the destination folder ...\u001b[0m\n",
      "\u001b[93m[INFO]: Avoiding saving 00298image.jpg: already in the destination folder ...\u001b[0m\n",
      "\u001b[93m[INFO]: Avoiding saving 00019pic.jpeg: already in the destination folder ...\u001b[0m\n"
     ]
    },
    {
     "name": "stderr",
     "output_type": "stream",
     "text": [
      " 86%|████████▌ | 1153/1337 [02:20<00:19,  9.54it/s]"
     ]
    },
    {
     "name": "stdout",
     "output_type": "stream",
     "text": [
      "\u001b[93m[INFO]: Avoiding saving 54.png: already in the destination folder ...\u001b[0m\n",
      "\u001b[93m[INFO]: Avoiding saving 54.png: already in the destination folder ...\u001b[0m\n",
      "\u001b[93m[INFO]: Avoiding saving 00165image.jpg: already in the destination folder ...\u001b[0m\n",
      "\u001b[93m[INFO]: Avoiding saving 00303image.jpg: already in the destination folder ...\u001b[0m\n",
      "\u001b[93m[INFO]: Avoiding saving 00303image.jpg: already in the destination folder ...\u001b[0m\n",
      "\u001b[93m[INFO]: Avoiding saving 00302image.jpg: already in the destination folder ...\u001b[0m\n",
      "\u001b[93m[INFO]: Avoiding saving 00164image.jpg: already in the destination folder ...\u001b[0m\n"
     ]
    },
    {
     "name": "stderr",
     "output_type": "stream",
     "text": [
      " 86%|████████▋ | 1156/1337 [02:20<00:15, 11.58it/s]"
     ]
    },
    {
     "name": "stdout",
     "output_type": "stream",
     "text": [
      "\u001b[93m[INFO]: Avoiding saving 00080pic.jpg: already in the destination folder ...\u001b[0m\n",
      "\u001b[93m[INFO]: Avoiding saving 00080pic.jpg: already in the destination folder ...\u001b[0m\n",
      "\u001b[93m[INFO]: Avoiding saving 00254pic.jpg: already in the destination folder ...\u001b[0m\n"
     ]
    },
    {
     "name": "stderr",
     "output_type": "stream",
     "text": [
      " 87%|████████▋ | 1161/1337 [02:20<00:13, 12.82it/s]"
     ]
    },
    {
     "name": "stdout",
     "output_type": "stream",
     "text": [
      "\u001b[93m[INFO]: Avoiding saving 00305mask.jpg: already in the destination folder ...\u001b[0m\n",
      "\u001b[93m[INFO]: Avoiding saving 00305mask.jpg: already in the destination folder ...\u001b[0m\n",
      "\u001b[93m[INFO]: Avoiding saving 00305mask.jpg: already in the destination folder ...\u001b[0m\n",
      "\u001b[93m[INFO]: Avoiding saving 1582378580.jpg: already in the destination folder ...\u001b[0m\n"
     ]
    },
    {
     "name": "stderr",
     "output_type": "stream",
     "text": [
      " 87%|████████▋ | 1163/1337 [02:21<00:13, 12.56it/s]"
     ]
    },
    {
     "name": "stdout",
     "output_type": "stream",
     "text": [
      "\u001b[93m[INFO]: Avoiding saving 97.jpg: already in the destination folder ...\u001b[0m\n"
     ]
    },
    {
     "name": "stderr",
     "output_type": "stream",
     "text": [
      " 87%|████████▋ | 1165/1337 [02:21<00:23,  7.45it/s]"
     ]
    },
    {
     "name": "stdout",
     "output_type": "stream",
     "text": [
      "\u001b[93m[INFO]: Avoiding saving 00063mask.jpg: already in the destination folder ...\u001b[0m\n"
     ]
    },
    {
     "name": "stderr",
     "output_type": "stream",
     "text": [
      " 87%|████████▋ | 1167/1337 [02:22<00:29,  5.83it/s]"
     ]
    },
    {
     "name": "stdout",
     "output_type": "stream",
     "text": [
      "\u001b[93m[INFO]: Avoiding saving 68.jpg: already in the destination folder ...\u001b[0m\n"
     ]
    },
    {
     "name": "stderr",
     "output_type": "stream",
     "text": [
      " 87%|████████▋ | 1169/1337 [02:22<00:30,  5.55it/s]"
     ]
    },
    {
     "name": "stdout",
     "output_type": "stream",
     "text": [
      "\u001b[93m[INFO]: Avoiding saving 00073mask.jpg: already in the destination folder ...\u001b[0m\n",
      "\u001b[93m[INFO]: Avoiding saving 00073mask.jpg: already in the destination folder ...\u001b[0m\n",
      "\u001b[93m[INFO]: Avoiding saving 00073mask.jpg: already in the destination folder ...\u001b[0m\n",
      "\u001b[93m[INFO]: Avoiding saving 00073mask.jpg: already in the destination folder ...\u001b[0m\n",
      "\u001b[93m[INFO]: Avoiding saving 00073mask.jpg: already in the destination folder ...\u001b[0m\n",
      "\u001b[93m[INFO]: Avoiding saving 00073mask.jpg: already in the destination folder ...\u001b[0m\n",
      "\u001b[93m[INFO]: Avoiding saving 00073mask.jpg: already in the destination folder ...\u001b[0m\n",
      "\u001b[93m[INFO]: Avoiding saving 00073mask.jpg: already in the destination folder ...\u001b[0m\n"
     ]
    },
    {
     "name": "stderr",
     "output_type": "stream",
     "text": [
      " 88%|████████▊ | 1172/1337 [02:22<00:20,  8.01it/s]"
     ]
    },
    {
     "name": "stdout",
     "output_type": "stream",
     "text": [
      "\u001b[93m[INFO]: Avoiding saving 00027mask.webp: already in the destination folder ...\u001b[0m\n",
      "\u001b[93m[INFO]: Avoiding saving 6.jpg: already in the destination folder ...\u001b[0m\n"
     ]
    },
    {
     "name": "stderr",
     "output_type": "stream",
     "text": [
      " 88%|████████▊ | 1175/1337 [02:23<00:22,  7.22it/s]"
     ]
    },
    {
     "name": "stdout",
     "output_type": "stream",
     "text": [
      "\u001b[93m[INFO]: Avoiding saving 00026mask.webp: already in the destination folder ...\u001b[0m\n",
      "\u001b[93m[INFO]: Avoiding saving 00026mask.webp: already in the destination folder ...\u001b[0m\n",
      "\u001b[93m[INFO]: Avoiding saving 00026mask.webp: already in the destination folder ...\u001b[0m\n",
      "\u001b[93m[INFO]: Avoiding saving 00026mask.webp: already in the destination folder ...\u001b[0m\n",
      "\u001b[93m[INFO]: Avoiding saving 00026mask.webp: already in the destination folder ...\u001b[0m\n",
      "\u001b[93m[INFO]: Avoiding saving 00272pic.jpg: already in the destination folder ...\u001b[0m\n"
     ]
    },
    {
     "name": "stderr",
     "output_type": "stream",
     "text": [
      " 88%|████████▊ | 1180/1337 [02:23<00:13, 11.65it/s]"
     ]
    },
    {
     "name": "stdout",
     "output_type": "stream",
     "text": [
      "\u001b[93m[INFO]: Avoiding saving 2.jpg: already in the destination folder ...\u001b[0m\n",
      "\u001b[93m[INFO]: Avoiding saving 00157mask.jpg: already in the destination folder ...\u001b[0m\n",
      "\u001b[93m[INFO]: Avoiding saving 00147mask.jpg: already in the destination folder ...\u001b[0m\n",
      "\u001b[93m[INFO]: Avoiding saving 00095image.jpg: already in the destination folder ...\u001b[0m\n"
     ]
    },
    {
     "name": "stderr",
     "output_type": "stream",
     "text": [
      " 89%|████████▉ | 1187/1337 [02:24<00:10, 13.84it/s]"
     ]
    },
    {
     "name": "stdout",
     "output_type": "stream",
     "text": [
      "\u001b[93m[INFO]: Avoiding saving 93.jpg: already in the destination folder ...\u001b[0m\n",
      "\u001b[93m[INFO]: Avoiding saving 93.jpg: already in the destination folder ...\u001b[0m\n",
      "\u001b[93m[INFO]: Avoiding saving 00094image.jpg: already in the destination folder ...\u001b[0m\n",
      "\u001b[93m[INFO]: Avoiding saving 87.jpg: already in the destination folder ...\u001b[0m\n"
     ]
    },
    {
     "name": "stderr",
     "output_type": "stream",
     "text": [
      " 89%|████████▉ | 1191/1337 [02:24<00:10, 14.17it/s]"
     ]
    },
    {
     "name": "stdout",
     "output_type": "stream",
     "text": [
      "\u001b[93m[INFO]: Avoiding saving mask戴口罩_81.jpg: already in the destination folder ...\u001b[0m\n",
      "\u001b[93m[INFO]: Avoiding saving mask戴口罩_81.jpg: already in the destination folder ...\u001b[0m\n",
      "\u001b[93m[INFO]: Avoiding saving 00096mask.jpg: already in the destination folder ...\u001b[0m\n",
      "\u001b[93m[INFO]: Avoiding saving 00086mask.jpg: already in the destination folder ...\u001b[0m\n",
      "\u001b[93m[INFO]: Avoiding saving mask戴口罩_95.jpg: already in the destination folder ...\u001b[0m\n"
     ]
    },
    {
     "name": "stderr",
     "output_type": "stream",
     "text": [
      " 89%|████████▉ | 1195/1337 [02:24<00:10, 12.92it/s]"
     ]
    },
    {
     "name": "stdout",
     "output_type": "stream",
     "text": [
      "\u001b[93m[INFO]: Avoiding saving 00261image.jpg: already in the destination folder ...\u001b[0m\n",
      "\u001b[93m[INFO]: Avoiding saving 00006image.jpg: already in the destination folder ...\u001b[0m\n",
      "\u001b[93m[INFO]: Avoiding saving 00006image.jpg: already in the destination folder ...\u001b[0m\n"
     ]
    },
    {
     "name": "stderr",
     "output_type": "stream",
     "text": [
      " 90%|████████▉ | 1198/1337 [02:24<00:09, 13.91it/s]"
     ]
    },
    {
     "name": "stdout",
     "output_type": "stream",
     "text": [
      "\u001b[93m[INFO]: Avoiding saving mask戴口罩_56.jpg: already in the destination folder ...\u001b[0m\n",
      "\u001b[93m[INFO]: Avoiding saving 00288mask.jpg: already in the destination folder ...\u001b[0m\n"
     ]
    },
    {
     "name": "stderr",
     "output_type": "stream",
     "text": [
      " 90%|█████████ | 1204/1337 [02:25<00:07, 18.49it/s]"
     ]
    },
    {
     "name": "stdout",
     "output_type": "stream",
     "text": [
      "\u001b[93m[INFO]: Avoiding saving 00298mask.jpg: already in the destination folder ...\u001b[0m\n",
      "\u001b[93m[INFO]: Avoiding saving 00298mask.jpg: already in the destination folder ...\u001b[0m\n",
      "\u001b[93m[INFO]: Avoiding saving 00298mask.jpg: already in the destination folder ...\u001b[0m\n",
      "\u001b[93m[INFO]: Avoiding saving 00211pic.jpg: already in the destination folder ...\u001b[0m\n",
      "\u001b[93m[INFO]: Avoiding saving mask戴口罩_192.jpg: already in the destination folder ...\u001b[0m\n",
      "\u001b[93m[INFO]: Avoiding saving 00146image.jpg: already in the destination folder ...\u001b[0m\n",
      "\u001b[93m[INFO]: Avoiding saving 00320image.jpg: already in the destination folder ...\u001b[0m\n"
     ]
    },
    {
     "name": "stderr",
     "output_type": "stream",
     "text": [
      " 91%|█████████ | 1211/1337 [02:25<00:05, 21.26it/s]"
     ]
    },
    {
     "name": "stdout",
     "output_type": "stream",
     "text": [
      "\u001b[93m[INFO]: Avoiding saving 00321image.jpg: already in the destination folder ...\u001b[0m\n",
      "\u001b[93m[INFO]: Avoiding saving 00321image.jpg: already in the destination folder ...\u001b[0m\n",
      "\u001b[93m[INFO]: Avoiding saving 00321image.jpg: already in the destination folder ...\u001b[0m\n",
      "\u001b[93m[INFO]: Avoiding saving 00147image.jpg: already in the destination folder ...\u001b[0m\n",
      "\u001b[93m[INFO]: Avoiding saving 00135mask.jpg: already in the destination folder ...\u001b[0m\n",
      "\u001b[93m[INFO]: Avoiding saving 00125mask.jpg: already in the destination folder ...\u001b[0m\n",
      "\u001b[93m[INFO]: Avoiding saving 00253mask.jpg: already in the destination folder ...\u001b[0m\n"
     ]
    },
    {
     "name": "stderr",
     "output_type": "stream",
     "text": [
      " 91%|█████████ | 1218/1337 [02:25<00:05, 23.46it/s]"
     ]
    },
    {
     "name": "stdout",
     "output_type": "stream",
     "text": [
      "\u001b[93m[INFO]: Avoiding saving 00203pic.jpg: already in the destination folder ...\u001b[0m\n",
      "\u001b[93m[INFO]: Avoiding saving 00303pic.jpg: already in the destination folder ...\u001b[0m\n",
      "\u001b[93m[INFO]: Avoiding saving 00303pic.jpg: already in the destination folder ...\u001b[0m\n"
     ]
    },
    {
     "name": "stderr",
     "output_type": "stream",
     "text": [
      " 91%|█████████▏| 1223/1337 [02:26<00:06, 17.40it/s]"
     ]
    },
    {
     "name": "stdout",
     "output_type": "stream",
     "text": [
      "\u001b[93m[INFO]: Avoiding saving 00130image.jpg: already in the destination folder ...\u001b[0m\n",
      "\u001b[93m[INFO]: Avoiding saving 00010mask.jpg: already in the destination folder ...\u001b[0m\n"
     ]
    },
    {
     "name": "stderr",
     "output_type": "stream",
     "text": [
      " 92%|█████████▏| 1226/1337 [02:26<00:06, 16.87it/s]"
     ]
    },
    {
     "name": "stdout",
     "output_type": "stream",
     "text": [
      "\u001b[93m[INFO]: Avoiding saving mask戴口罩_144.jpg: already in the destination folder ...\u001b[0m\n"
     ]
    },
    {
     "name": "stderr",
     "output_type": "stream",
     "text": [
      " 92%|█████████▏| 1231/1337 [02:26<00:06, 15.52it/s]"
     ]
    },
    {
     "name": "stdout",
     "output_type": "stream",
     "text": [
      "\u001b[93m[INFO]: Avoiding saving 00235pic.jpg: already in the destination folder ...\u001b[0m\n",
      "\u001b[93m[INFO]: Avoiding saving mask戴口罩_193.jpg: already in the destination folder ...\u001b[0m\n"
     ]
    },
    {
     "name": "stderr",
     "output_type": "stream",
     "text": [
      " 92%|█████████▏| 1233/1337 [02:26<00:06, 15.78it/s]"
     ]
    },
    {
     "name": "stdout",
     "output_type": "stream",
     "text": [
      "\u001b[93m[INFO]: Avoiding saving 00182pic.jpg: already in the destination folder ...\u001b[0m\n"
     ]
    },
    {
     "name": "stderr",
     "output_type": "stream",
     "text": [
      " 92%|█████████▏| 1236/1337 [02:26<00:05, 16.92it/s]"
     ]
    },
    {
     "name": "stdout",
     "output_type": "stream",
     "text": [
      "\u001b[93m[INFO]: Avoiding saving 00314mask.jpg: already in the destination folder ...\u001b[0m\n",
      "\u001b[93m[INFO]: Avoiding saving 00304mask.jpg: already in the destination folder ...\u001b[0m\n"
     ]
    },
    {
     "name": "stderr",
     "output_type": "stream",
     "text": [
      " 93%|█████████▎| 1241/1337 [02:27<00:06, 14.39it/s]"
     ]
    },
    {
     "name": "stdout",
     "output_type": "stream",
     "text": [
      "\u001b[93m[INFO]: Avoiding saving mask戴口罩_57.jpg: already in the destination folder ...\u001b[0m\n",
      "\u001b[93m[INFO]: Avoiding saving 00244pic.jpg: already in the destination folder ...\u001b[0m\n",
      "\u001b[93m[INFO]: Avoiding saving 00244pic.jpg: already in the destination folder ...\u001b[0m\n",
      "\u001b[93m[INFO]: Avoiding saving 00244pic.jpg: already in the destination folder ...\u001b[0m\n",
      "\u001b[93m[INFO]: Avoiding saving 00179image.jpg: already in the destination folder ...\u001b[0m\n"
     ]
    },
    {
     "name": "stderr",
     "output_type": "stream",
     "text": [
      " 93%|█████████▎| 1244/1337 [02:27<00:06, 15.16it/s]"
     ]
    },
    {
     "name": "stdout",
     "output_type": "stream",
     "text": [
      "\u001b[93m[INFO]: Avoiding saving 00284image.jpg: already in the destination folder ...\u001b[0m\n"
     ]
    },
    {
     "name": "stderr",
     "output_type": "stream",
     "text": [
      " 93%|█████████▎| 1246/1337 [02:27<00:08, 11.13it/s]"
     ]
    },
    {
     "name": "stdout",
     "output_type": "stream",
     "text": [
      "\u001b[93m[INFO]: Avoiding saving 00072mask.jpg: already in the destination folder ...\u001b[0m\n",
      "\u001b[93m[INFO]: Avoiding saving mask戴口罩_80.jpg: already in the destination folder ...\u001b[0m\n"
     ]
    },
    {
     "name": "stderr",
     "output_type": "stream",
     "text": [
      " 93%|█████████▎| 1249/1337 [02:30<00:28,  3.08it/s]"
     ]
    },
    {
     "name": "stdout",
     "output_type": "stream",
     "text": [
      "\u001b[93m[INFO]: Avoiding saving 00062mask.jpg: already in the destination folder ...\u001b[0m\n",
      "\u001b[93m[INFO]: Avoiding saving 00062mask.jpg: already in the destination folder ...\u001b[0m\n",
      "\u001b[93m[INFO]: Avoiding saving 00285image.jpg: already in the destination folder ...\u001b[0m\n",
      "\u001b[93m[INFO]: Avoiding saving 00285image.jpg: already in the destination folder ...\u001b[0m\n"
     ]
    },
    {
     "name": "stderr",
     "output_type": "stream",
     "text": [
      " 94%|█████████▎| 1251/1337 [02:30<00:21,  3.95it/s]"
     ]
    },
    {
     "name": "stdout",
     "output_type": "stream",
     "text": [
      "\u001b[93m[INFO]: Avoiding saving 92.jpg: already in the destination folder ...\u001b[0m\n"
     ]
    },
    {
     "name": "stderr",
     "output_type": "stream",
     "text": [
      " 94%|█████████▎| 1253/1337 [02:30<00:20,  4.17it/s]"
     ]
    },
    {
     "name": "stdout",
     "output_type": "stream",
     "text": [
      "\u001b[93m[INFO]: Avoiding saving 00070image.jpg: already in the destination folder ...\u001b[0m\n",
      "\u001b[93m[INFO]: Avoiding saving 00070image.jpg: already in the destination folder ...\u001b[0m\n",
      "\u001b[93m[INFO]: Avoiding saving 00070image.jpg: already in the destination folder ...\u001b[0m\n",
      "\u001b[93m[INFO]: Avoiding saving 00070image.jpg: already in the destination folder ...\u001b[0m\n",
      "\u001b[93m[INFO]: Avoiding saving 00216image.jpg: already in the destination folder ...\u001b[0m\n"
     ]
    },
    {
     "name": "stderr",
     "output_type": "stream",
     "text": [
      " 94%|█████████▍| 1256/1337 [02:31<00:15,  5.18it/s]"
     ]
    },
    {
     "name": "stdout",
     "output_type": "stream",
     "text": [
      "\u001b[93m[INFO]: Avoiding saving 00029image.webp: already in the destination folder ...\u001b[0m\n"
     ]
    },
    {
     "name": "stderr",
     "output_type": "stream",
     "text": [
      " 94%|█████████▍| 1259/1337 [02:31<00:13,  5.83it/s]"
     ]
    },
    {
     "name": "stdout",
     "output_type": "stream",
     "text": [
      "\u001b[93m[INFO]: Avoiding saving 00071image.jpg: already in the destination folder ...\u001b[0m\n",
      "\u001b[93m[INFO]: Avoiding saving 00071image.jpg: already in the destination folder ...\u001b[0m\n",
      "\u001b[93m[INFO]: Avoiding saving 00190pic.jpg: already in the destination folder ...\u001b[0m\n",
      "\u001b[93m[INFO]: Avoiding saving 00227pic.jpg: already in the destination folder ...\u001b[0m\n"
     ]
    },
    {
     "name": "stderr",
     "output_type": "stream",
     "text": [
      " 94%|█████████▍| 1263/1337 [02:32<00:09,  7.55it/s]"
     ]
    },
    {
     "name": "stdout",
     "output_type": "stream",
     "text": [
      "\u001b[93m[INFO]: Avoiding saving 3.jpg: already in the destination folder ...\u001b[0m\n",
      "\u001b[93m[INFO]: Avoiding saving 3.jpg: already in the destination folder ...\u001b[0m\n",
      "\u001b[93m[INFO]: Avoiding saving 00090pic.jpg: already in the destination folder ...\u001b[0m\n",
      "\u001b[93m[INFO]: Avoiding saving 79.jpg: already in the destination folder ...\u001b[0m\n",
      "\u001b[93m[INFO]: Avoiding saving 79.jpg: already in the destination folder ...\u001b[0m\n"
     ]
    },
    {
     "name": "stderr",
     "output_type": "stream",
     "text": [
      " 95%|█████████▍| 1266/1337 [02:32<00:06, 10.30it/s]"
     ]
    },
    {
     "name": "stdout",
     "output_type": "stream",
     "text": [
      "\u001b[93m[INFO]: Avoiding saving 00147pic.jpg: already in the destination folder ...\u001b[0m\n",
      "\u001b[93m[INFO]: Avoiding saving 00222image.jpg: already in the destination folder ...\u001b[0m\n"
     ]
    },
    {
     "name": "stderr",
     "output_type": "stream",
     "text": [
      " 95%|█████████▍| 1270/1337 [02:32<00:05, 11.72it/s]"
     ]
    },
    {
     "name": "stdout",
     "output_type": "stream",
     "text": [
      "\u001b[93m[INFO]: Avoiding saving 00195mask.jpg: already in the destination folder ...\u001b[0m\n"
     ]
    },
    {
     "name": "stderr",
     "output_type": "stream",
     "text": [
      " 95%|█████████▌| 1274/1337 [02:33<00:06,  9.71it/s]"
     ]
    },
    {
     "name": "stdout",
     "output_type": "stream",
     "text": [
      "\u001b[93m[INFO]: Avoiding saving 00054mask.png: already in the destination folder ...\u001b[0m\n",
      "\u001b[93m[INFO]: Avoiding saving 00159pic.jpg: already in the destination folder ...\u001b[0m\n"
     ]
    },
    {
     "name": "stderr",
     "output_type": "stream",
     "text": [
      " 96%|█████████▌| 1278/1337 [02:33<00:09,  6.33it/s]"
     ]
    },
    {
     "name": "stdout",
     "output_type": "stream",
     "text": [
      "\u001b[93m[INFO]: Avoiding saving 00059pic.jpg: already in the destination folder ...\u001b[0m\n",
      "\u001b[93m[INFO]: Avoiding saving 00059pic.jpg: already in the destination folder ...\u001b[0m\n",
      "\u001b[93m[INFO]: Avoiding saving 00059pic.jpg: already in the destination folder ...\u001b[0m\n",
      "\u001b[93m[INFO]: Avoiding saving 00059pic.jpg: already in the destination folder ...\u001b[0m\n",
      "\u001b[93m[INFO]: Avoiding saving 00059pic.jpg: already in the destination folder ...\u001b[0m\n",
      "\u001b[93m[INFO]: Avoiding saving 00322mask.jpg: already in the destination folder ...\u001b[0m\n",
      "\u001b[93m[INFO]: Avoiding saving mask戴口罩_41.jpg: already in the destination folder ...\u001b[0m\n"
     ]
    },
    {
     "name": "stderr",
     "output_type": "stream",
     "text": [
      " 96%|█████████▌| 1280/1337 [02:34<00:09,  6.01it/s]"
     ]
    },
    {
     "name": "stdout",
     "output_type": "stream",
     "text": [
      "\u001b[93m[INFO]: Avoiding saving 53.png: already in the destination folder ...\u001b[0m\n",
      "\u001b[93m[INFO]: Avoiding saving mask戴口罩_69.jpg: already in the destination folder ...\u001b[0m\n",
      "\u001b[93m[INFO]: Avoiding saving mask戴口罩_69.jpg: already in the destination folder ...\u001b[0m\n",
      "\u001b[93m[INFO]: Avoiding saving mask戴口罩_69.jpg: already in the destination folder ...\u001b[0m\n",
      "\u001b[93m[INFO]: Avoiding saving mask戴口罩_69.jpg: already in the destination folder ...\u001b[0m\n",
      "\u001b[93m[INFO]: Avoiding saving 00124pic.jpg: already in the destination folder ...\u001b[0m\n"
     ]
    },
    {
     "name": "stderr",
     "output_type": "stream",
     "text": [
      " 96%|█████████▋| 1288/1337 [02:34<00:03, 13.01it/s]"
     ]
    },
    {
     "name": "stdout",
     "output_type": "stream",
     "text": [
      "\u001b[93m[INFO]: Avoiding saving 00024pic.jpg: already in the destination folder ...\u001b[0m\n",
      "\u001b[93m[INFO]: Avoiding saving 00024pic.jpg: already in the destination folder ...\u001b[0m\n",
      "\u001b[93m[INFO]: Avoiding saving 00024pic.jpg: already in the destination folder ...\u001b[0m\n",
      "\u001b[93m[INFO]: Avoiding saving 00155pic.jpg: already in the destination folder ...\u001b[0m\n"
     ]
    },
    {
     "name": "stderr",
     "output_type": "stream",
     "text": [
      " 97%|█████████▋| 1291/1337 [02:34<00:02, 15.38it/s]"
     ]
    },
    {
     "name": "stdout",
     "output_type": "stream",
     "text": [
      "\u001b[93m[INFO]: Avoiding saving mask戴口罩_185.jpg: already in the destination folder ...\u001b[0m\n",
      "\u001b[93m[INFO]: Avoiding saving 00128pic.jpg: already in the destination folder ...\u001b[0m\n"
     ]
    },
    {
     "name": "stderr",
     "output_type": "stream",
     "text": [
      " 97%|█████████▋| 1296/1337 [02:35<00:02, 14.50it/s]"
     ]
    },
    {
     "name": "stdout",
     "output_type": "stream",
     "text": [
      "\u001b[93m[INFO]: Avoiding saving mask戴口罩_152.jpg: already in the destination folder ...\u001b[0m\n",
      "\u001b[93m[INFO]: Avoiding saving mask戴口罩_146.jpg: already in the destination folder ...\u001b[0m\n",
      "\u001b[93m[INFO]: Avoiding saving mask戴口罩_146.jpg: already in the destination folder ...\u001b[0m\n"
     ]
    },
    {
     "name": "stderr",
     "output_type": "stream",
     "text": [
      " 97%|█████████▋| 1300/1337 [02:35<00:03, 11.95it/s]"
     ]
    },
    {
     "name": "stdout",
     "output_type": "stream",
     "text": [
      "\u001b[93m[INFO]: Avoiding saving 00055pic.png: already in the destination folder ...\u001b[0m\n",
      "\u001b[93m[INFO]: Avoiding saving 00291mask.jpg: already in the destination folder ...\u001b[0m\n",
      "\u001b[93m[INFO]: Avoiding saving 00281pic.jpg: already in the destination folder ...\u001b[0m\n",
      "\u001b[93m[INFO]: Avoiding saving 00281pic.jpg: already in the destination folder ...\u001b[0m\n"
     ]
    },
    {
     "name": "stderr",
     "output_type": "stream",
     "text": [
      " 97%|█████████▋| 1303/1337 [02:35<00:02, 14.15it/s]"
     ]
    },
    {
     "name": "stdout",
     "output_type": "stream",
     "text": [
      "\u001b[93m[INFO]: Avoiding saving 00136pic.jpg: already in the destination folder ...\u001b[0m\n",
      "\u001b[93m[INFO]: Avoiding saving 00281mask.jpg: already in the destination folder ...\u001b[0m\n",
      "\u001b[93m[INFO]: Avoiding saving 00281mask.jpg: already in the destination folder ...\u001b[0m\n"
     ]
    },
    {
     "name": "stderr",
     "output_type": "stream",
     "text": [
      " 98%|█████████▊| 1305/1337 [02:36<00:02, 13.13it/s]"
     ]
    },
    {
     "name": "stdout",
     "output_type": "stream",
     "text": [
      "\u001b[93m[INFO]: Avoiding saving 00275mask.jpg: already in the destination folder ...\u001b[0m\n",
      "\u001b[93m[INFO]: Avoiding saving 00265mask.jpg: already in the destination folder ...\u001b[0m\n",
      "\u001b[93m[INFO]: Avoiding saving 00028pic.webp: already in the destination folder ...\u001b[0m\n",
      "\u001b[93m[INFO]: Avoiding saving 00028pic.webp: already in the destination folder ...\u001b[0m\n",
      "\u001b[93m[INFO]: Avoiding saving 00028pic.webp: already in the destination folder ...\u001b[0m\n"
     ]
    },
    {
     "name": "stderr",
     "output_type": "stream",
     "text": [
      " 98%|█████████▊| 1309/1337 [02:37<00:04,  6.81it/s]"
     ]
    },
    {
     "name": "stdout",
     "output_type": "stream",
     "text": [
      "\u001b[93m[INFO]: Avoiding saving 00063pic.jpg: already in the destination folder ...\u001b[0m\n",
      "\u001b[93m[INFO]: Avoiding saving 00163pic.jpg: already in the destination folder ...\u001b[0m\n"
     ]
    },
    {
     "name": "stderr",
     "output_type": "stream",
     "text": [
      " 98%|█████████▊| 1313/1337 [02:37<00:02,  8.28it/s]"
     ]
    },
    {
     "name": "stdout",
     "output_type": "stream",
     "text": [
      "\u001b[93m[INFO]: Avoiding saving mask戴口罩_147.jpg: already in the destination folder ...\u001b[0m\n",
      "\u001b[93m[INFO]: Avoiding saving mask戴口罩_184.jpg: already in the destination folder ...\u001b[0m\n"
     ]
    },
    {
     "name": "stderr",
     "output_type": "stream",
     "text": [
      " 99%|█████████▊| 1318/1337 [02:38<00:03,  5.12it/s]"
     ]
    },
    {
     "name": "stdout",
     "output_type": "stream",
     "text": [
      "\u001b[93m[INFO]: Avoiding saving 00100pic.jpg: already in the destination folder ...\u001b[0m\n",
      "\u001b[93m[INFO]: Avoiding saving 00100pic.jpg: already in the destination folder ...\u001b[0m\n",
      "\u001b[93m[INFO]: Avoiding saving 00172image.jpg: already in the destination folder ...\u001b[0m\n",
      "\u001b[93m[INFO]: Avoiding saving 00314image.jpg: already in the destination folder ...\u001b[0m\n"
     ]
    },
    {
     "name": "stderr",
     "output_type": "stream",
     "text": [
      " 99%|█████████▉| 1322/1337 [02:39<00:01,  7.55it/s]"
     ]
    },
    {
     "name": "stdout",
     "output_type": "stream",
     "text": [
      "\u001b[93m[INFO]: Avoiding saving 00254image.jpg: already in the destination folder ...\u001b[0m\n",
      "\u001b[93m[INFO]: Avoiding saving mask戴口罩_40.jpg: already in the destination folder ...\u001b[0m\n"
     ]
    },
    {
     "name": "stderr",
     "output_type": "stream",
     "text": [
      " 99%|█████████▉| 1325/1337 [02:39<00:01,  9.05it/s]"
     ]
    },
    {
     "name": "stdout",
     "output_type": "stream",
     "text": [
      "\u001b[93m[INFO]: Avoiding saving mask戴口罩_54.jpg: already in the destination folder ...\u001b[0m\n"
     ]
    },
    {
     "name": "stderr",
     "output_type": "stream",
     "text": [
      " 99%|█████████▉| 1327/1337 [02:39<00:01,  6.69it/s]"
     ]
    },
    {
     "name": "stdout",
     "output_type": "stream",
     "text": [
      "\u001b[93m[INFO]: Avoiding saving 00071pic.jpg: already in the destination folder ...\u001b[0m\n",
      "\u001b[93m[INFO]: Avoiding saving 00071pic.jpg: already in the destination folder ...\u001b[0m\n",
      "\u001b[93m[INFO]: Avoiding saving 91.jpg: already in the destination folder ...\u001b[0m\n"
     ]
    },
    {
     "name": "stderr",
     "output_type": "stream",
     "text": [
      "100%|█████████▉| 1332/1337 [02:40<00:00,  9.87it/s]"
     ]
    },
    {
     "name": "stdout",
     "output_type": "stream",
     "text": [
      "\u001b[93m[INFO]: Avoiding saving 00161mask.jpg: already in the destination folder ...\u001b[0m\n",
      "\u001b[93m[INFO]: Avoiding saving mask戴口罩_219.jpg: already in the destination folder ...\u001b[0m\n",
      "\u001b[93m[INFO]: Avoiding saving mask戴口罩_219.jpg: already in the destination folder ...\u001b[0m\n",
      "\u001b[93m[INFO]: Avoiding saving mask戴口罩_219.jpg: already in the destination folder ...\u001b[0m\n"
     ]
    },
    {
     "name": "stderr",
     "output_type": "stream",
     "text": [
      "100%|██████████| 1337/1337 [02:40<00:00,  8.33it/s]"
     ]
    },
    {
     "name": "stdout",
     "output_type": "stream",
     "text": [
      "\u001b[93m[INFO]: Avoiding saving 00207mask.jpg: already in the destination folder ...\u001b[0m\n"
     ]
    },
    {
     "name": "stderr",
     "output_type": "stream",
     "text": [
      "\n"
     ]
    }
   ],
   "source": [
    "face_cascade = cv2.CascadeClassifier(cv2.data.haarcascades + 'haarcascade_frontalface_default.xml')\n",
    "for filename in tqdm(os.listdir(IMAGES_DIR)):\n",
    "    if os.path.isdir(IMAGES_DIR+filename) or filename == '.DS_Store':\n",
    "        print(f'{bcolors.WARNING}[INFO]: Skipping {filename}: is a directory ...{bcolors.RESET}')\n",
    "        continue\n",
    "    img = cv2.imread(IMAGES_DIR+filename)\n",
    "    try: \n",
    "        gray = cv2.cvtColor(img, cv2.COLOR_BGR2GRAY)\n",
    "    except:\n",
    "        print(f'{bcolors.FAIL}[ERROR]: Unable to call cv2.cvtColor for {filename}...{bcolors.RESET}')\n",
    "        continue\n",
    "    faces = face_cascade.detectMultiScale(gray, 1.1, 4)\n",
    "    for (x, y, w, h) in faces:\n",
    "        faces = img[y:y + h, x:x + w]\n",
    "        new_filename = CROPPED_DIR+filename+'-face.jpeg'\n",
    "        if os.path.isfile(new_filename):\n",
    "            print(f'{bcolors.WARNING}[INFO]: Avoiding saving {filename}: already in the destination folder ...{bcolors.RESET}')\n",
    "            continue\n",
    "        cv2.imwrite(new_filename, faces)"
   ]
  },
  {
   "cell_type": "code",
   "execution_count": null,
   "id": "3464d84a-ab90-4780-95b7-5024f018144a",
   "metadata": {},
   "outputs": [],
   "source": []
  },
  {
   "cell_type": "code",
   "execution_count": null,
   "id": "dfec9798-70f9-4176-9d4e-199e4fe37b95",
   "metadata": {},
   "outputs": [],
   "source": []
  },
  {
   "cell_type": "code",
   "execution_count": null,
   "id": "f43da89d-e5be-4257-a00f-dd0380c59dd0",
   "metadata": {},
   "outputs": [],
   "source": []
  }
 ],
 "metadata": {
  "kernelspec": {
   "display_name": "computer-vision",
   "language": "python",
   "name": "computer-vision"
  },
  "language_info": {
   "codemirror_mode": {
    "name": "ipython",
    "version": 3
   },
   "file_extension": ".py",
   "mimetype": "text/x-python",
   "name": "python",
   "nbconvert_exporter": "python",
   "pygments_lexer": "ipython3",
   "version": "3.9.5"
  }
 },
 "nbformat": 4,
 "nbformat_minor": 5
}
