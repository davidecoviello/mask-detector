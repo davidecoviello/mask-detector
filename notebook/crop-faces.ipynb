{
 "cells": [
  {
   "cell_type": "code",
   "execution_count": 44,
   "id": "6423f157-faa6-4598-b517-2d82e19b9729",
   "metadata": {},
   "outputs": [],
   "source": [
    "import os\n",
    "import cv2\n",
    "import shutil\n",
    "import PIL\n",
    "import random\n",
    "from pathlib import Path\n",
    "from PIL import Image\n",
    "from tqdm import tqdm\n",
    "import tensorflow as tf\n",
    "from tensorflow import keras\n",
    "from sklearn.metrics import classification_report,confusion_matrix\n",
    "import numpy as np\n",
    "import matplotlib.pyplot as plt"
   ]
  },
  {
   "cell_type": "raw",
   "id": "6b3117e1-1caa-4378-af9f-485f659efaf6",
   "metadata": {},
   "source": [
    "1. Ritagliare volto su ogni foto\n",
    "2. Salvare solo volto"
   ]
  },
  {
   "cell_type": "code",
   "execution_count": 57,
   "id": "958cd58a-ebed-4c2b-a0f4-a8dc6b04bf45",
   "metadata": {},
   "outputs": [],
   "source": [
    "BASE_DIR = '../'\n",
    "MODEL_DIR = BASE_DIR+'model/'\n",
    "SOURCE_DIR = BASE_DIR + 'src_data/'\n",
    "NO_MASK_DIRS_2 = [SOURCE_DIR + 'RMFD_part_2/RWMFD_part_2_pro/', SOURCE_DIR + 'RMFD_part_2-1/RWMFD_part_2_pro/',\n",
    "                  SOURCE_DIR + 'RMFD_part_2-2/RWMFD_part_2_pro/', SOURCE_DIR + 'RMFD_part_2-3/RWMFD_part_2_pro/']\n",
    "NO_MASK_DIRS_3 =[SOURCE_DIR + 'RMFD_part_3/single2-0/', SOURCE_DIR + 'RMFD_part_3-1/single2-0/',\n",
    "                SOURCE_DIR + 'RMFD_part_3-2/single2-0/']\n",
    "DATASET_DIR = BASE_DIR + 'dataset/'\n",
    "\n",
    "DATA_DIR = Path(DATASET_DIR)\n",
    "IMG_HEIGHT = 256\n",
    "IMG_WIDTH = 256"
   ]
  },
  {
   "cell_type": "code",
   "execution_count": 4,
   "id": "7fb0e01b-294c-4db8-881a-54da814a0235",
   "metadata": {},
   "outputs": [],
   "source": [
    "def get_face(img, x, y, w, h) -> Image.Image: \n",
    "    crop_img = img[y:y+h, x:x+w]\n",
    "    rgb_img = cv2.cvtColor(crop_img, cv2.COLOR_BGR2RGB)\n",
    "    pil_img = Image.fromarray(rgb_img)\n",
    "    return pil_img"
   ]
  },
  {
   "cell_type": "code",
   "execution_count": 15,
   "id": "5e56f962-effb-4af2-a3b3-de1cfbc5fa2b",
   "metadata": {},
   "outputs": [],
   "source": [
    "Path(DATASET_DIR).mkdir(parents=True, exist_ok=True)\n",
    "Path(DATASET_DIR+'correctly-masked-real').mkdir(parents=True, exist_ok=True)\n",
    "Path(DATASET_DIR+'correctly-masked-crop').mkdir(parents=True, exist_ok=True)"
   ]
  },
  {
   "cell_type": "code",
   "execution_count": 26,
   "id": "b87fab30-e1ab-4d81-bd2c-a87fffeb5031",
   "metadata": {},
   "outputs": [
    {
     "name": "stderr",
     "output_type": "stream",
     "text": [
      "100%|██████████| 190/190 [00:00<00:00, 412.33it/s]\n",
      "100%|██████████| 366/366 [00:01<00:00, 292.41it/s]\n",
      "100%|██████████| 536/536 [00:01<00:00, 283.66it/s]\n",
      "100%|██████████| 394/394 [00:01<00:00, 282.80it/s]\n"
     ]
    }
   ],
   "source": [
    "try:\n",
    "    os.remove(NO_MASK_DIR_2 + '.DS_Store')\n",
    "except:\n",
    "    pass\n",
    "for no_mask_dir in NO_MASK_DIRS_2:\n",
    "    for subdir in tqdm(os.listdir(no_mask_dir)):\n",
    "        full_subdir = no_mask_dir + subdir + '/'\n",
    "        new_name_prefix = full_subdir + subdir\n",
    "        [shutil.copy(full_subdir + image, DATASET_DIR+'correctly-masked-real/'+image) for image in os.listdir(full_subdir)]"
   ]
  },
  {
   "cell_type": "code",
   "execution_count": 41,
   "id": "1467d8a3-654d-4754-9a78-c8081586c813",
   "metadata": {
    "scrolled": true,
    "tags": []
   },
   "outputs": [
    {
     "name": "stderr",
     "output_type": "stream",
     "text": [
      " 60%|██████    | 2276/3773 [00:29<00:19, 76.27it/s]\n"
     ]
    },
    {
     "ename": "error",
     "evalue": "OpenCV(4.5.2) /private/var/folders/24/8k48jl6d249_n_qfxwsl6xvm0000gn/T/pip-req-build-2fjztvm5/opencv/modules/imgproc/src/color.cpp:182: error: (-215:Assertion failed) !_src.empty() in function 'cvtColor'\n",
     "output_type": "error",
     "traceback": [
      "\u001b[0;31m---------------------------------------------------------------------------\u001b[0m",
      "\u001b[0;31merror\u001b[0m                                     Traceback (most recent call last)",
      "\u001b[0;32m<ipython-input-41-ff3cd602a8f5>\u001b[0m in \u001b[0;36m<module>\u001b[0;34m\u001b[0m\n\u001b[1;32m      3\u001b[0m \u001b[0;32mfor\u001b[0m \u001b[0mimage\u001b[0m \u001b[0;32min\u001b[0m \u001b[0mtqdm\u001b[0m\u001b[0;34m(\u001b[0m\u001b[0mos\u001b[0m\u001b[0;34m.\u001b[0m\u001b[0mlistdir\u001b[0m\u001b[0;34m(\u001b[0m\u001b[0mDATASET_DIR\u001b[0m\u001b[0;34m+\u001b[0m\u001b[0;34m'not-masked-real'\u001b[0m\u001b[0;34m)\u001b[0m\u001b[0;34m)\u001b[0m\u001b[0;34m:\u001b[0m\u001b[0;34m\u001b[0m\u001b[0;34m\u001b[0m\u001b[0m\n\u001b[1;32m      4\u001b[0m     \u001b[0mimg\u001b[0m \u001b[0;34m=\u001b[0m \u001b[0mcv2\u001b[0m\u001b[0;34m.\u001b[0m\u001b[0mimread\u001b[0m\u001b[0;34m(\u001b[0m\u001b[0mDATASET_DIR\u001b[0m\u001b[0;34m+\u001b[0m\u001b[0;34m'not-masked-real/'\u001b[0m\u001b[0;34m+\u001b[0m\u001b[0mimage\u001b[0m\u001b[0;34m)\u001b[0m\u001b[0;34m\u001b[0m\u001b[0;34m\u001b[0m\u001b[0m\n\u001b[0;32m----> 5\u001b[0;31m     \u001b[0mgray\u001b[0m \u001b[0;34m=\u001b[0m \u001b[0mcv2\u001b[0m\u001b[0;34m.\u001b[0m\u001b[0mcvtColor\u001b[0m\u001b[0;34m(\u001b[0m\u001b[0mimg\u001b[0m\u001b[0;34m,\u001b[0m \u001b[0mcv2\u001b[0m\u001b[0;34m.\u001b[0m\u001b[0mCOLOR_BGR2GRAY\u001b[0m\u001b[0;34m)\u001b[0m\u001b[0;34m\u001b[0m\u001b[0;34m\u001b[0m\u001b[0m\n\u001b[0m\u001b[1;32m      6\u001b[0m     \u001b[0mfaces\u001b[0m \u001b[0;34m=\u001b[0m \u001b[0mface_cascade\u001b[0m\u001b[0;34m.\u001b[0m\u001b[0mdetectMultiScale\u001b[0m\u001b[0;34m(\u001b[0m\u001b[0mgray\u001b[0m\u001b[0;34m,\u001b[0m \u001b[0;36m1.1\u001b[0m\u001b[0;34m,\u001b[0m \u001b[0;36m4\u001b[0m\u001b[0;34m)\u001b[0m\u001b[0;34m\u001b[0m\u001b[0;34m\u001b[0m\u001b[0m\n\u001b[1;32m      7\u001b[0m     \u001b[0;32mfor\u001b[0m \u001b[0;34m(\u001b[0m\u001b[0mx\u001b[0m\u001b[0;34m,\u001b[0m \u001b[0my\u001b[0m\u001b[0;34m,\u001b[0m \u001b[0mw\u001b[0m\u001b[0;34m,\u001b[0m \u001b[0mh\u001b[0m\u001b[0;34m)\u001b[0m \u001b[0;32min\u001b[0m \u001b[0mfaces\u001b[0m\u001b[0;34m:\u001b[0m\u001b[0;34m\u001b[0m\u001b[0;34m\u001b[0m\u001b[0m\n",
      "\u001b[0;31merror\u001b[0m: OpenCV(4.5.2) /private/var/folders/24/8k48jl6d249_n_qfxwsl6xvm0000gn/T/pip-req-build-2fjztvm5/opencv/modules/imgproc/src/color.cpp:182: error: (-215:Assertion failed) !_src.empty() in function 'cvtColor'\n"
     ]
    }
   ],
   "source": [
    "# crop images\n",
    "face_cascade = cv2.CascadeClassifier(cv2.data.haarcascades + 'haarcascade_frontalface_default.xml')\n",
    "for image in tqdm(os.listdir(DATASET_DIR+'correctly-masked-real')):\n",
    "    img = cv2.imread(DATASET_DIR+'correctly-masked-real/'+image)\n",
    "    gray = cv2.cvtColor(img, cv2.COLOR_BGR2GRAY)\n",
    "    faces = face_cascade.detectMultiScale(gray, 1.1, 4)\n",
    "    for (x, y, w, h) in faces:\n",
    "        faces = img[y:y + h, x:x + w]\n",
    "        image_name = DATASET_DIR+'correctly-masked-crop/'+image+'-face.jpeg'\n",
    "        cv2.imwrite(image_name, faces)"
   ]
  },
  {
   "cell_type": "code",
   "execution_count": 48,
   "id": "11fbb29a-e255-474a-b36b-20a8ca7ca3e6",
   "metadata": {},
   "outputs": [
    {
     "name": "stdout",
     "output_type": "stream",
     "text": [
      "[INFO] - processing class directory  correctly-masked\n",
      "[INFO] - processing class directory  not-masked-crop\n",
      "[INFO] - processing class directory  not-masked\n",
      "[INFO] - processing class directory  incorrectly-masked\n",
      "[INFO] - processing class directory  not-masked-real\n"
     ]
    },
    {
     "ename": "UnidentifiedImageError",
     "evalue": "cannot identify image file '../dataset/not-masked-real/0041500415011.jpg'",
     "output_type": "error",
     "traceback": [
      "\u001b[0;31m---------------------------------------------------------------------------\u001b[0m",
      "\u001b[0;31mUnidentifiedImageError\u001b[0m                    Traceback (most recent call last)",
      "\u001b[0;32m<ipython-input-48-26d8d6de0ce8>\u001b[0m in \u001b[0;36m<module>\u001b[0;34m\u001b[0m\n\u001b[1;32m     25\u001b[0m \u001b[0msource_dir\u001b[0m \u001b[0;34m=\u001b[0m\u001b[0;34mr\"{}\"\u001b[0m\u001b[0;34m.\u001b[0m\u001b[0mformat\u001b[0m\u001b[0;34m(\u001b[0m\u001b[0mDATASET_DIR\u001b[0m\u001b[0;34m)\u001b[0m\u001b[0;34m\u001b[0m\u001b[0;34m\u001b[0m\u001b[0m\n\u001b[1;32m     26\u001b[0m \u001b[0mos\u001b[0m\u001b[0;34m.\u001b[0m\u001b[0mremove\u001b[0m\u001b[0;34m(\u001b[0m\u001b[0mDATASET_DIR\u001b[0m \u001b[0;34m+\u001b[0m \u001b[0;34m'.DS_Store'\u001b[0m\u001b[0;34m)\u001b[0m\u001b[0;34m\u001b[0m\u001b[0;34m\u001b[0m\u001b[0m\n\u001b[0;32m---> 27\u001b[0;31m \u001b[0mconvert_images_to_jpeg\u001b[0m\u001b[0;34m(\u001b[0m\u001b[0msource_dir\u001b[0m\u001b[0;34m,\u001b[0m \u001b[0mIMG_WIDTH\u001b[0m\u001b[0;34m,\u001b[0m \u001b[0mIMG_HEIGHT\u001b[0m\u001b[0;34m)\u001b[0m\u001b[0;34m\u001b[0m\u001b[0;34m\u001b[0m\u001b[0m\n\u001b[0m\u001b[1;32m     28\u001b[0m \u001b[0mos\u001b[0m\u001b[0;34m.\u001b[0m\u001b[0mremove\u001b[0m\u001b[0;34m(\u001b[0m\u001b[0mDATASET_DIR\u001b[0m \u001b[0;34m+\u001b[0m \u001b[0;34m'.DS_Store'\u001b[0m\u001b[0;34m)\u001b[0m\u001b[0;34m\u001b[0m\u001b[0;34m\u001b[0m\u001b[0m\n\u001b[1;32m     29\u001b[0m \u001b[0mremove_jpg\u001b[0m\u001b[0;34m(\u001b[0m\u001b[0msource_dir\u001b[0m\u001b[0;34m)\u001b[0m\u001b[0;34m\u001b[0m\u001b[0;34m\u001b[0m\u001b[0m\n",
      "\u001b[0;32m<ipython-input-48-26d8d6de0ce8>\u001b[0m in \u001b[0;36mconvert_images_to_jpeg\u001b[0;34m(s_dir, img_width, img_height)\u001b[0m\n\u001b[1;32m     10\u001b[0m                 \u001b[0mindex\u001b[0m\u001b[0;34m=\u001b[0m\u001b[0mf_path\u001b[0m\u001b[0;34m.\u001b[0m\u001b[0mrfind\u001b[0m\u001b[0;34m(\u001b[0m\u001b[0;34m'.'\u001b[0m\u001b[0;34m)\u001b[0m\u001b[0;34m\u001b[0m\u001b[0;34m\u001b[0m\u001b[0m\n\u001b[1;32m     11\u001b[0m                 \u001b[0mf_path_no_ext\u001b[0m\u001b[0;34m=\u001b[0m\u001b[0mf_path\u001b[0m\u001b[0;34m[\u001b[0m\u001b[0;34m:\u001b[0m\u001b[0mindex\u001b[0m\u001b[0;34m]\u001b[0m\u001b[0;34m.\u001b[0m\u001b[0mlower\u001b[0m\u001b[0;34m(\u001b[0m\u001b[0;34m)\u001b[0m\u001b[0;34m\u001b[0m\u001b[0;34m\u001b[0m\u001b[0m\n\u001b[0;32m---> 12\u001b[0;31m                 \u001b[0mimg\u001b[0m \u001b[0;34m=\u001b[0m \u001b[0mImage\u001b[0m\u001b[0;34m.\u001b[0m\u001b[0mopen\u001b[0m\u001b[0;34m(\u001b[0m\u001b[0mf_path\u001b[0m\u001b[0;34m)\u001b[0m\u001b[0;34m\u001b[0m\u001b[0;34m\u001b[0m\u001b[0m\n\u001b[0m\u001b[1;32m     13\u001b[0m                 \u001b[0mimg\u001b[0m \u001b[0;34m=\u001b[0m \u001b[0mimg\u001b[0m\u001b[0;34m.\u001b[0m\u001b[0mconvert\u001b[0m\u001b[0;34m(\u001b[0m\u001b[0;34m'RGB'\u001b[0m\u001b[0;34m)\u001b[0m\u001b[0;34m\u001b[0m\u001b[0;34m\u001b[0m\u001b[0m\n\u001b[1;32m     14\u001b[0m                 \u001b[0mnewsize\u001b[0m \u001b[0;34m=\u001b[0m \u001b[0;34m(\u001b[0m\u001b[0mimg_width\u001b[0m\u001b[0;34m,\u001b[0m \u001b[0mimg_height\u001b[0m\u001b[0;34m)\u001b[0m\u001b[0;34m\u001b[0m\u001b[0;34m\u001b[0m\u001b[0m\n",
      "\u001b[0;32m~/Documents/Università/VisionePercezione/mask-detector/venv/lib/python3.9/site-packages/PIL/Image.py\u001b[0m in \u001b[0;36mopen\u001b[0;34m(fp, mode, formats)\u001b[0m\n\u001b[1;32m   2965\u001b[0m     \u001b[0;32mfor\u001b[0m \u001b[0mmessage\u001b[0m \u001b[0;32min\u001b[0m \u001b[0maccept_warnings\u001b[0m\u001b[0;34m:\u001b[0m\u001b[0;34m\u001b[0m\u001b[0;34m\u001b[0m\u001b[0m\n\u001b[1;32m   2966\u001b[0m         \u001b[0mwarnings\u001b[0m\u001b[0;34m.\u001b[0m\u001b[0mwarn\u001b[0m\u001b[0;34m(\u001b[0m\u001b[0mmessage\u001b[0m\u001b[0;34m)\u001b[0m\u001b[0;34m\u001b[0m\u001b[0;34m\u001b[0m\u001b[0m\n\u001b[0;32m-> 2967\u001b[0;31m     raise UnidentifiedImageError(\n\u001b[0m\u001b[1;32m   2968\u001b[0m         \u001b[0;34m\"cannot identify image file %r\"\u001b[0m \u001b[0;34m%\u001b[0m \u001b[0;34m(\u001b[0m\u001b[0mfilename\u001b[0m \u001b[0;32mif\u001b[0m \u001b[0mfilename\u001b[0m \u001b[0;32melse\u001b[0m \u001b[0mfp\u001b[0m\u001b[0;34m)\u001b[0m\u001b[0;34m\u001b[0m\u001b[0;34m\u001b[0m\u001b[0m\n\u001b[1;32m   2969\u001b[0m     )\n",
      "\u001b[0;31mUnidentifiedImageError\u001b[0m: cannot identify image file '../dataset/not-masked-real/0041500415011.jpg'"
     ]
    }
   ],
   "source": [
    "def convert_images_to_jpeg(s_dir, img_width, img_height):\n",
    "    s_list= os.listdir(s_dir)\n",
    "    for clazz in s_list:\n",
    "        clazz_path=os.path.join (s_dir, clazz)\n",
    "        print('[INFO] - processing class directory ', clazz)\n",
    "        if os.path.isdir(clazz_path):\n",
    "            file_list=os.listdir(clazz_path)\n",
    "            for f in file_list:               \n",
    "                f_path=os.path.join(clazz_path,f)\n",
    "                index=f_path.rfind('.')\n",
    "                f_path_no_ext=f_path[:index].lower()\n",
    "                img = Image.open(f_path)\n",
    "                img = img.convert('RGB')\n",
    "                newsize = (img_width, img_height)\n",
    "                img = img.resize(newsize)\n",
    "                img.save(f_path_no_ext+'.jpeg')\n",
    "\n",
    "def remove_jpg(s_dir):\n",
    "    s_list= os.listdir(s_dir)\n",
    "    for clazz in s_list:\n",
    "        clazz_path=os.path.join(s_dir, clazz)\n",
    "        print('[INFO] - All .jpg files removed in', clazz_path)\n",
    "        [os.remove(clazz_path+'/'+image) for image in os.listdir(clazz_path) if (clazz_path+'/'+image).endswith('.jpg')]\n",
    "\n",
    "source_dir =r\"{}\".format(DATASET_DIR)\n",
    "os.remove(DATASET_DIR + '.DS_Store')\n",
    "convert_images_to_jpeg(source_dir, IMG_WIDTH, IMG_HEIGHT)\n",
    "os.remove(DATASET_DIR + '.DS_Store')\n",
    "remove_jpg(source_dir)"
   ]
  },
  {
   "cell_type": "code",
   "execution_count": 59,
   "id": "9db2fe3c-5ac8-4122-a6e6-1b03859f4c7a",
   "metadata": {},
   "outputs": [
    {
     "name": "stdout",
     "output_type": "stream",
     "text": [
      "Found 8344 files belonging to 3 classes.\n",
      "[DEBUG] - ds_size: 8344\n",
      "[INFO] - Class names: ['correctly-masked', 'incorrectly-masked', 'not-masked']\n"
     ]
    }
   ],
   "source": [
    "ds = tf.keras.preprocessing.image_dataset_from_directory(\n",
    "    Path(BASE_DIR+'tmp/'),\n",
    "    image_size = (IMG_HEIGHT, IMG_WIDTH),\n",
    "    seed = 123)\n",
    "\n",
    "ds_size = sum(1 for _ in ds.unbatch().take(-1))\n",
    "print(f'[DEBUG] - ds_size: {ds_size}')\n",
    "class_names = ds.class_names\n",
    "ds = ds.shuffle(10000, seed=12)\n",
    "print(f'[INFO] - Class names: {class_names}')"
   ]
  },
  {
   "cell_type": "code",
   "execution_count": 60,
   "id": "53b7c1f2-26b0-4030-ac2c-5a7777e7a8d0",
   "metadata": {},
   "outputs": [
    {
     "name": "stderr",
     "output_type": "stream",
     "text": [
      "8344it [00:17, 467.32it/s] \n"
     ]
    }
   ],
   "source": [
    "x = []\n",
    "y = []\n",
    "for image, label in tqdm(ds.unbatch().take(-1)):\n",
    "    img = image.numpy().astype(\"uint8\")\n",
    "    x.append(img)\n",
    "    label = label.numpy()\n",
    "    y.append(label)\n",
    "    \n",
    "x = np.array(x)\n",
    "y = np.array(y)"
   ]
  },
  {
   "cell_type": "code",
   "execution_count": 62,
   "id": "3ae7a360-3b1c-41e3-bedb-51d12996e188",
   "metadata": {},
   "outputs": [
    {
     "name": "stdout",
     "output_type": "stream",
     "text": [
      "                              precision    recall  f1-score   support\n",
      "\n",
      "  correctly-masked (Class 0)       0.90      0.18      0.30       532\n",
      "        not-masked (Class 1)       0.00      0.00      0.00      5771\n",
      "uncorrectly-masked (Class 2)       0.00      0.00      0.00      2041\n",
      "\n",
      "                    accuracy                           0.01      8344\n",
      "                   macro avg       0.30      0.06      0.10      8344\n",
      "                weighted avg       0.06      0.01      0.02      8344\n",
      "\n"
     ]
    }
   ],
   "source": [
    "# NB: rinominare cartella per avere la label corretta\n",
    "model = keras.models.load_model(MODEL_DIR)\n",
    "predictions = np.argmax(model.predict(x), axis=-1)\n",
    "predictions = predictions.reshape(1,-1)[0]\n",
    "print(classification_report(y, predictions, \n",
    "                            target_names = ['correctly-masked (Class 0)','not-masked (Class 1)', 'uncorrectly-masked (Class 2)']))"
   ]
  },
  {
   "cell_type": "code",
   "execution_count": null,
   "id": "e1a3436e-4b08-4c3b-83e3-2e06fdde804e",
   "metadata": {},
   "outputs": [],
   "source": []
  }
 ],
 "metadata": {
  "kernelspec": {
   "display_name": "computer-vision",
   "language": "python",
   "name": "computer-vision"
  },
  "language_info": {
   "codemirror_mode": {
    "name": "ipython",
    "version": 3
   },
   "file_extension": ".py",
   "mimetype": "text/x-python",
   "name": "python",
   "nbconvert_exporter": "python",
   "pygments_lexer": "ipython3",
   "version": "3.9.5"
  }
 },
 "nbformat": 4,
 "nbformat_minor": 5
}
