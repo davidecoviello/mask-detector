{
 "cells": [
  {
   "cell_type": "code",
   "execution_count": null,
   "id": "68c808f2",
   "metadata": {},
   "outputs": [],
   "source": [
    "import os\n",
    "import cv2\n",
    "import shutil\n",
    "import PIL\n",
    "import random\n",
    "from pathlib import Path\n",
    "from PIL import Image\n",
    "import numpy as np\n",
    "import matplotlib.pyplot as plt"
   ]
  },
  {
   "cell_type": "code",
   "execution_count": null,
   "id": "7edad3c0",
   "metadata": {},
   "outputs": [],
   "source": [
    "BASE_DIR = '../'\n",
    "SOURCE_DIR = BASE_DIR + 'src_data/'\n",
    "NO_MASK_DIR = SOURCE_DIR + 'no_mask/'\n",
    "INCORRECT_MASK_DIR = SOURCE_DIR + 'incorrectly_masked/'\n",
    "CORRECT_MASK_DIR = SOURCE_DIR + 'correctly_masked/'\n",
    "DATASET_DIR = BASE_DIR + 'dataset/'\n",
    "DATA_DIR = Path(DATASET_DIR)\n",
    "IMG_HEIGHT = 256\n",
    "IMG_WIDTH = 256"
   ]
  },
  {
   "cell_type": "code",
   "execution_count": null,
   "id": "c402e5ce",
   "metadata": {
    "scrolled": true,
    "tags": []
   },
   "outputs": [],
   "source": [
    "# create destination directory and subdirectories if not already exist\n",
    "Path(DATASET_DIR).mkdir(parents=True, exist_ok=True)\n",
    "Path(DATASET_DIR+'not-masked').mkdir(parents=True, exist_ok=True)\n",
    "Path(DATASET_DIR+'correctly-masked').mkdir(parents=True, exist_ok=True)\n",
    "Path(DATASET_DIR+'incorrectly-masked').mkdir(parents=True, exist_ok=True)\n",
    "# copy images from source directories to final directory\n",
    "[shutil.copy(NO_MASK_DIR+image, DATASET_DIR+'not-masked/') for image in os.listdir(NO_MASK_DIR)]\n",
    "# in order to have almost the same number of images for each category, only 7 subdirectories will go\n",
    "for subdir in os.listdir(INCORRECT_MASK_DIR)[1:7]:\n",
    "    full_subdir = INCORRECT_MASK_DIR + subdir + '/'\n",
    "    [shutil.copy(full_subdir+image, DATASET_DIR+'incorrectly-masked/') for image in os.listdir(full_subdir)]\n",
    "for subdir in os.listdir(CORRECT_MASK_DIR)[1:7]:\n",
    "    full_subdir = CORRECT_MASK_DIR + subdir + '/'\n",
    "    [shutil.copy(full_subdir+image, DATASET_DIR+'correctly-masked/') for image in os.listdir(full_subdir)]"
   ]
  },
  {
   "cell_type": "code",
   "execution_count": null,
   "id": "59518b2f",
   "metadata": {},
   "outputs": [],
   "source": [
    "def convert_images_to_jpeg(s_dir, img_width, img_height):\n",
    "    s_list= os.listdir(s_dir)\n",
    "    for clazz in s_list:\n",
    "        clazz_path=os.path.join (s_dir, clazz)\n",
    "        print('[INFO] - processing class directory ', clazz)\n",
    "        if os.path.isdir(clazz_path):\n",
    "            file_list=os.listdir(clazz_path)\n",
    "            for f in file_list:               \n",
    "                f_path=os.path.join(clazz_path,f)\n",
    "                index=f_path.rfind('.')\n",
    "                f_path_no_ext=f_path[:index].lower()\n",
    "                img = Image.open(f_path)\n",
    "                img = img.convert('RGB')\n",
    "                newsize = (img_width, img_height)\n",
    "                img = img.resize(newsize)\n",
    "                img.save(f_path_no_ext+'.jpeg')\n",
    "\n",
    "def remove_jpg(s_dir):\n",
    "    s_list= os.listdir(s_dir)\n",
    "    for clazz in s_list:\n",
    "        clazz_path=os.path.join(s_dir, clazz)\n",
    "        print('[INFO] - All .jpg files removed in', clazz_path)\n",
    "        [os.remove(clazz_path+'/'+image) for image in os.listdir(clazz_path) if (clazz_path+'/'+image).endswith('.jpg')]\n",
    "\n",
    "source_dir =r\"{}\".format(DATASET_DIR)\n",
    "os.remove(DATASET_DIR + '.DS_Store')\n",
    "convert_images_to_jpeg(source_dir, IMG_WIDTH, IMG_HEIGHT)\n",
    "os.remove(DATASET_DIR + '.DS_Store')\n",
    "remove_jpg(source_dir)"
   ]
  },
  {
   "cell_type": "code",
   "execution_count": null,
   "id": "008751cc",
   "metadata": {},
   "outputs": [],
   "source": [
    "corr_mask_images = list(DATA_DIR.glob(\"correctly-masked/*\"))\n",
    "PIL.Image.open(str(corr_mask_images[random.randint(0, len(corr_mask_images))]))"
   ]
  },
  {
   "cell_type": "code",
   "execution_count": null,
   "id": "73248753",
   "metadata": {},
   "outputs": [],
   "source": [
    "incorr_mask_images = list(DATA_DIR.glob(\"incorrectly-masked/*\"))\n",
    "PIL.Image.open(str(incorr_mask_images[random.randint(0, len(incorr_mask_images))]))"
   ]
  },
  {
   "cell_type": "code",
   "execution_count": null,
   "id": "6ca0a7af",
   "metadata": {},
   "outputs": [],
   "source": [
    "no_mask_images = list(DATA_DIR.glob(\"not-masked/*\"))\n",
    "PIL.Image.open(str(no_mask_images[random.randint(0, len(no_mask_images))]))"
   ]
  }
 ],
 "metadata": {
  "kernelspec": {
   "display_name": "computer-vision",
   "language": "python",
   "name": "computer-vision"
  },
  "language_info": {
   "codemirror_mode": {
    "name": "ipython",
    "version": 3
   },
   "file_extension": ".py",
   "mimetype": "text/x-python",
   "name": "python",
   "nbconvert_exporter": "python",
   "pygments_lexer": "ipython3",
   "version": "3.9.5"
  }
 },
 "nbformat": 4,
 "nbformat_minor": 5
}
