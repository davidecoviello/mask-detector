{
 "cells": [
  {
   "cell_type": "code",
   "execution_count": null,
   "id": "60b40e77-d90c-4ab4-8bcf-27f5fdd44d33",
   "metadata": {},
   "outputs": [],
   "source": [
    "import os\n",
    "import cv2\n",
    "import shutil\n",
    "import PIL\n",
    "import random\n",
    "from pathlib import Path\n",
    "from PIL import Image\n",
    "from tqdm import tqdm\n",
    "import tensorflow as tf\n",
    "from tensorflow import keras\n",
    "from sklearn.metrics import classification_report,confusion_matrix\n",
    "import numpy as np\n",
    "import matplotlib.pyplot as plt"
   ]
  },
  {
   "cell_type": "code",
   "execution_count": null,
   "id": "426f45be-785f-49fb-9b0d-a4b0ab1eed35",
   "metadata": {},
   "outputs": [],
   "source": [
    "CLASS_NAMES = ['correctly-masked', 'not-masked', 'incorrectly-masked']\n",
    "BASE_DIR = '../'\n",
    "MODEL_DIR = BASE_DIR+'model/'\n",
    "TEST_DIR = BASE_DIR+'test/'\n",
    "IMAGES_DIR = TEST_DIR+'images/labelled-faces/'\n",
    "IMG_HEIGHT = 256\n",
    "IMG_WIDTH = 256"
   ]
  },
  {
   "cell_type": "code",
   "execution_count": null,
   "id": "033cfcb1-28af-4197-8730-f08a5880a8b3",
   "metadata": {},
   "outputs": [],
   "source": [
    "model = keras.models.load_model(MODEL_DIR)"
   ]
  },
  {
   "cell_type": "code",
   "execution_count": null,
   "id": "95d2e72c-9ded-4ad5-9502-5e3858b3e427",
   "metadata": {},
   "outputs": [],
   "source": [
    "ds = tf.keras.preprocessing.image_dataset_from_directory(\n",
    "    Path(IMAGES_DIR),\n",
    "    image_size = (IMG_HEIGHT, IMG_WIDTH),\n",
    "    seed = 123)\n",
    "x = []\n",
    "y = []\n",
    "for image, label in tqdm(ds.unbatch().take(-1)):\n",
    "    img = image.numpy().astype(\"uint8\")\n",
    "    x.append(img)\n",
    "    label = label.numpy()\n",
    "    y.append(label)\n",
    "\n",
    "x = np.array(x)\n",
    "y = np.array(y)"
   ]
  },
  {
   "cell_type": "code",
   "execution_count": null,
   "id": "d55cd459-39ac-40e1-91f9-e7e230b670a5",
   "metadata": {},
   "outputs": [],
   "source": [
    "predictions = np.argmax(model.predict(x), axis=-1)\n",
    "predictions = predictions.reshape(1,-1)[0]\n",
    "print(classification_report(y, predictions, \n",
    "                            target_names = ['correctly-masked (Class 0)','not-masked (Class 1)', 'incorrectly-masked (Class 2)']))"
   ]
  }
 ],
 "metadata": {
  "kernelspec": {
   "display_name": "computer-vision",
   "language": "python",
   "name": "computer-vision"
  },
  "language_info": {
   "codemirror_mode": {
    "name": "ipython",
    "version": 3
   },
   "file_extension": ".py",
   "mimetype": "text/x-python",
   "name": "python",
   "nbconvert_exporter": "python",
   "pygments_lexer": "ipython3",
   "version": "3.9.5"
  }
 },
 "nbformat": 4,
 "nbformat_minor": 5
}
