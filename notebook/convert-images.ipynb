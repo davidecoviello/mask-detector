{
 "cells": [
  {
   "cell_type": "code",
   "execution_count": null,
   "id": "f76402af-1a7c-4399-aebb-6ada8580700f",
   "metadata": {},
   "outputs": [],
   "source": [
    "import os\n",
    "import cv2\n",
    "import shutil\n",
    "import PIL\n",
    "import random\n",
    "from pathlib import Path\n",
    "from PIL import Image\n",
    "import numpy as np\n",
    "import matplotlib.pyplot as plt"
   ]
  },
  {
   "cell_type": "code",
   "execution_count": null,
   "id": "a4ac6399-addb-4992-8fee-b23119bb1343",
   "metadata": {},
   "outputs": [],
   "source": [
    "def convert_images_to_jpeg(s_dir, img_width, img_height):\n",
    "    s_list= os.listdir(s_dir)\n",
    "    for clazz in s_list:\n",
    "        clazz_path=os.path.join (s_dir, clazz)\n",
    "        print('[INFO] - processing class directory ', clazz)\n",
    "        if os.path.isdir(clazz_path):\n",
    "            file_list=os.listdir(clazz_path)\n",
    "            for f in file_list:               \n",
    "                f_path=os.path.join(clazz_path,f)\n",
    "                index=f_path.rfind('.')\n",
    "                f_path_no_ext=f_path[:index].lower()\n",
    "                img = Image.open(f_path)\n",
    "                img = img.convert('RGB')\n",
    "                newsize = (img_width, img_height)\n",
    "                img = img.resize(newsize)\n",
    "                img.save(f_path_no_ext+'.jpeg')\n",
    "\n",
    "def remove_jpg(s_dir):\n",
    "    s_list= os.listdir(s_dir)\n",
    "    for clazz in s_list:\n",
    "        clazz_path=os.path.join(s_dir, clazz)\n",
    "        print('[INFO] - All .jpg files removed in', clazz_path)\n",
    "        [os.remove(clazz_path+'/'+image) for image in os.listdir(clazz_path) if (clazz_path+'/'+image).endswith('.jpg')]"
   ]
  },
  {
   "cell_type": "code",
   "execution_count": null,
   "id": "ea040878-f288-4d84-9b82-c9ca95504a48",
   "metadata": {},
   "outputs": [],
   "source": [
    "target_dirs = '../test/images/labelled-faces/'\n",
    "\n",
    "source_dir =r\"{}\".format(target_dirs)\n",
    "try:\n",
    "    os.remove(target_dirs + '.DS_Store')\n",
    "except:\n",
    "    pass\n",
    "convert_images_to_jpeg(source_dir, 256, 256)\n",
    "try:\n",
    "    os.remove(target_dirs + '.DS_Store')\n",
    "except:\n",
    "    pass\n",
    "remove_jpg(source_dir)"
   ]
  }
 ],
 "metadata": {
  "kernelspec": {
   "display_name": "computer-vision",
   "language": "python",
   "name": "computer-vision"
  },
  "language_info": {
   "codemirror_mode": {
    "name": "ipython",
    "version": 3
   },
   "file_extension": ".py",
   "mimetype": "text/x-python",
   "name": "python",
   "nbconvert_exporter": "python",
   "pygments_lexer": "ipython3",
   "version": "3.9.5"
  }
 },
 "nbformat": 4,
 "nbformat_minor": 5
}
