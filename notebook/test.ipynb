{
 "cells": [
  {
   "cell_type": "code",
   "execution_count": 2,
   "id": "cd79df8a-2621-42e2-99d8-d7ca0885a329",
   "metadata": {},
   "outputs": [],
   "source": [
    "import os\n",
    "import cv2\n",
    "import shutil\n",
    "import PIL\n",
    "import random\n",
    "from pathlib import Path\n",
    "from PIL import Image\n",
    "from tqdm import tqdm\n",
    "import tensorflow as tf\n",
    "from tensorflow import keras\n",
    "from sklearn.metrics import classification_report,confusion_matrix\n",
    "import numpy as np\n",
    "import matplotlib.pyplot as plt"
   ]
  },
  {
   "cell_type": "code",
   "execution_count": 38,
   "id": "f06c82a5-a6ab-4ae4-b98f-025c0bd1f9a6",
   "metadata": {},
   "outputs": [],
   "source": [
    "BASE_DIR = '../'\n",
    "MODEL_DIR = BASE_DIR+'model/'\n",
    "IMAGES_DIR = BASE_DIR+'test/'\n",
    "PREDICTIONS_DIR = BASE_DIR+'predictions/'\n",
    "IMG_HEIGHT = 256\n",
    "IMG_WIDTH = 256\n",
    "CLASS_NAMES = ['correctly-masked', 'incorrectly-masked', 'not-masked']"
   ]
  },
  {
   "cell_type": "code",
   "execution_count": 3,
   "id": "eb6b4158-9c9e-41a0-a4ac-c091d2a46ba0",
   "metadata": {},
   "outputs": [],
   "source": [
    "model = keras.models.load_model(MODEL_DIR)"
   ]
  },
  {
   "cell_type": "code",
   "execution_count": 28,
   "id": "294921f0-2a67-400d-8196-ae860c997966",
   "metadata": {},
   "outputs": [
    {
     "name": "stderr",
     "output_type": "stream",
     "text": [
      "20it [00:00, 199.41it/s]"
     ]
    },
    {
     "name": "stdout",
     "output_type": "stream",
     "text": [
      "Found 532 files belonging to 1 classes.\n"
     ]
    },
    {
     "name": "stderr",
     "output_type": "stream",
     "text": [
      "532it [00:00, 1219.95it/s]\n"
     ]
    }
   ],
   "source": [
    "predict_dir = IMAGES_DIR\n",
    "predict_ds = tf.keras.preprocessing.image_dataset_from_directory(\n",
    "    predict_dir,\n",
    "    image_size = (IMG_HEIGHT, IMG_WIDTH),\n",
    "    seed = 123)\n",
    "x_pred = []\n",
    "for image, label in tqdm(predict_ds.unbatch().take(-1)):\n",
    "    img = image.numpy().astype(\"uint8\")\n",
    "    x_pred.append(img)\n",
    "\n",
    "x_pred = np.array(x_pred)\n",
    "\n",
    "predictions = np.argmax(model.predict(x_pred), axis=-1)\n",
    "predictions = predictions.reshape(1,-1)[0]"
   ]
  },
  {
   "cell_type": "code",
   "execution_count": 52,
   "id": "ec7c7822-8780-418f-8c32-5070de0983ce",
   "metadata": {},
   "outputs": [],
   "source": [
    "[Path(PREDICTIONS_DIR+clazz).mkdir(parents=True, exist_ok=True) for clazz in CLASS_NAMES]\n",
    "for i in range(len(predictions)):\n",
    "    img = Image.fromarray(x_pred[i])\n",
    "    dest_dir = PREDICTIONS_DIR+CLASS_NAMES[predictions[i]] + '/'\n",
    "    fname = dest_dir + str(i) + '.jpeg'\n",
    "    img.save(fname)"
   ]
  }
 ],
 "metadata": {
  "kernelspec": {
   "display_name": "computer-vision",
   "language": "python",
   "name": "computer-vision"
  },
  "language_info": {
   "codemirror_mode": {
    "name": "ipython",
    "version": 3
   },
   "file_extension": ".py",
   "mimetype": "text/x-python",
   "name": "python",
   "nbconvert_exporter": "python",
   "pygments_lexer": "ipython3",
   "version": "3.9.5"
  }
 },
 "nbformat": 4,
 "nbformat_minor": 5
}
